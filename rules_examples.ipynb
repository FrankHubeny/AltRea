{
 "cells": [
  {
   "cell_type": "markdown",
   "id": "72708f08-8615-4594-8c3b-ccb96f46293c",
   "metadata": {},
   "source": [
    "# Examples for code docs\n",
    "\n",
    "A. [Basic Functionality](#basicfunctionality)\n",
    "\n",
    "1. [Axiom](#axiom)\n",
    "\n",
    "2. [Definition](#definition)\n",
    "\n",
    "3. [Entailment](#entailment)\n",
    "\n",
    "4. [Goal](#goal)\n",
    "\n",
    "5. [Hypothesis](#hypothesis)\n",
    "\n",
    "6. [Implication Introduction](#implication_intro)\n",
    "\n",
    "7. [Item](#item)\n",
    "\n",
    "8. [Necessary Introduction](#necessaryintro)\n",
    "\n",
    "9. [Open/Close Subproof](#openclosesubproof)\n",
    "\n",
    "10. [Open/Close Strict Subproof](#openclosestrictsubproof)\n",
    "\n",
    "11. [Premise](#premise)\n",
    "\n",
    "12. [Proposition](#proposition)\n",
    "\n",
    "13. [Reiterate](#reiterate)\n",
    "\n",
    "14. [Rule](#rule)\n",
    "\n",
    "15. [Set Logic](#setlogic)\n",
    "\n",
    "B. [Axiomatic Rules](#axiomatic)\n",
    "\n",
    "1. [Modus Ponens](#modusponens)\n",
    "\n",
    "2. [Substitution](#substitution)\n",
    "\n",
    "C. [Database Processing](#database)\n",
    "\n",
    "1. [Create/Delete Logic](#logicdb)\n",
    "\n",
    "2. [Logics](#logicsdb)\n",
    "\n",
    "3. [Axioms](#axiomsdb)\n",
    "\n",
    "4. [Definitions](#definitionsdb)\n",
    "    \n",
    "5. [Lemmas](#lemmasdb)\n",
    "\n",
    "6. [Rules](#rulesdb)\n",
    "\n",
    "D. [Utilities](#utilities)\n",
    "\n",
    "1. [This Proof](#thisproof)\n",
    "\n",
    "2. [Truth Table](#truthtable)\n",
    "\n",
    "3. [Write Proof](#writeproof)\n"
   ]
  },
  {
   "cell_type": "markdown",
   "id": "54bdd854-3837-4658-8416-a7e52278b861",
   "metadata": {},
   "source": [
    "<a id=\"basicfunctionality\"></a>\n",
    "# Basic Functionality"
   ]
  },
  {
   "cell_type": "markdown",
   "id": "02ec1048-1a79-44dc-94e6-b272fcbd4045",
   "metadata": {},
   "source": [
    "<a id=\"axiom\"></a>\n",
    "## Axiom"
   ]
  },
  {
   "cell_type": "code",
   "execution_count": 3,
   "id": "88a09b4a-7d0b-47a5-a53a-6b70f9e18e1b",
   "metadata": {},
   "outputs": [
    {
     "data": {
      "text/html": [
       "<table border=\"1\" class=\"dataframe\">\n",
       "  <thead>\n",
       "    <tr style=\"text-align: right;\">\n",
       "      <th style=\"text-align:center\"></th>\n",
       "      <th style=\"text-align:center\">Item</th>\n",
       "      <th style=\"text-align:center\">Rule</th>\n",
       "      <th style=\"text-align:center\">Comment</th>\n",
       "    </tr>\n",
       "  </thead>\n",
       "  <tbody>\n",
       "    <tr>\n",
       "      <th style=\"text-align:center\"></th>\n",
       "      <td style=\"text-align:left\">A</td>\n",
       "      <td style=\"text-align:left\">GOAL</td>\n",
       "      <td style=\"text-align:left\"></td>\n",
       "    </tr>\n",
       "    <tr>\n",
       "      <th style=\"text-align:center\">1</th>\n",
       "      <td style=\"text-align:left\">A | ~A</td>\n",
       "      <td style=\"text-align:left\">LEM</td>\n",
       "      <td style=\"text-align:left\"></td>\n",
       "    </tr>\n",
       "  </tbody>\n",
       "</table>"
      ],
      "text/plain": [
       "<IPython.core.display.HTML object>"
      ]
     },
     "metadata": {},
     "output_type": "display_data"
    }
   ],
   "source": [
    "# Use the law of the excluded middle default axiom\n",
    "\n",
    "from IPython.display import display, HTML\n",
    "import pandas as pd\n",
    "pd.options.display.max_colwidth=500\n",
    "\n",
    "from altrea.wffs import Wff, Or\n",
    "from altrea.rules import Proof\n",
    "\n",
    "prf = Proof()\n",
    "prf.setrestricted(False)\n",
    "A = prf.proposition(\"A\")\n",
    "prf.setlogic()\n",
    "\n",
    "prf.goal(A)\n",
    "prf.axiom(\"lem\", [A], [])\n",
    "\n",
    "prf.thisproof(latex=0, short=1, html=False)\n"
   ]
  },
  {
   "cell_type": "code",
   "execution_count": 1,
   "id": "1d818c42-476c-4b98-9e21-565a4daea021",
   "metadata": {},
   "outputs": [
    {
     "data": {
      "text/html": [
       "<div>\n",
       "<style scoped>\n",
       "    .dataframe tbody tr th:only-of-type {\n",
       "        vertical-align: middle;\n",
       "    }\n",
       "\n",
       "    .dataframe tbody tr th {\n",
       "        vertical-align: top;\n",
       "    }\n",
       "\n",
       "    .dataframe thead th {\n",
       "        text-align: right;\n",
       "    }\n",
       "</style>\n",
       "<table border=\"1\" class=\"dataframe\">\n",
       "  <thead>\n",
       "    <tr style=\"text-align: right;\">\n",
       "      <th></th>\n",
       "      <th>Axioms</th>\n",
       "      <th>Description</th>\n",
       "    </tr>\n",
       "  </thead>\n",
       "  <tbody>\n",
       "    <tr>\n",
       "      <th>explosion</th>\n",
       "      <td>{α, ~α}  ⊢  β</td>\n",
       "      <td>Explosion</td>\n",
       "    </tr>\n",
       "    <tr>\n",
       "      <th>dneg intro</th>\n",
       "      <td>{α}  ⊢  ~~α</td>\n",
       "      <td>Double Negation Introduction</td>\n",
       "    </tr>\n",
       "    <tr>\n",
       "      <th>dneg elim</th>\n",
       "      <td>{~~α}  ⊢  α</td>\n",
       "      <td>Double Negation Elimination</td>\n",
       "    </tr>\n",
       "    <tr>\n",
       "      <th>lem</th>\n",
       "      <td>⊢  α | ~α</td>\n",
       "      <td>Law of Excluded Middle</td>\n",
       "    </tr>\n",
       "    <tr>\n",
       "      <th>wlem</th>\n",
       "      <td>⊢  ~α | ~~α</td>\n",
       "      <td>Weak Law of Excluded Middle</td>\n",
       "    </tr>\n",
       "    <tr>\n",
       "      <th>or to not and</th>\n",
       "      <td>{α | β}  ⊢  ~α &amp; ~β</td>\n",
       "      <td>De Morgan Or To Not-And</td>\n",
       "    </tr>\n",
       "    <tr>\n",
       "      <th>not and to or</th>\n",
       "      <td>{~α &amp; ~β}  ⊢  α | β</td>\n",
       "      <td>De Morgan Not-And To Or</td>\n",
       "    </tr>\n",
       "    <tr>\n",
       "      <th>and to not or</th>\n",
       "      <td>{α &amp; β}  ⊢  ~α | ~β</td>\n",
       "      <td>De Morgan And To Not-Or</td>\n",
       "    </tr>\n",
       "    <tr>\n",
       "      <th>not or to and</th>\n",
       "      <td>{~α | ~β}  ⊢  α &amp; β</td>\n",
       "      <td>De Morgan Not-Or To And</td>\n",
       "    </tr>\n",
       "    <tr>\n",
       "      <th>modus ponens</th>\n",
       "      <td>{α, α ⊃ β}  ⊢  β</td>\n",
       "      <td>Given A and A &gt; B Derive B</td>\n",
       "    </tr>\n",
       "  </tbody>\n",
       "</table>\n",
       "</div>"
      ],
      "text/plain": [
       "                            Axioms                   Description\n",
       "explosion            {α, ~α}  ⊢  β                     Explosion\n",
       "dneg intro             {α}  ⊢  ~~α  Double Negation Introduction\n",
       "dneg elim              {~~α}  ⊢  α   Double Negation Elimination\n",
       "lem                      ⊢  α | ~α        Law of Excluded Middle\n",
       "wlem                   ⊢  ~α | ~~α   Weak Law of Excluded Middle\n",
       "or to not and  {α | β}  ⊢  ~α & ~β       De Morgan Or To Not-And\n",
       "not and to or  {~α & ~β}  ⊢  α | β       De Morgan Not-And To Or\n",
       "and to not or  {α & β}  ⊢  ~α | ~β       De Morgan And To Not-Or\n",
       "not or to and  {~α | ~β}  ⊢  α & β       De Morgan Not-Or To And\n",
       "modus ponens      {α, α ⊃ β}  ⊢  β    Given A and A > B Derive B"
      ]
     },
     "execution_count": 1,
     "metadata": {},
     "output_type": "execute_result"
    }
   ],
   "source": [
    "# Display the available axioms\n",
    "\n",
    "from IPython.display import display, HTML\n",
    "\n",
    "import pandas as pd\n",
    "pd.options.display.max_colwidth=500\n",
    "\n",
    "from altrea.wffs import Wff, Or\n",
    "from altrea.rules import Proof\n",
    "\n",
    "prf = Proof()\n",
    "prf.setlogic()\n",
    "\n",
    "prf.axioms(latex=0, html=False)\n"
   ]
  },
  {
   "cell_type": "markdown",
   "id": "cf8a881a-e7e1-43b7-8e3e-83ff1a7ac76a",
   "metadata": {},
   "source": [
    "<a id=\"definition\"></a>\n",
    "## Definition"
   ]
  },
  {
   "cell_type": "markdown",
   "id": "7d11d8de-c7a9-41fe-a00d-5ca8ac451afb",
   "metadata": {},
   "source": [
    "<a id=\"entailment\"></a>\n",
    "## Entailment"
   ]
  },
  {
   "cell_type": "code",
   "execution_count": 3,
   "id": "b428f4c4-6900-4040-9cf2-7f89e0b6b8c9",
   "metadata": {},
   "outputs": [
    {
     "data": {
      "text/html": [
       "<div>\n",
       "<style scoped>\n",
       "    .dataframe tbody tr th:only-of-type {\n",
       "        vertical-align: middle;\n",
       "    }\n",
       "\n",
       "    .dataframe tbody tr th {\n",
       "        vertical-align: top;\n",
       "    }\n",
       "\n",
       "    .dataframe thead th {\n",
       "        text-align: right;\n",
       "    }\n",
       "</style>\n",
       "<table border=\"1\" class=\"dataframe\">\n",
       "  <thead>\n",
       "    <tr style=\"text-align: right;\">\n",
       "      <th></th>\n",
       "      <th>Display</th>\n",
       "    </tr>\n",
       "  </thead>\n",
       "  <tbody>\n",
       "    <tr>\n",
       "      <th>Name</th>\n",
       "      <td>contradicting</td>\n",
       "    </tr>\n",
       "    <tr>\n",
       "      <th>Display Name</th>\n",
       "      <td>Contradiction</td>\n",
       "    </tr>\n",
       "    <tr>\n",
       "      <th>Description</th>\n",
       "      <td>Contradiction</td>\n",
       "    </tr>\n",
       "    <tr>\n",
       "      <th>Text</th>\n",
       "      <td>⊢  α &amp; ~α</td>\n",
       "    </tr>\n",
       "    <tr>\n",
       "      <th>LaTeX</th>\n",
       "      <td>$~\\vdash~ \\alpha \\wedge \\lnot~\\alpha$</td>\n",
       "    </tr>\n",
       "    <tr>\n",
       "      <th>Expanded</th>\n",
       "      <td>{[]}  ⊢  And(α, Not(α))</td>\n",
       "    </tr>\n",
       "    <tr>\n",
       "      <th>Pattern</th>\n",
       "      <td>(logic, \"contradicting\", \"ConclusionPremises(And({0}, Not({0})), [])\", \"Contradiction\", \"Contradiction\"),</td>\n",
       "    </tr>\n",
       "  </tbody>\n",
       "</table>\n",
       "</div>"
      ],
      "text/plain": [
       "                                                                                                                Display\n",
       "Name                                                                                                      contradicting\n",
       "Display Name                                                                                              Contradiction\n",
       "Description                                                                                               Contradiction\n",
       "Text                                                                                                          ⊢  α & ~α\n",
       "LaTeX                                                                             $~\\vdash~ \\alpha \\wedge \\lnot~\\alpha$\n",
       "Expanded                                                                                        {[]}  ⊢  And(α, Not(α))\n",
       "Pattern       (logic, \"contradicting\", \"ConclusionPremises(And({0}, Not({0})), [])\", \"Contradiction\", \"Contradiction\"),"
      ]
     },
     "execution_count": 3,
     "metadata": {},
     "output_type": "execute_result"
    }
   ],
   "source": [
    "# View an entailment\n",
    "\n",
    "from IPython.display import display, Math, Markdown, Latex, display_markdown, HTML\n",
    "import pandas as pd\n",
    "pd.options.display.max_colwidth=500\n",
    "\n",
    "from altrea.wffs import Implies, Wff, Iff, And, Not\n",
    "from altrea.rules import Proof\n",
    "\n",
    "prf = Proof()\n",
    "prf.setlogic()\n",
    "prf.entailment(\n",
    "    And(prf.mvalpha, Not(prf.mvalpha)),\n",
    "    [], \n",
    "    name=\"contradicting\", \n",
    "    displayname= \"Contradiction\", \n",
    "    description=\"Contradiction\", \n",
    "    kind=\"\") \n"
   ]
  },
  {
   "cell_type": "code",
   "execution_count": 2,
   "id": "4975fd4c-a2c4-4e35-bb3c-645e6749e110",
   "metadata": {},
   "outputs": [
    {
     "name": "stdout",
     "output_type": "stream",
     "text": [
      "SAVE AXIOM: The axiom named \"contradicting\" has been saved.\n",
      "SAVE AXIOM: The axiom named \"contradicting\" has been saved.\n",
      "SAVE AXIOM: The axiom named \"exploding\" has been saved.\n",
      "SAVE AXIOM: The axiom named \"exploding\" has been saved.\n"
     ]
    },
    {
     "data": {
      "text/html": [
       "<table border=\"1\" class=\"dataframe\">\n",
       "  <thead>\n",
       "    <tr style=\"text-align: right;\">\n",
       "      <th style=\"text-align:center\"></th>\n",
       "      <th style=\"text-align:center\">Item</th>\n",
       "      <th style=\"text-align:center\">Level</th>\n",
       "      <th style=\"text-align:center\">Proof</th>\n",
       "      <th style=\"text-align:center\">Rule</th>\n",
       "      <th style=\"text-align:center\">Type</th>\n",
       "      <th style=\"text-align:center\">Lines</th>\n",
       "      <th style=\"text-align:center\">Proofs</th>\n",
       "      <th style=\"text-align:center\">Comment</th>\n",
       "    </tr>\n",
       "  </thead>\n",
       "  <tbody>\n",
       "    <tr>\n",
       "      <th style=\"text-align:center\"></th>\n",
       "      <td style=\"text-align:left\">$\\color{blue}B$</td>\n",
       "      <td style=\"text-align:left\">0</td>\n",
       "      <td style=\"text-align:left\">0</td>\n",
       "      <td style=\"text-align:left\">GOAL</td>\n",
       "      <td style=\"text-align:left\"></td>\n",
       "      <td style=\"text-align:left\"></td>\n",
       "      <td style=\"text-align:left\"></td>\n",
       "      <td style=\"text-align:left\"></td>\n",
       "    </tr>\n",
       "    <tr>\n",
       "      <th style=\"text-align:center\">1</th>\n",
       "      <td style=\"text-align:left\">$C \\wedge \\lnot~C$</td>\n",
       "      <td style=\"text-align:left\">0</td>\n",
       "      <td style=\"text-align:left\">0</td>\n",
       "      <td style=\"text-align:left\">Contradiction</td>\n",
       "      <td style=\"text-align:left\">AXIOM</td>\n",
       "      <td style=\"text-align:left\"></td>\n",
       "      <td style=\"text-align:left\"></td>\n",
       "      <td style=\"text-align:left\"></td>\n",
       "    </tr>\n",
       "    <tr>\n",
       "      <th style=\"text-align:center\">2</th>\n",
       "      <td style=\"text-align:left\">$C$</td>\n",
       "      <td style=\"text-align:left\">0</td>\n",
       "      <td style=\"text-align:left\">0</td>\n",
       "      <td style=\"text-align:left\">Conjunction Elim Left</td>\n",
       "      <td style=\"text-align:left\">RULE</td>\n",
       "      <td style=\"text-align:left\">1</td>\n",
       "      <td style=\"text-align:left\"></td>\n",
       "      <td style=\"text-align:left\"></td>\n",
       "    </tr>\n",
       "    <tr>\n",
       "      <th style=\"text-align:center\">3</th>\n",
       "      <td style=\"text-align:left\">$\\lnot~C$</td>\n",
       "      <td style=\"text-align:left\">0</td>\n",
       "      <td style=\"text-align:left\">0</td>\n",
       "      <td style=\"text-align:left\">Conjunction Elim Right</td>\n",
       "      <td style=\"text-align:left\">RULE</td>\n",
       "      <td style=\"text-align:left\">1</td>\n",
       "      <td style=\"text-align:left\"></td>\n",
       "      <td style=\"text-align:left\"></td>\n",
       "    </tr>\n",
       "    <tr>\n",
       "      <th style=\"text-align:center\">4</th>\n",
       "      <td style=\"text-align:left\">$\\color{blue}B$</td>\n",
       "      <td style=\"text-align:left\">0</td>\n",
       "      <td style=\"text-align:left\">0</td>\n",
       "      <td style=\"text-align:left\">Explosion</td>\n",
       "      <td style=\"text-align:left\">AXIOM</td>\n",
       "      <td style=\"text-align:left\">2, 3</td>\n",
       "      <td style=\"text-align:left\"></td>\n",
       "      <td style=\"text-align:left\">COMPLETE</td>\n",
       "    </tr>\n",
       "  </tbody>\n",
       "</table>"
      ],
      "text/plain": [
       "<IPython.core.display.HTML object>"
      ]
     },
     "metadata": {},
     "output_type": "display_data"
    }
   ],
   "source": [
    "# Create the contradiction axiom as an example\n",
    "\n",
    "from IPython.display import display, Math, Markdown, Latex, display_markdown, HTML\n",
    "import pandas as pd\n",
    "pd.options.display.max_colwidth=500\n",
    "\n",
    "from altrea.wffs import And, Not\n",
    "from altrea.rules import Proof\n",
    "\n",
    "prf = Proof()\n",
    "prf.setrestricted(False)\n",
    "B = prf.proposition(\"B\")\n",
    "C = prf.proposition(\"C\")\n",
    "prf.setlogic()\n",
    "prf.goal(B)\n",
    "prf.entailment(\n",
    "    And(prf.mvalpha, Not(prf.mvalpha)),\n",
    "    [], \n",
    "    name=\"contradicting\", \n",
    "    displayname= \"Contradiction\", \n",
    "    description=\"Contradiction\", \n",
    "    kind=prf.label_axiom) \n",
    "prf.axiom(\"contradicting\", [C])\n",
    "prf.rule(\"conj elim l\", [C, Not(C)], [1])\n",
    "prf.rule(\"conj elim r\", [C, Not(C)], [1])\n",
    "prf.entailment(\n",
    "    prf.mvbeta,\n",
    "    [prf.mvalpha, Not(prf.mvalpha)], \n",
    "    name=\"exploding\", \n",
    "    displayname= \"Explosion\", \n",
    "    description=\"Explosion\", \n",
    "    kind=prf.label_axiom) \n",
    "prf.axiom(\"exploding\", [C, B], [2, 3])\n",
    "\n",
    "prf.thisproof(latex=0, short=1, html=False)"
   ]
  },
  {
   "cell_type": "markdown",
   "id": "82246d99-b1a6-4470-bde4-65f01969e114",
   "metadata": {},
   "source": [
    "<a id=\"goal\"></a>\n",
    "## Goal"
   ]
  },
  {
   "cell_type": "markdown",
   "id": "9129fa64-6c34-43a7-b467-56bb124935a7",
   "metadata": {},
   "source": [
    "<a id=\"hypothesis\"></a>\n",
    "## Hypothesis"
   ]
  },
  {
   "cell_type": "markdown",
   "id": "574bcbb2-4b28-4127-9bd2-12001ec13b8b",
   "metadata": {},
   "source": [
    "<a id=\"implicationintro\"></a>\n",
    "## Implication Intro"
   ]
  },
  {
   "cell_type": "markdown",
   "id": "5365caf6-6b76-45d7-a5ca-3347edaf04fb",
   "metadata": {},
   "source": [
    "<a id=\"item\"></a>\n",
    "## Item"
   ]
  },
  {
   "cell_type": "markdown",
   "id": "d52ad69f-b149-4429-818c-e76da44ac768",
   "metadata": {},
   "source": [
    "<a id=\"necessaryintro\"></a>\n",
    "## Necessary Intro"
   ]
  },
  {
   "cell_type": "markdown",
   "id": "b991a923-0c15-4b88-8a1d-cc031d249cd9",
   "metadata": {},
   "source": [
    "<a id=\"openclosesubproof\"></a>\n",
    "## Open/Close Subproof"
   ]
  },
  {
   "cell_type": "markdown",
   "id": "4728518b-7593-4f3f-bba8-7667b9d007a5",
   "metadata": {},
   "source": [
    "<a id=\"openclosestrictsubproof\"></a>\n",
    "## Open/Close Strict Subproof"
   ]
  },
  {
   "cell_type": "markdown",
   "id": "23534332-4fa5-4e1c-9f0b-665f997b7833",
   "metadata": {},
   "source": [
    "<a id=\"premise\"></a>\n",
    "## Premise"
   ]
  },
  {
   "cell_type": "markdown",
   "id": "b72ca464-267b-49e8-821d-e292e2506d3a",
   "metadata": {},
   "source": [
    "<a id=\"proposition\"></a>\n",
    "## Proposition"
   ]
  },
  {
   "cell_type": "markdown",
   "id": "34a80516-22b7-41b3-91c3-257e047ed34e",
   "metadata": {},
   "source": [
    "<a id=\"reiterate\"></a>\n",
    "## Reiterate"
   ]
  },
  {
   "cell_type": "markdown",
   "id": "d6ac6821-2691-470a-bcbd-88f4487f3eda",
   "metadata": {},
   "source": [
    "<a id=\"rule\"></a>\n",
    "## Rule"
   ]
  },
  {
   "cell_type": "markdown",
   "id": "d99e951c-9e76-4365-b3d3-718c933404b7",
   "metadata": {},
   "source": [
    "<a id=\"setlogic\"></a>\n",
    "## Set Logic"
   ]
  },
  {
   "cell_type": "markdown",
   "id": "0414c560-89d1-4881-ad07-3c2fceb7780a",
   "metadata": {},
   "source": [
    "<a id=\"axiomatic\"></a>\n",
    "# Axiomatic Rules"
   ]
  },
  {
   "cell_type": "markdown",
   "id": "71ac6df6-48de-4ba7-bdfa-33a9f1d88863",
   "metadata": {},
   "source": [
    "<a id=\"modusponens\"></a>\n",
    "## Modus Ponens"
   ]
  },
  {
   "cell_type": "markdown",
   "id": "ed869b81-d248-4536-b312-e7d01e85f837",
   "metadata": {},
   "source": [
    "<a id=\"substitution\"></a>\n",
    "## Substitution"
   ]
  },
  {
   "cell_type": "markdown",
   "id": "65ff76d7-8cd5-4ea5-81c0-458cf3003109",
   "metadata": {},
   "source": [
    "<a id=\"database\"></a>\n",
    "# Database"
   ]
  },
  {
   "cell_type": "markdown",
   "id": "0c7ab322-10b7-42e0-a785-f2f9a19e9d4e",
   "metadata": {},
   "source": [
    "<a id=\"logicdb\"></a>\n",
    "## Create/Delete Logic"
   ]
  },
  {
   "cell_type": "markdown",
   "id": "b08bf1ac-9268-46c3-b599-61c31bea2893",
   "metadata": {},
   "source": [
    "<a id=\"logicsdb\"></a>\n",
    "## Logics"
   ]
  },
  {
   "cell_type": "markdown",
   "id": "47d4ab03-7dd9-43ee-8078-f7459193c896",
   "metadata": {},
   "source": [
    "<a id=\"axiomsdb\"></a>\n",
    "## Axioms"
   ]
  },
  {
   "cell_type": "markdown",
   "id": "da600fd4-cf59-4c88-b297-cda962391e31",
   "metadata": {},
   "source": [
    "<a id=\"definitionsdb\"></a>\n",
    "## Definitions"
   ]
  },
  {
   "cell_type": "markdown",
   "id": "951dbdc3-17d8-46e0-8353-438e133b4267",
   "metadata": {},
   "source": [
    "<a id=\"lemmasdb\"></a>\n",
    "## Lemmas"
   ]
  },
  {
   "cell_type": "markdown",
   "id": "68989c80-96e7-473d-af99-9fc487b4fbac",
   "metadata": {},
   "source": [
    "<a id=\"rulesdb\"></a>\n",
    "## Rules"
   ]
  },
  {
   "cell_type": "markdown",
   "id": "22f43fec-47ac-439a-a32f-8b51d5035b25",
   "metadata": {},
   "source": [
    "<a id=\"utilities\"></a>\n",
    "# Utilities"
   ]
  },
  {
   "cell_type": "markdown",
   "id": "ef2eb05a-c83f-4a6c-8f9d-8328fff307ae",
   "metadata": {},
   "source": [
    "<a id=\"displaylog\"></a>\n",
    "## Display Log"
   ]
  },
  {
   "cell_type": "markdown",
   "id": "783e2a70-857a-4f8c-b33f-10047edac57e",
   "metadata": {},
   "source": [
    "<a id=\"thisproof\"></a>\n",
    "## This Proof"
   ]
  },
  {
   "cell_type": "markdown",
   "id": "ff09708a-f261-40c7-85ef-641f206cba82",
   "metadata": {},
   "source": [
    "<a id=\"truthtable\"></a>\n",
    "## Truth Table"
   ]
  },
  {
   "cell_type": "markdown",
   "id": "333a23e4-a4dd-4cf6-95b7-2ab8a21eab14",
   "metadata": {},
   "source": [
    "<a id=\"writeproof\"></a>\n",
    "## Write Proof"
   ]
  },
  {
   "cell_type": "code",
   "execution_count": null,
   "id": "5de19c63-4546-4dc6-98c6-b7233dfc3f53",
   "metadata": {},
   "outputs": [],
   "source": []
  }
 ],
 "metadata": {
  "kernelspec": {
   "display_name": "Python 3 (ipykernel)",
   "language": "python",
   "name": "python3"
  },
  "language_info": {
   "codemirror_mode": {
    "name": "ipython",
    "version": 3
   },
   "file_extension": ".py",
   "mimetype": "text/x-python",
   "name": "python",
   "nbconvert_exporter": "python",
   "pygments_lexer": "ipython3",
   "version": "3.12.1"
  }
 },
 "nbformat": 4,
 "nbformat_minor": 5
}
