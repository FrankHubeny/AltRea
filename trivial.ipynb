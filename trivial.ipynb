{
 "cells": [
  {
   "cell_type": "markdown",
   "id": "0ebf9320-57ba-4013-95c9-2b4260ed5b1e",
   "metadata": {},
   "source": [
    "# Trivial\n",
    "\n",
    "In this logic every sentence that could be assigned a truth value is assigned the value True.  Although all sentences are True, not all sentences make\n",
    "sense in this logic.  For example, the negation of any sentence is not permitted.  So, the Not logical operator has to be prohibited.  Every remaining statement\n",
    "then becomes is a tautology.\n",
    "\n",
    "This logic is not useful to tell which sentences might be false, however, it does have a useful.  As an extreme situation, provides evidence that \n",
    "both the software and the logical, philosophical theory can handle the case.  In what follows below the software will be tested.  Then if the\n",
    "philosophical theory accepts the software it can be shown to accept this extreme case.\n",
    "\n",
    "1. [Creating the trivial logic in AltRea](#trivial)\n",
    "\n",
    "2. [Testing the creation of the trivial logic](#test)\n",
    "\n",
    "3. [Testing a new proof environment](#proof)\n",
    "\n",
    "4. [Create, save and display a saved proof](#save)\n",
    "\n",
    "5. [Show that unavailable intelim rules for negation cannot be used](#unavailable)\n",
    "\n",
    "6. [Show that the Not logical connector cannot be used](#not)\n"
   ]
  },
  {
   "cell_type": "code",
   "execution_count": 1,
   "id": "530fa35c-6910-446f-9334-31af6167df85",
   "metadata": {},
   "outputs": [],
   "source": [
    "from IPython.display import display, Math, Markdown, Latex, display_markdown, HTML\n",
    "# display(HTML(\"<style>:root { --jp-notebook-max-width: 100% !important; }</style>\"))\n",
    "\n",
    "import pandas as pd\n",
    "# To see available options run `pd.describe_option()` in a cell.\n",
    "pd.options.display.max_colwidth=500\n",
    "pd.options.display.max_rows = 999\n",
    "pd.options.display.html.use_mathjax = True\n",
    "pd.set_option('display.html.table_schema', True)"
   ]
  },
  {
   "cell_type": "markdown",
   "id": "d8a09744-ec47-4b24-ad25-c1ad7374fea5",
   "metadata": {},
   "source": [
    "<a id='trivial'></a>\n",
    "## Creating the Trivial Logic in AltRea"
   ]
  },
  {
   "cell_type": "code",
   "execution_count": 3,
   "id": "1dd1ff4e-9b21-4d63-bf3b-e71f429dd84b",
   "metadata": {},
   "outputs": [
    {
     "name": "stdout",
     "output_type": "stream",
     "text": [
      "The proofdetails table for logic trivial has been dropped.\n",
      "The proofs table for logic trivial has been dropped.\n",
      "Any definitions associated with trivial have been deleted.\n",
      "Any axioms associated with trivial have been deleted.\n",
      "Any intelim rules associated with trivial have been deleted.\n",
      "Any connectors associated with trivial have been deleted.\n",
      "The record for trivial in the logics table has been deleted.\n"
     ]
    }
   ],
   "source": [
    "import altrea.data\n",
    "altrea.data.deletelogic('trivial')"
   ]
  },
  {
   "cell_type": "code",
   "execution_count": 4,
   "id": "6ddaefeb-9ae2-4c46-8636-039e13c6b371",
   "metadata": {},
   "outputs": [
    {
     "name": "stdout",
     "output_type": "stream",
     "text": [
      "The logics table has been loaded for logic trivial.\n",
      "The connectors table for logic trivial has been loaded.\n",
      "The intelimrules table for logic trivial has been loaded.\n",
      "The definitions table for logic trivial has been loaded.\n",
      "The axioms table for logic trivial has been loaded.\n",
      "Data loaded to the altrea/data/metadata.db tables have been committed.\n",
      "The proofs table has been created in altrea/data/trivial.db.\n",
      "The proofdetails table has been created in altrea/data/trivial.db.\n",
      "Data loaded to the altrea/data/trivial.db tables have been committed.\n"
     ]
    }
   ],
   "source": [
    "import altrea.data\n",
    "from altrea.rules import Proof\n",
    "p = Proof()\n",
    "logic = 'trivial'\n",
    "connectors = [\n",
    "    (logic, 'And', 'Conjunction'), \n",
    "    (logic, 'Or', 'Disjunction'), \n",
    "    (logic, 'Not', 'Negation'),\n",
    "    (logic, 'Implies', 'Implication'), \n",
    "    (logic, 'Iff', 'Coimplication'), \n",
    "    (logic, 'Necessary', 'Modal Necessarily'), \n",
    "    (logic, 'Possibly', 'Modal Possibly'),\n",
    "]\n",
    "intelimrules = [\n",
    "    (logic, p.coimplication_elim_tag, 'self.coimplication_elim_name'),\n",
    "    (logic, p.coimplication_intro_tag, 'self.coimplication_intro_name'),\n",
    "    (logic, p.conjunction_elim_tag, 'self.conjunction_elim_name'),\n",
    "    (logic, p.conjunction_intro_tag, 'self.conjunction_intro_name'),\n",
    "    (logic, p.disjunction_elim_tag, 'self.disjunction_elim_name'),\n",
    "    (logic, p.disjunction_intro_tag, 'self.disjunction_intro_name'),\n",
    "    (logic, p.implication_elim_tag, 'self.implication_elim_name'),\n",
    "    (logic, p.implication_intro_tag, 'self.implication_intro_name'),\n",
    "    (logic, p.necessary_elim_tag, 'self.necessary_elim_name'),\n",
    "    (logic, p.necessary_intro_tag, 'self.necessary_intro_name'),\n",
    "    (logic, p.negation_elim_tag, 'self.negation_elim_name'),\n",
    "    (logic, p.negation_intro_tag, 'self.negation_intro_name'),\n",
    "    (logic, p.possibly_elim_tag, 'self.possibly_elim_name'),\n",
    "    (logic, p.possibly_intro_tag, 'self.possibly_intro_name'),\n",
    "]\n",
    "definitions = [\n",
    "    (logic, 'not_from_notnot', 'ConclusionPremises(Not({0}), [{0}])', 'Not From Not Not', 'Not Is the Same As What It Negates'),\n",
    "    (logic, 'notnot_from_not', 'ConclusionPremises({0}, [Not({0})])', 'Not Not From Not', 'Not Is the Same As What It Negates'),\n",
    "]\n",
    "axioms = [                 \n",
    "    (logic, 'explosion', 'ConclusionPremises({1}, [{0}, Not({0})])', 'Explosion', 'From a Contradiction Derive Anything'),\n",
    "    (logic, 'contradiction', 'ConclusionPremises(And({0}, Not({0})), [])', 'Contradiction', 'All Contradictions Are True'),\n",
    "]\n",
    "altrea.data.addlogic(logic,logic,'Trivial Logic: Contradiction Entailing Explosion', connectors, intelimrules, definitions, axioms)"
   ]
  },
  {
   "cell_type": "markdown",
   "id": "cdde4331-61e1-458d-b9d4-3eb3485e1536",
   "metadata": {},
   "source": [
    "<a id='test'></a>\n",
    "## Testing the Creation of the Trivial Logic"
   ]
  },
  {
   "cell_type": "code",
   "execution_count": 5,
   "id": "a817b025-9502-4e7d-8e81-d2f8d173e23c",
   "metadata": {},
   "outputs": [
    {
     "name": "stdout",
     "output_type": "stream",
     "text": [
      "Testing the \"trivial\" logic setup in AltRea\n",
      "      \n",
      "Has the logic been defined with metadata and a database table?\n",
      "The logic \"trivial\" with description \"Trivial Logic: Contradiction Entailing Explosion\" will store proofs in \"altrea/data/trivial.db\".\n",
      "      \n",
      "What axioms have been defined?\n",
      "('contradiction', 'ConclusionPremises(And({0}, Not({0})), [])', 'Contradiction', 'All Contradictions Are True')\n",
      "('explosion', 'ConclusionPremises({1}, [{0}, Not({0})])', 'Explosion', 'From a Contradiction Derive Anything')\n",
      "      \n",
      "What connectors are available?\n",
      "('And', 'Conjunction')\n",
      "('Iff', 'Coimplication')\n",
      "('Implies', 'Implication')\n",
      "('Necessary', 'Modal Necessarily')\n",
      "('Not', 'Negation')\n",
      "('Or', 'Disjunction')\n",
      "('Possibly', 'Modal Possibly')\n",
      "      \n",
      "What intelim rules are available?\n",
      "('CE', 'self.conjunction_elim_name')\n",
      "('CI', 'self.conjunction_intro_name')\n",
      "('COE', 'self.coimplication_elim_name')\n",
      "('COI', 'self.coimplication_intro_name')\n",
      "('DE', 'self.disjunction_elim_name')\n",
      "('DI', 'self.disjunction_intro_name')\n",
      "('IE', 'self.implication_elim_name')\n",
      "('II', 'self.implication_intro_name')\n",
      "('NE', 'self.negation_elim_name')\n",
      "('NEE', 'self.necessary_elim_name')\n",
      "('NEI', 'self.necessary_intro_name')\n",
      "('NI', 'self.negation_intro_name')\n",
      "('POE', 'self.possibly_elim_name')\n",
      "('POI', 'self.possibly_intro_name')\n",
      "      \n",
      "What proofs have been saved?\n",
      "The logic \"trivial\" has no saved proofs.\n"
     ]
    }
   ],
   "source": [
    "import altrea.data\n",
    "\n",
    "\n",
    "altrea.data.testlogic('trivial')"
   ]
  },
  {
   "cell_type": "markdown",
   "id": "4c291d4e-cd81-4c85-b44b-da222b086e6c",
   "metadata": {},
   "source": [
    "<a id='proof'></a>\n",
    "## Testing a New Proof Environment"
   ]
  },
  {
   "cell_type": "code",
   "execution_count": 1,
   "id": "ce95f94f-08c9-4116-baf1-6813c439a235",
   "metadata": {},
   "outputs": [
    {
     "name": "stdout",
     "output_type": "stream",
     "text": [
      "0 PROOF: A proof named \"test\" or \"teestagain\" with description \"ssssss\" has been started.\n",
      "1 TRUTH: The letter \"A\" (latex: \"A\") for a generic truth formula has been defined making 1 so far.\n",
      "2 SET LOGIC: \"trivial\" has been selected as the logic described as \"Trivial Logic: Contradiction Entailing Explosion\" and stored in database \"altrea/data/trivial.db\".\n",
      "3 GOAL: The goal \"A\" has been added to the goals.\n",
      "4 SUBSTITUTE: The placeholder(s) in the string \"ConclusionPremises({0}, [])\" have been replaced with \"['A']\" to become \"ConclusionPremises(A, [])\".\n",
      "5 DEFINITION: Item \"A\" has been added using the \"By Definition Anything\" definition.\n",
      "6 The proof is complete.\n"
     ]
    },
    {
     "data": {
      "text/html": [
       "<div>\n",
       "<style scoped>\n",
       "    .dataframe tbody tr th:only-of-type {\n",
       "        vertical-align: middle;\n",
       "    }\n",
       "\n",
       "    .dataframe tbody tr th {\n",
       "        vertical-align: top;\n",
       "    }\n",
       "\n",
       "    .dataframe thead th {\n",
       "        text-align: right;\n",
       "    }\n",
       "</style>\n",
       "<table border=\"1\" class=\"dataframe\">\n",
       "  <thead>\n",
       "    <tr style=\"text-align: right;\">\n",
       "      <th></th>\n",
       "      <th>Item</th>\n",
       "      <th>Level</th>\n",
       "      <th>Proof</th>\n",
       "      <th>Rule</th>\n",
       "      <th>Type</th>\n",
       "      <th>Lines</th>\n",
       "      <th>Proofs</th>\n",
       "      <th>Comment</th>\n",
       "    </tr>\n",
       "  </thead>\n",
       "  <tbody>\n",
       "    <tr>\n",
       "      <th>teestagain</th>\n",
       "      <td>$\\color{blue}A$</td>\n",
       "      <td>0</td>\n",
       "      <td>0</td>\n",
       "      <td>GOAL</td>\n",
       "      <td></td>\n",
       "      <td></td>\n",
       "      <td></td>\n",
       "      <td></td>\n",
       "    </tr>\n",
       "    <tr>\n",
       "      <th>1</th>\n",
       "      <td>$\\color{blue}A$</td>\n",
       "      <td>0</td>\n",
       "      <td>0</td>\n",
       "      <td>Whatever</td>\n",
       "      <td>DEF</td>\n",
       "      <td></td>\n",
       "      <td></td>\n",
       "      <td>COMPLETE</td>\n",
       "    </tr>\n",
       "  </tbody>\n",
       "</table>\n",
       "</div>"
      ],
      "text/plain": [
       "                       Item  Level  Proof      Rule  Type Lines Proofs  \\\n",
       "teestagain  $\\color{blue}A$      0      0      GOAL                      \n",
       "1           $\\color{blue}A$      0      0  Whatever   DEF                \n",
       "\n",
       "             Comment  \n",
       "teestagain            \n",
       "1           COMPLETE  "
      ]
     },
     "execution_count": 1,
     "metadata": {},
     "output_type": "execute_result"
    }
   ],
   "source": [
    "# Examine the variable assigned to a new proof.\n",
    "\n",
    "from altrea.boolean import Wff, Or, Not, And, Implies, Iff, Necessary, Possibly\n",
    "from altrea.rules import Proof\n",
    "\n",
    "new = Proof('test','teestagain','ssssss')\n",
    "A = new.truth('A')\n",
    "new.setlogic('trivial')\n",
    "new.goal(A)\n",
    "#new.axiom('anything_goes', [A])\n",
    "new.definition('its_all_yours', [], [A])\n",
    "new.displaylog()\n",
    "new.displayproof()\n",
    "#new.statusreport(A)\n",
    "#new.reportstatus()"
   ]
  },
  {
   "cell_type": "code",
   "execution_count": 5,
   "id": "be9c635a-9359-41bc-9846-1e31911166bd",
   "metadata": {},
   "outputs": [
    {
     "name": "stdout",
     "output_type": "stream",
     "text": [
      "The proof named \"test\" has been written.\n"
     ]
    }
   ],
   "source": [
    "new.writeproof()\n",
    "import altrea.data\n",
    "altrea.data.saveprooftofile(new.name, new.writtenproof)"
   ]
  },
  {
   "cell_type": "code",
   "execution_count": 4,
   "id": "092be112-4be9-43c4-a920-a787a77b451f",
   "metadata": {},
   "outputs": [
    {
     "name": "stdout",
     "output_type": "stream",
     "text": [
      "\n",
      "\n",
      "    Therefore, A which completes the proof.\n",
      "\n"
     ]
    }
   ],
   "source": [
    "print(new.writtenproof)"
   ]
  },
  {
   "cell_type": "code",
   "execution_count": 4,
   "id": "ee3695e0-9914-4887-8411-bb609ad39f07",
   "metadata": {},
   "outputs": [
    {
     "name": "stdout",
     "output_type": "stream",
     "text": [
      "                 Logic\n",
      "trivial              Trivial Logic: Contradiction Entailing Explosion  \n",
      "                 Axioms\n",
      "anything_goes        ConclusionPremises({0}, [])                       \n",
      "contradiction        ConclusionPremises(And({0}, Not({0})), [])        \n",
      "explosion            ConclusionPremises({1}, [{0}, Not({0})])          \n",
      "               Definitions\n",
      "not_from_notnot      ConclusionPremises(Not({0}), [{0}])               \n",
      "notnot_from_not      ConclusionPremises({0}, [Not({0})])               \n",
      "its_all_yours        ConclusionPremises({0}, [])                       \n"
     ]
    }
   ],
   "source": [
    "new.displaylogic()"
   ]
  },
  {
   "cell_type": "code",
   "execution_count": 3,
   "id": "c0b5e4b4-b24e-4209-af61-04e1e9f74497",
   "metadata": {},
   "outputs": [
    {
     "name": "stdout",
     "output_type": "stream",
     "text": [
      "0 PROOF: A proof named \"test\" or \"teestagain\" with description \"ssssss\" has been started.\n",
      "1 TRUTH: The letter \"A\" (latex: \"A\") for a generic truth formula has been defined making 1 so far.\n",
      "2 SET LOGIC: \"trivial\" has been selected as the logic described as \"Trivial Logic: Contradiction Entailing Explosion\" and stored in database \"altrea/data/trivial.db\".\n",
      "3 GOAL: The goal \"A\" has been added to the goals.\n",
      "4 SUBSTITUTE: The placeholder(s) in the string \"ConclusionPremises({0}, [])\" have been replaced with \"['A']\" to become \"ConclusionPremises(A, [])\".\n",
      "5 AXIOM: Item \"A\" has been added through the \"Anything Whatsoever\" axiom.\n",
      "6 The proof is complete.\n",
      "7 REMOVE AXIOM: The axiom named anything_goes has been removed.\n"
     ]
    }
   ],
   "source": [
    "new.removeaxiom('anything_goes')\n",
    "new.displaylog()"
   ]
  },
  {
   "cell_type": "code",
   "execution_count": null,
   "id": "b3c9d1af-84bd-4642-812d-7572e30c5058",
   "metadata": {},
   "outputs": [],
   "source": [
    "new.removeaxiom('its_all_yours')\n",
    "new.displaylog()"
   ]
  },
  {
   "cell_type": "code",
   "execution_count": 3,
   "id": "905f5722-4062-46da-9b0c-19db9144bb63",
   "metadata": {},
   "outputs": [
    {
     "name": "stdout",
     "output_type": "stream",
     "text": [
      "0 PROOF: A proof named \"test\" or \"teestagain\" with description \"ssssss\" has been started.\n",
      "1 TRUTH: The letter \"A\" (latex: \"A\") for a generic truth formula has been defined making 1 so far.\n",
      "2 SET LOGIC: \"trivial\" has been selected as the logic described as \"Trivial Logic: Contradiction Entailing Explosion\" and stored in database \"altrea/data/trivial.db\".\n",
      "3 GOAL: The goal \"A\" has been added to the goals.\n",
      "4 AXIOM: The name \"anything_goes\" does not reference an axiom.\n",
      "5 STOPPED: The referenced name is not in the axiom list.\n",
      "6 SAVE AXIOM: The axiom named \"anything_goes\" has been saved.\n"
     ]
    }
   ],
   "source": [
    "new.saveaxiom('anything_goes', 'Anything', 'Anything Whatsoever', A, [])\n",
    "new.displaylog()"
   ]
  },
  {
   "cell_type": "code",
   "execution_count": 2,
   "id": "1bd96287-32e1-4cdc-bad0-afc1306894bf",
   "metadata": {},
   "outputs": [
    {
     "name": "stdout",
     "output_type": "stream",
     "text": [
      "0 PROOF: A proof named \"test\" or \"teestagain\" with description \"ssssss\" has been started.\n",
      "1 TRUTH: The letter \"A\" (latex: \"A\") for a generic truth formula has been defined making 1 so far.\n",
      "2 SET LOGIC: \"trivial\" has been selected as the logic described as \"Trivial Logic: Contradiction Entailing Explosion\" and stored in database \"altrea/data/trivial.db\".\n",
      "3 GOAL: The goal \"A\" has been added to the goals.\n",
      "4 SUBSTITUTE: The placeholder(s) in the string \"ConclusionPremises({0}, [])\" have been replaced with \"['A']\" to become \"ConclusionPremises(A, [])\".\n",
      "5 AXIOM: Item \"A\" has been added through the \"Anything Whatsoever\" axiom.\n",
      "6 The proof is complete.\n",
      "7 SAVE DEFINITION: The definition named \"its_all_yours\" has been saved.\n"
     ]
    }
   ],
   "source": [
    "new.savedefinition('its_all_yours', 'Whatever', 'By Definition Anything', A, [])\n",
    "new.displaylog()"
   ]
  },
  {
   "cell_type": "code",
   "execution_count": 3,
   "id": "0d6ae291-b807-43af-bfb8-6e96b6b8ae2c",
   "metadata": {},
   "outputs": [
    {
     "name": "stdout",
     "output_type": "stream",
     "text": [
      "('not_from_notnot', 'ConclusionPremises(Not({0}), [{0}])', 'Not From Not Not', 'Not Is the Same As What It Negates')\n",
      "('notnot_from_not', 'ConclusionPremises({0}, [Not({0})])', 'Not Not From Not', 'Not Is the Same As What It Negates')\n",
      "['its_all_yours', 'ConclusionPremises({0}, [])', 'Whatever', 'By Definition Anything']\n"
     ]
    }
   ],
   "source": [
    "for i in new.logicdefinitions:\n",
    "    print(i)"
   ]
  },
  {
   "cell_type": "markdown",
   "id": "a028c3f8-7dd6-45d9-a9d4-10710583f099",
   "metadata": {},
   "source": [
    "<a id='save'></a>\n",
    "## Create, Save and Display a Saved Proof"
   ]
  },
  {
   "cell_type": "code",
   "execution_count": 2,
   "id": "f679312e-8586-4e6d-adfa-2f9a43dffe01",
   "metadata": {},
   "outputs": [
    {
     "name": "stdout",
     "output_type": "stream",
     "text": [
      "                 Logic\n",
      "trivial              Trivial Logic: Contradiction Entailing Explosion  \n",
      "                 Axioms\n",
      "anything_goes        ConclusionPremises({0}, [])                       \n",
      "contradiction        ConclusionPremises(And({0}, Not({0})), [])        \n",
      "explosion            ConclusionPremises({1}, [{0}, Not({0})])          \n",
      "               Definitions\n",
      "its_all_yours        ConclusionPremises({0}, [])                       \n",
      "not_from_notnot      ConclusionPremises(Not({0}), [{0}])               \n",
      "notnot_from_not      ConclusionPremises({0}, [Not({0})])               \n",
      " 0 PROOF: A proof named \"anything_is_true\" or \"Anything Is True\" with description \"A proof that any statement is true\" has been started.\n",
      " 1 TRUTH: The letter \"p\" (latex: \"p\") for a generic truth formula has been defined making 1 so far.\n",
      " 2 TRUTH: The letter \"q\" (latex: \"q\") for a generic truth formula has been defined making 2 so far.\n",
      " 3 SET LOGIC: \"trivial\" has been selected as the logic described as \"Trivial Logic: Contradiction Entailing Explosion\" and stored in database \"altrea/data/trivial.db\".\n",
      " 4 GOAL: The goal \"p\" has been added to the goals.\n",
      " 5 SUBSTITUTE: The placeholder(s) in the string \"ConclusionPremises(And({0}, Not({0})), [])\" have been replaced with \"['q']\" to become \"ConclusionPremises(And(q, Not(q)), [])\".\n",
      " 6 AXIOM: Item \"q & ~q\" has been added through the \"All Contradictions Are True\" axiom.\n",
      " 7 CONJUNCTION ELIM: Item \"q\" has been derived from the conjunction \"q & ~q\" on line 1.\n",
      " 8 CONJUNCTION ELIM: Item \"~q\" has been derived from the conjunction \"q & ~q\" on line 1.\n",
      " 9 SUBSTITUTE: The placeholder(s) in the string \"ConclusionPremises({1}, [{0}, Not({0})])\" have been replaced with \"['q', 'p']\" to become \"ConclusionPremises(p, [q, Not(q)])\".\n",
      "10 AXIOM: Item \"p\" has been added through the \"From a Contradiction Derive Anything\" axiom.\n",
      "11 The proof is complete.\n"
     ]
    },
    {
     "data": {
      "text/html": [
       "<div>\n",
       "<style scoped>\n",
       "    .dataframe tbody tr th:only-of-type {\n",
       "        vertical-align: middle;\n",
       "    }\n",
       "\n",
       "    .dataframe tbody tr th {\n",
       "        vertical-align: top;\n",
       "    }\n",
       "\n",
       "    .dataframe thead th {\n",
       "        text-align: right;\n",
       "    }\n",
       "</style>\n",
       "<table border=\"1\" class=\"dataframe\">\n",
       "  <thead>\n",
       "    <tr style=\"text-align: right;\">\n",
       "      <th></th>\n",
       "      <th>Item</th>\n",
       "      <th>Level</th>\n",
       "      <th>Proof</th>\n",
       "      <th>Rule</th>\n",
       "      <th>Type</th>\n",
       "      <th>Lines</th>\n",
       "      <th>Proofs</th>\n",
       "      <th>Comment</th>\n",
       "    </tr>\n",
       "  </thead>\n",
       "  <tbody>\n",
       "    <tr>\n",
       "      <th>Anything Is True</th>\n",
       "      <td>$\\color{blue}p$</td>\n",
       "      <td>0</td>\n",
       "      <td>0</td>\n",
       "      <td>GOAL</td>\n",
       "      <td></td>\n",
       "      <td></td>\n",
       "      <td></td>\n",
       "      <td></td>\n",
       "    </tr>\n",
       "    <tr>\n",
       "      <th>1</th>\n",
       "      <td>$q \\wedge \\lnot q$</td>\n",
       "      <td>0</td>\n",
       "      <td>0</td>\n",
       "      <td>Contradiction</td>\n",
       "      <td>AX</td>\n",
       "      <td></td>\n",
       "      <td></td>\n",
       "      <td></td>\n",
       "    </tr>\n",
       "    <tr>\n",
       "      <th>2</th>\n",
       "      <td>$q$</td>\n",
       "      <td>0</td>\n",
       "      <td>0</td>\n",
       "      <td>Conjunction Elim</td>\n",
       "      <td>TR</td>\n",
       "      <td>1</td>\n",
       "      <td></td>\n",
       "      <td></td>\n",
       "    </tr>\n",
       "    <tr>\n",
       "      <th>3</th>\n",
       "      <td>$\\lnot q$</td>\n",
       "      <td>0</td>\n",
       "      <td>0</td>\n",
       "      <td>Conjunction Elim</td>\n",
       "      <td>TR</td>\n",
       "      <td>1</td>\n",
       "      <td></td>\n",
       "      <td></td>\n",
       "    </tr>\n",
       "    <tr>\n",
       "      <th>4</th>\n",
       "      <td>$\\color{blue}p$</td>\n",
       "      <td>0</td>\n",
       "      <td>0</td>\n",
       "      <td>Explosion</td>\n",
       "      <td>AX</td>\n",
       "      <td>2, 3</td>\n",
       "      <td></td>\n",
       "      <td>COMPLETE</td>\n",
       "    </tr>\n",
       "  </tbody>\n",
       "</table>\n",
       "</div>"
      ],
      "text/plain": [
       "                                Item  Level  Proof              Rule Type  \\\n",
       "Anything Is True     $\\color{blue}p$      0      0              GOAL        \n",
       "1                 $q \\wedge \\lnot q$      0      0     Contradiction   AX   \n",
       "2                                $q$      0      0  Conjunction Elim   TR   \n",
       "3                          $\\lnot q$      0      0  Conjunction Elim   TR   \n",
       "4                    $\\color{blue}p$      0      0         Explosion   AX   \n",
       "\n",
       "                 Lines Proofs   Comment  \n",
       "Anything Is True                         \n",
       "1                                        \n",
       "2                    1                   \n",
       "3                    1                   \n",
       "4                 2, 3         COMPLETE  "
      ]
     },
     "execution_count": 2,
     "metadata": {},
     "output_type": "execute_result"
    }
   ],
   "source": [
    "# Create a completed proof.\n",
    "\n",
    "from altrea.boolean import Wff, Or, Not, And, Implies, Iff, Necessary, Possibly\n",
    "from altrea.rules import Proof\n",
    "\n",
    "anything_is_true = Proof(name='anything_is_true', displayname='Anything Is True', description='A proof that any statement is true')\n",
    "p = anything_is_true.truth('p')\n",
    "q = anything_is_true.truth('q')\n",
    "anything_is_true.setlogic('trivial')\n",
    "anything_is_true.goal(p) \n",
    "anything_is_true.axiom('contradiction', [q])\n",
    "anything_is_true.conjunction_elim(1, 'left')\n",
    "anything_is_true.conjunction_elim(1, 'right')\n",
    "anything_is_true.axiom('explosion', [q, p], [2, 3])\n",
    "anything_is_true.displaylogic()\n",
    "anything_is_true.displaylog()\n",
    "anything_is_true.displayproof(short=0)"
   ]
  },
  {
   "cell_type": "code",
   "execution_count": 8,
   "id": "07afe7ee-f544-41dd-81e3-f4f4d3926202",
   "metadata": {},
   "outputs": [
    {
     "data": {
      "text/html": [
       "<div>\n",
       "<style scoped>\n",
       "    .dataframe tbody tr th:only-of-type {\n",
       "        vertical-align: middle;\n",
       "    }\n",
       "\n",
       "    .dataframe tbody tr th {\n",
       "        vertical-align: top;\n",
       "    }\n",
       "\n",
       "    .dataframe thead th {\n",
       "        text-align: right;\n",
       "    }\n",
       "</style>\n",
       "<table border=\"1\" class=\"dataframe\">\n",
       "  <thead>\n",
       "    <tr style=\"text-align: right;\">\n",
       "      <th></th>\n",
       "      <th>$p$</th>\n",
       "      <th>$q$</th>\n",
       "      <th>$\\parallel $</th>\n",
       "      <th>$\\models $</th>\n",
       "      <th>$p$</th>\n",
       "      <th></th>\n",
       "    </tr>\n",
       "  </thead>\n",
       "  <tbody>\n",
       "    <tr>\n",
       "      <th>1</th>\n",
       "      <td>True</td>\n",
       "      <td>True</td>\n",
       "      <td>$\\parallel $</td>\n",
       "      <td></td>\n",
       "      <td>True</td>\n",
       "      <td>$\\color{green}\\checkmark $</td>\n",
       "    </tr>\n",
       "    <tr>\n",
       "      <th></th>\n",
       "      <td></td>\n",
       "      <td></td>\n",
       "      <td></td>\n",
       "      <td>Tautology</td>\n",
       "      <td></td>\n",
       "      <td></td>\n",
       "    </tr>\n",
       "  </tbody>\n",
       "</table>\n",
       "</div>"
      ],
      "text/plain": [
       "    $p$   $q$  $\\parallel $ $\\models $   $p$                            \n",
       "1  True  True  $\\parallel $             True  $\\color{green}\\checkmark $\n",
       "                             Tautology                                  "
      ]
     },
     "execution_count": 8,
     "metadata": {},
     "output_type": "execute_result"
    }
   ],
   "source": [
    "anything_is_true.truthtable()"
   ]
  },
  {
   "cell_type": "code",
   "execution_count": 9,
   "id": "bae0def2-519d-4bc1-9e09-3b6e0d0e5164",
   "metadata": {},
   "outputs": [
    {
     "name": "stdout",
     "output_type": "stream",
     "text": [
      "A proof named \"anything_is_true\" already exists.\n"
     ]
    }
   ],
   "source": [
    "anything_is_true.saveproof()"
   ]
  },
  {
   "cell_type": "code",
   "execution_count": 2,
   "id": "018f342e-c32f-49be-83ff-a5bd160a30f9",
   "metadata": {},
   "outputs": [
    {
     "name": "stdout",
     "output_type": "stream",
     "text": [
      "0 PROOF: A proof named \"savedproof\" or \"Using Anything Is True\" with description \"A proof using the saved proof Anything Is True\" has been started.\n",
      "1 TRUTH: The letter \"p\" (latex: \"p\") for a generic truth formula has been defined making 1 so far.\n",
      "2 SET LOGIC: \"trivial\" has been selected as the logic described as \"Trivial Logic: Contradiction Entailing Explosion\" and stored in database \"altrea/data/trivial.db\".\n",
      "3 GOAL: The goal \"p\" has been added to the goals.\n",
      "4 SUBSTITUTE: The placeholder(s) in the string \"ConclusionPremises({0}, [])\" have been replaced with \"['p']\" to become \"ConclusionPremises(p, [])\".\n",
      "5 USE SAVED PROOF: Item \"p\" has been added through the \"A proof that any statement is true\" saved proof.\n",
      "6 The proof is complete.\n"
     ]
    },
    {
     "data": {
      "text/html": [
       "<div>\n",
       "<style scoped>\n",
       "    .dataframe tbody tr th:only-of-type {\n",
       "        vertical-align: middle;\n",
       "    }\n",
       "\n",
       "    .dataframe tbody tr th {\n",
       "        vertical-align: top;\n",
       "    }\n",
       "\n",
       "    .dataframe thead th {\n",
       "        text-align: right;\n",
       "    }\n",
       "</style>\n",
       "<table border=\"1\" class=\"dataframe\">\n",
       "  <thead>\n",
       "    <tr style=\"text-align: right;\">\n",
       "      <th></th>\n",
       "      <th>Item</th>\n",
       "      <th>Level</th>\n",
       "      <th>Proof</th>\n",
       "      <th>Rule</th>\n",
       "      <th>Type</th>\n",
       "      <th>Lines</th>\n",
       "      <th>Proofs</th>\n",
       "      <th>Comment</th>\n",
       "    </tr>\n",
       "  </thead>\n",
       "  <tbody>\n",
       "    <tr>\n",
       "      <th>Using Anything Is True</th>\n",
       "      <td>$\\color{blue}p$</td>\n",
       "      <td>0</td>\n",
       "      <td>0</td>\n",
       "      <td>GOAL</td>\n",
       "      <td></td>\n",
       "      <td></td>\n",
       "      <td></td>\n",
       "      <td></td>\n",
       "    </tr>\n",
       "    <tr>\n",
       "      <th>1</th>\n",
       "      <td>$\\color{blue}p$</td>\n",
       "      <td>0</td>\n",
       "      <td>0</td>\n",
       "      <td>Anything Is True</td>\n",
       "      <td>SP</td>\n",
       "      <td></td>\n",
       "      <td></td>\n",
       "      <td>COMPLETE</td>\n",
       "    </tr>\n",
       "  </tbody>\n",
       "</table>\n",
       "</div>"
      ],
      "text/plain": [
       "                                   Item  Level  Proof              Rule Type  \\\n",
       "Using Anything Is True  $\\color{blue}p$      0      0              GOAL        \n",
       "1                       $\\color{blue}p$      0      0  Anything Is True   SP   \n",
       "\n",
       "                       Lines Proofs   Comment  \n",
       "Using Anything Is True                         \n",
       "1                                    COMPLETE  "
      ]
     },
     "execution_count": 2,
     "metadata": {},
     "output_type": "execute_result"
    }
   ],
   "source": [
    "# Create a completed proof.\n",
    "\n",
    "from altrea.boolean import Wff, Or, Not, And, Implies, Iff, Necessary, Possibly\n",
    "from altrea.rules import Proof\n",
    "\n",
    "sp = Proof(name='savedproof', displayname='Using Anything Is True', description='A proof using the saved proof Anything Is True')\n",
    "p = sp.truth('p')\n",
    "sp.setlogic('trivial')\n",
    "sp.goal(p)\n",
    "sp.useproof('anything_is_true', [p])\n",
    "sp.displaylog()\n",
    "sp.displayproof()"
   ]
  },
  {
   "cell_type": "code",
   "execution_count": 2,
   "id": "7ba2fa45-e4c5-42a8-bef8-15d604043b63",
   "metadata": {
    "scrolled": true
   },
   "outputs": [
    {
     "name": "stdout",
     "output_type": "stream",
     "text": [
      " 0 PROOF: A proof named \"not\" or \"Not Is Not Not\" with description \"The Negation Has the Same Value As the Negated\" has been started.\n",
      " 1 TRUTH: The letter \"p\" (latex: \"p\") for a generic truth formula has been defined making 1 so far.\n",
      " 2 TRUTH: The letter \"q\" (latex: \"q\") for a generic truth formula has been defined making 2 so far.\n",
      " 3 SET LOGIC: \"trivial\" has been selected as the logic described as \"Trivial Logic: Contradiction Entailing Explosion\" and stored in database \"altrea/data/trivial.db\".\n",
      " 4 GOAL: The goal \"p\" has been added to the goals.\n",
      " 5 PREMISE: Item \"q\" has been added to the premises.\n",
      " 6 PREMISE: Item \"p | q\" has been added to the premises.\n",
      " 7 SUBSTITUTE: The placeholder(s) in the string \"ConclusionPremises(Not({0}), [{0}])\" have been replaced with \"['q']\" to become \"ConclusionPremises(Not(q), [q])\".\n",
      " 8 DEFINITION: Item \"~q\" has been added using the \"Not Is the Same As What It Negates\" definition.\n",
      " 9 SUBSTITUTE: The placeholder(s) in the string \"ConclusionPremises({0}, [Not({0})])\" have been replaced with \"['q']\" to become \"ConclusionPremises(q, [Not(q)])\".\n",
      "10 DEFINITION: Item \"q\" has been added using the \"Not Is the Same As What It Negates\" definition.\n",
      "    We are given q and p | q as premises.\n"
     ]
    },
    {
     "data": {
      "text/html": [
       "<div>\n",
       "<style scoped>\n",
       "    .dataframe tbody tr th:only-of-type {\n",
       "        vertical-align: middle;\n",
       "    }\n",
       "\n",
       "    .dataframe tbody tr th {\n",
       "        vertical-align: top;\n",
       "    }\n",
       "\n",
       "    .dataframe thead th {\n",
       "        text-align: right;\n",
       "    }\n",
       "</style>\n",
       "<table border=\"1\" class=\"dataframe\">\n",
       "  <thead>\n",
       "    <tr style=\"text-align: right;\">\n",
       "      <th></th>\n",
       "      <th>Item</th>\n",
       "      <th>Level</th>\n",
       "      <th>Proof</th>\n",
       "      <th>Rule</th>\n",
       "      <th>Type</th>\n",
       "      <th>Lines</th>\n",
       "      <th>Proofs</th>\n",
       "      <th>Comment</th>\n",
       "    </tr>\n",
       "  </thead>\n",
       "  <tbody>\n",
       "    <tr>\n",
       "      <th>Not Is Not Not</th>\n",
       "      <td>$\\color{blue}p$</td>\n",
       "      <td>0</td>\n",
       "      <td>0</td>\n",
       "      <td>GOAL</td>\n",
       "      <td></td>\n",
       "      <td></td>\n",
       "      <td></td>\n",
       "      <td></td>\n",
       "    </tr>\n",
       "    <tr>\n",
       "      <th>1</th>\n",
       "      <td>$\\color{green}q$</td>\n",
       "      <td>0</td>\n",
       "      <td>0</td>\n",
       "      <td>Premise</td>\n",
       "      <td>PR</td>\n",
       "      <td></td>\n",
       "      <td></td>\n",
       "      <td></td>\n",
       "    </tr>\n",
       "    <tr>\n",
       "      <th>2</th>\n",
       "      <td>$\\color{green}p \\vee q$</td>\n",
       "      <td>0</td>\n",
       "      <td>0</td>\n",
       "      <td>Premise</td>\n",
       "      <td>PR</td>\n",
       "      <td></td>\n",
       "      <td></td>\n",
       "      <td></td>\n",
       "    </tr>\n",
       "    <tr>\n",
       "      <th>3</th>\n",
       "      <td>$\\color{green}\\lnot q$</td>\n",
       "      <td>0</td>\n",
       "      <td>0</td>\n",
       "      <td>Not From Not Not</td>\n",
       "      <td>DEF</td>\n",
       "      <td>1</td>\n",
       "      <td></td>\n",
       "      <td></td>\n",
       "    </tr>\n",
       "    <tr>\n",
       "      <th>4</th>\n",
       "      <td>$\\color{green}q$</td>\n",
       "      <td>0</td>\n",
       "      <td>0</td>\n",
       "      <td>Not Not From Not</td>\n",
       "      <td>DEF</td>\n",
       "      <td>3</td>\n",
       "      <td></td>\n",
       "      <td>hello</td>\n",
       "    </tr>\n",
       "  </tbody>\n",
       "</table>\n",
       "</div>"
      ],
      "text/plain": [
       "                                   Item  Level  Proof              Rule  Type  \\\n",
       "Not Is Not Not          $\\color{blue}p$      0      0              GOAL         \n",
       "1                      $\\color{green}q$      0      0           Premise    PR   \n",
       "2               $\\color{green}p \\vee q$      0      0           Premise    PR   \n",
       "3                $\\color{green}\\lnot q$      0      0  Not From Not Not   DEF   \n",
       "4                      $\\color{green}q$      0      0  Not Not From Not   DEF   \n",
       "\n",
       "               Lines Proofs Comment  \n",
       "Not Is Not Not                       \n",
       "1                                    \n",
       "2                                    \n",
       "3                  1                 \n",
       "4                  3          hello  "
      ]
     },
     "execution_count": 2,
     "metadata": {},
     "output_type": "execute_result"
    }
   ],
   "source": [
    "# Using the useless definition \"not\"\n",
    "from altrea.boolean import Wff, Or, Not, And, Implies, Iff, Necessary, Possibly\n",
    "from altrea.rules import Proof\n",
    "\n",
    "n = Proof(name='not', displayname='Not Is Not Not', description='The Negation Has the Same Value As the Negated')\n",
    "p = n.truth('p')\n",
    "q = n.truth('q')\n",
    "n.setlogic('trivial')\n",
    "n.goal(p)\n",
    "n.premise(q)\n",
    "n.premise(Or(p, q))\n",
    "n.definition('not_from_notnot', [1], [q])\n",
    "n.definition('notnot_from_not', [3], [q], 'hello')\n",
    "#n.definition('not', 3, 'right', 'revert', q)\n",
    "#n.definition('not', 2, 'left', 'new', Or(p, q))\n",
    "#n.definition('not', 5, 'right', '', Or(p, q))\n",
    "n.displaylog()\n",
    "n.writeproof()\n",
    "n.displayproof()"
   ]
  },
  {
   "cell_type": "code",
   "execution_count": 2,
   "id": "3169075d-ca6c-421e-89b9-8e6a50f6c2b5",
   "metadata": {},
   "outputs": [
    {
     "name": "stdout",
     "output_type": "stream",
     "text": [
      "Implies\n",
      "Iff\n",
      "And\n",
      "Or\n",
      "Not\n",
      "Necessary\n",
      "Possibly\n",
      "ConclusionPremises\n",
      "Definition\n",
      "p\n",
      "q\n",
      "__builtins__\n"
     ]
    }
   ],
   "source": [
    "for i in n.objectdictionary:\n",
    "    print(i)"
   ]
  },
  {
   "cell_type": "code",
   "execution_count": 15,
   "id": "eaf73831-df42-4a2b-b339-0eaf469166cf",
   "metadata": {},
   "outputs": [
    {
     "data": {
      "application/vnd.dataresource+json": {
       "data": [
        {
         " ": "$\\color{green}\\checkmark $",
         "$\\models $": " ",
         "$\\parallel $": "$\\parallel $",
         "$p \\vee q$": true,
         "$p$": true,
         "$q$": true,
         "index": 1
        },
        {
         " ": " ",
         "$\\models $": "Tautology",
         "$\\parallel $": " ",
         "$p \\vee q$": "$\\color{red}\\times $",
         "$p$": " ",
         "$q$": "$\\color{red}\\times $",
         "index": " "
        }
       ],
       "schema": {
        "fields": [
         {
          "name": "index",
          "type": "string"
         },
         {
          "name": "$p$",
          "type": "string"
         },
         {
          "name": "$q$",
          "type": "string"
         },
         {
          "name": "$\\parallel $",
          "type": "string"
         },
         {
          "name": "$q$",
          "type": "string"
         },
         {
          "name": "$p \\vee q$",
          "type": "string"
         },
         {
          "name": "$\\models $",
          "type": "string"
         },
         {
          "name": "$p$",
          "type": "string"
         },
         {
          "name": " ",
          "type": "string"
         }
        ],
        "pandas_version": "1.4.0",
        "primaryKey": [
         "index"
        ]
       }
      },
      "text/html": [
       "<div>\n",
       "<style scoped>\n",
       "    .dataframe tbody tr th:only-of-type {\n",
       "        vertical-align: middle;\n",
       "    }\n",
       "\n",
       "    .dataframe tbody tr th {\n",
       "        vertical-align: top;\n",
       "    }\n",
       "\n",
       "    .dataframe thead th {\n",
       "        text-align: right;\n",
       "    }\n",
       "</style>\n",
       "<table border=\"1\" class=\"dataframe\">\n",
       "  <thead>\n",
       "    <tr style=\"text-align: right;\">\n",
       "      <th></th>\n",
       "      <th>$p$</th>\n",
       "      <th>$q$</th>\n",
       "      <th>$\\parallel $</th>\n",
       "      <th>$q$</th>\n",
       "      <th>$p \\vee q$</th>\n",
       "      <th>$\\models $</th>\n",
       "      <th>$p$</th>\n",
       "      <th></th>\n",
       "    </tr>\n",
       "  </thead>\n",
       "  <tbody>\n",
       "    <tr>\n",
       "      <th>1</th>\n",
       "      <td>True</td>\n",
       "      <td>True</td>\n",
       "      <td>$\\parallel $</td>\n",
       "      <td>True</td>\n",
       "      <td>True</td>\n",
       "      <td></td>\n",
       "      <td>True</td>\n",
       "      <td>$\\color{green}\\checkmark $</td>\n",
       "    </tr>\n",
       "    <tr>\n",
       "      <th></th>\n",
       "      <td></td>\n",
       "      <td></td>\n",
       "      <td></td>\n",
       "      <td>$\\color{red}\\times $</td>\n",
       "      <td>$\\color{red}\\times $</td>\n",
       "      <td>Tautology</td>\n",
       "      <td></td>\n",
       "      <td></td>\n",
       "    </tr>\n",
       "  </tbody>\n",
       "</table>\n",
       "</div>"
      ],
      "text/plain": [
       "    $p$   $q$  $\\parallel $                   $q$            $p \\vee q$  \\\n",
       "1  True  True  $\\parallel $                  True                  True   \n",
       "                             $\\color{red}\\times $  $\\color{red}\\times $   \n",
       "\n",
       "  $\\models $   $p$                              \n",
       "1             True  $\\color{green}\\checkmark $  \n",
       "   Tautology                                    "
      ]
     },
     "execution_count": 15,
     "metadata": {},
     "output_type": "execute_result"
    }
   ],
   "source": [
    "n.truthtable()"
   ]
  },
  {
   "cell_type": "code",
   "execution_count": null,
   "id": "17a65f46-ae21-4018-9f64-39b924efb4c0",
   "metadata": {},
   "outputs": [],
   "source": []
  },
  {
   "cell_type": "code",
   "execution_count": 3,
   "id": "f31b26bb-6ede-4974-a901-65bceb541209",
   "metadata": {},
   "outputs": [
    {
     "name": "stdout",
     "output_type": "stream",
     "text": [
      "0 PROOF: A proof named \"invalid tt\" or \"Invalid Truth Table\" with description \"Trying to generate an invalid truth table in trivial logic using boolean operators.\" has been started.\n",
      "1 TRUTH: The letter \"p\" (latex: \"p\") for a generic truth formula has been defined making 1 so far.\n",
      "2 SET LOGIC: \"trivial\" has been selected as the logic described as \"Trivial Logic: Contradiction Entailing Explosion\" and stored in database \"altrea/data/trivial.db\".\n",
      "3 GOAL: The goal \"~p\" has been added to the goals.\n",
      "4 PREMISE: Item \"p\" has been added to the premises.\n",
      "5 SUBSTITUTE: The placeholder(s) in the string \"ConclusionPremises(Not({0}), [{0}])\" have been replaced with \"['p']\" to become \"ConclusionPremises(Not(p), [p])\".\n",
      "6 DEFINITION: Item \"~p\" has been added using the \"Not Is the Same As What It Negates\" definition.\n",
      "7 The proof is complete.\n"
     ]
    },
    {
     "data": {
      "text/html": [
       "<div>\n",
       "<style scoped>\n",
       "    .dataframe tbody tr th:only-of-type {\n",
       "        vertical-align: middle;\n",
       "    }\n",
       "\n",
       "    .dataframe tbody tr th {\n",
       "        vertical-align: top;\n",
       "    }\n",
       "\n",
       "    .dataframe thead th {\n",
       "        text-align: right;\n",
       "    }\n",
       "</style>\n",
       "<table border=\"1\" class=\"dataframe\">\n",
       "  <thead>\n",
       "    <tr style=\"text-align: right;\">\n",
       "      <th></th>\n",
       "      <th>Item</th>\n",
       "      <th>Level</th>\n",
       "      <th>Proof</th>\n",
       "      <th>Rule</th>\n",
       "      <th>Type</th>\n",
       "      <th>Lines</th>\n",
       "      <th>Proofs</th>\n",
       "      <th>Comment</th>\n",
       "    </tr>\n",
       "  </thead>\n",
       "  <tbody>\n",
       "    <tr>\n",
       "      <th>Invalid Truth Table</th>\n",
       "      <td>$\\color{blue}\\lnot p$</td>\n",
       "      <td>0</td>\n",
       "      <td>0</td>\n",
       "      <td>GOAL</td>\n",
       "      <td></td>\n",
       "      <td></td>\n",
       "      <td></td>\n",
       "      <td></td>\n",
       "    </tr>\n",
       "    <tr>\n",
       "      <th>1</th>\n",
       "      <td>$p$</td>\n",
       "      <td>0</td>\n",
       "      <td>0</td>\n",
       "      <td>Premise</td>\n",
       "      <td>PR</td>\n",
       "      <td></td>\n",
       "      <td></td>\n",
       "      <td></td>\n",
       "    </tr>\n",
       "    <tr>\n",
       "      <th>2</th>\n",
       "      <td>$\\color{blue}\\lnot p$</td>\n",
       "      <td>0</td>\n",
       "      <td>0</td>\n",
       "      <td>Not From Not Not</td>\n",
       "      <td>DEF</td>\n",
       "      <td>1</td>\n",
       "      <td></td>\n",
       "      <td>COMPLETE - should complete the proof</td>\n",
       "    </tr>\n",
       "  </tbody>\n",
       "</table>\n",
       "</div>"
      ],
      "text/plain": [
       "                                      Item  Level  Proof              Rule  \\\n",
       "Invalid Truth Table  $\\color{blue}\\lnot p$      0      0              GOAL   \n",
       "1                                      $p$      0      0           Premise   \n",
       "2                    $\\color{blue}\\lnot p$      0      0  Not From Not Not   \n",
       "\n",
       "                     Type Lines Proofs                               Comment  \n",
       "Invalid Truth Table                                                           \n",
       "1                      PR                                                     \n",
       "2                     DEF     1         COMPLETE - should complete the proof  "
      ]
     },
     "execution_count": 3,
     "metadata": {},
     "output_type": "execute_result"
    }
   ],
   "source": [
    "# Trying to generate an invalid truth table with trivial logic.\n",
    "\n",
    "from altrea.boolean import Wff, Or, Not, And, Implies, Iff, Necessary, Possibly\n",
    "from altrea.rules import Proof\n",
    "\n",
    "n2 = Proof(name='invalid tt', displayname='Invalid Truth Table', description='Trying to generate an invalid truth table in trivial logic using boolean operators.')\n",
    "p = n2.truth('p')\n",
    "n2.setlogic('trivial')\n",
    "n2.goal(Not(p))\n",
    "n2.premise(p)\n",
    "n2.definition('not_from_notnot', [1], [p],'should complete the proof')\n",
    "n2.displaylog()\n",
    "n2.displayproof()"
   ]
  },
  {
   "cell_type": "code",
   "execution_count": 17,
   "id": "41062fbd-d902-4d30-bbc2-4e1ea1bf13d8",
   "metadata": {},
   "outputs": [
    {
     "data": {
      "application/vnd.dataresource+json": {
       "data": [
        {
         " ": "$\\color{red}\\times $",
         "$\\lnot p$": false,
         "$\\models $": " ",
         "$\\parallel $": "$\\parallel $",
         "$p$": true,
         "index": 1
        },
        {
         " ": " ",
         "$\\lnot p$": " ",
         "$\\models $": "Invalid",
         "$\\parallel $": " ",
         "$p$": " ",
         "index": " "
        }
       ],
       "schema": {
        "fields": [
         {
          "name": "index",
          "type": "string"
         },
         {
          "name": "$p$",
          "type": "string"
         },
         {
          "name": "$\\parallel $",
          "type": "string"
         },
         {
          "name": "$p$",
          "type": "string"
         },
         {
          "name": "$\\models $",
          "type": "string"
         },
         {
          "name": "$\\lnot p$",
          "type": "string"
         },
         {
          "name": " ",
          "type": "string"
         }
        ],
        "pandas_version": "1.4.0",
        "primaryKey": [
         "index"
        ]
       }
      },
      "text/html": [
       "<div>\n",
       "<style scoped>\n",
       "    .dataframe tbody tr th:only-of-type {\n",
       "        vertical-align: middle;\n",
       "    }\n",
       "\n",
       "    .dataframe tbody tr th {\n",
       "        vertical-align: top;\n",
       "    }\n",
       "\n",
       "    .dataframe thead th {\n",
       "        text-align: right;\n",
       "    }\n",
       "</style>\n",
       "<table border=\"1\" class=\"dataframe\">\n",
       "  <thead>\n",
       "    <tr style=\"text-align: right;\">\n",
       "      <th></th>\n",
       "      <th>$p$</th>\n",
       "      <th>$\\parallel $</th>\n",
       "      <th>$p$</th>\n",
       "      <th>$\\models $</th>\n",
       "      <th>$\\lnot p$</th>\n",
       "      <th></th>\n",
       "    </tr>\n",
       "  </thead>\n",
       "  <tbody>\n",
       "    <tr>\n",
       "      <th>1</th>\n",
       "      <td>True</td>\n",
       "      <td>$\\parallel $</td>\n",
       "      <td>True</td>\n",
       "      <td></td>\n",
       "      <td>False</td>\n",
       "      <td>$\\color{red}\\times $</td>\n",
       "    </tr>\n",
       "    <tr>\n",
       "      <th></th>\n",
       "      <td></td>\n",
       "      <td></td>\n",
       "      <td></td>\n",
       "      <td>Invalid</td>\n",
       "      <td></td>\n",
       "      <td></td>\n",
       "    </tr>\n",
       "  </tbody>\n",
       "</table>\n",
       "</div>"
      ],
      "text/plain": [
       "    $p$  $\\parallel $   $p$ $\\models $ $\\lnot p$                      \n",
       "1  True  $\\parallel $  True                False  $\\color{red}\\times $\n",
       "                               Invalid                                "
      ]
     },
     "execution_count": 17,
     "metadata": {},
     "output_type": "execute_result"
    }
   ],
   "source": [
    "n2.truthtable()"
   ]
  },
  {
   "cell_type": "markdown",
   "id": "3c2a930a-6ddc-4e24-b53f-9ddec5332b5d",
   "metadata": {},
   "source": [
    "## Create a modus ponens proof, save it to the database and then use it."
   ]
  },
  {
   "cell_type": "code",
   "execution_count": 1,
   "id": "a2cc3a5e-38bb-4942-8e8d-2f98f2dcc0a1",
   "metadata": {},
   "outputs": [
    {
     "name": "stdout",
     "output_type": "stream",
     "text": [
      "0 PROOF: A proof named \"modusponens\" or \"Modus Ponens\" with description \"Modus ponens or implication elimination.\" has been started.\n",
      "1 TRUTH: The letter \"A\" (latex: \"A\") for a generic truth formula has been defined making 1 so far.\n",
      "2 TRUTH: The letter \"B\" (latex: \"B\") for a generic truth formula has been defined making 2 so far.\n",
      "3 SET LOGIC: \"trivial\" has been selected as the logic described as \"Trivial Logic: Contradiction Entailing Explosion\" and stored in database \"altrea/data/trivial.db\".\n",
      "4 GOAL: The goal \"B\" has been added to the goals.\n",
      "5 PREMISE: Item \"A\" has been added to the premises.\n",
      "6 PREMISE: Item \"A > B\" has been added to the premises.\n",
      "7 IMPLICATION ELIM: Item \"B\" has been derived from the implication \"A > B\" and item \"A\".\n",
      "8 The proof is complete.\n"
     ]
    },
    {
     "data": {
      "text/html": [
       "<div>\n",
       "<style scoped>\n",
       "    .dataframe tbody tr th:only-of-type {\n",
       "        vertical-align: middle;\n",
       "    }\n",
       "\n",
       "    .dataframe tbody tr th {\n",
       "        vertical-align: top;\n",
       "    }\n",
       "\n",
       "    .dataframe thead th {\n",
       "        text-align: right;\n",
       "    }\n",
       "</style>\n",
       "<table border=\"1\" class=\"dataframe\">\n",
       "  <thead>\n",
       "    <tr style=\"text-align: right;\">\n",
       "      <th></th>\n",
       "      <th>Item</th>\n",
       "      <th>Level</th>\n",
       "      <th>Proof</th>\n",
       "      <th>Rule</th>\n",
       "      <th>Type</th>\n",
       "      <th>Lines</th>\n",
       "      <th>Proofs</th>\n",
       "      <th>Comment</th>\n",
       "    </tr>\n",
       "  </thead>\n",
       "  <tbody>\n",
       "    <tr>\n",
       "      <th>Modus Ponens</th>\n",
       "      <td>$\\color{blue}B$</td>\n",
       "      <td>0</td>\n",
       "      <td>0</td>\n",
       "      <td>GOAL</td>\n",
       "      <td></td>\n",
       "      <td></td>\n",
       "      <td></td>\n",
       "      <td></td>\n",
       "    </tr>\n",
       "    <tr>\n",
       "      <th>1</th>\n",
       "      <td>$A$</td>\n",
       "      <td>0</td>\n",
       "      <td>0</td>\n",
       "      <td>Premise</td>\n",
       "      <td>PR</td>\n",
       "      <td></td>\n",
       "      <td></td>\n",
       "      <td></td>\n",
       "    </tr>\n",
       "    <tr>\n",
       "      <th>2</th>\n",
       "      <td>$A \\supset  B$</td>\n",
       "      <td>0</td>\n",
       "      <td>0</td>\n",
       "      <td>Premise</td>\n",
       "      <td>PR</td>\n",
       "      <td></td>\n",
       "      <td></td>\n",
       "      <td></td>\n",
       "    </tr>\n",
       "    <tr>\n",
       "      <th>3</th>\n",
       "      <td>$\\color{blue}B$</td>\n",
       "      <td>0</td>\n",
       "      <td>0</td>\n",
       "      <td>Implication Elim</td>\n",
       "      <td>TR</td>\n",
       "      <td>1, 2</td>\n",
       "      <td></td>\n",
       "      <td>COMPLETE</td>\n",
       "    </tr>\n",
       "  </tbody>\n",
       "</table>\n",
       "</div>"
      ],
      "text/plain": [
       "                         Item  Level  Proof              Rule Type Lines  \\\n",
       "Modus Ponens  $\\color{blue}B$      0      0              GOAL              \n",
       "1                         $A$      0      0           Premise   PR         \n",
       "2              $A \\supset  B$      0      0           Premise   PR         \n",
       "3             $\\color{blue}B$      0      0  Implication Elim   TR  1, 2   \n",
       "\n",
       "             Proofs   Comment  \n",
       "Modus Ponens                   \n",
       "1                              \n",
       "2                              \n",
       "3                    COMPLETE  "
      ]
     },
     "execution_count": 1,
     "metadata": {},
     "output_type": "execute_result"
    }
   ],
   "source": [
    "from altrea.boolean import Wff, Or, Not, And, Implies, Iff, Necessary, Possibly\n",
    "from altrea.rules import Proof\n",
    "\n",
    "modusponens = Proof(name='modusponens', displayname='Modus Ponens', description='Modus ponens or implication elimination.')\n",
    "A = modusponens.truth('A')\n",
    "B = modusponens.truth('B')\n",
    "modusponens.setlogic('trivial')\n",
    "modusponens.goal(B)\n",
    "modusponens.premise(A)\n",
    "modusponens.premise(Implies(A, B))\n",
    "modusponens.implication_elim(1, 2)\n",
    "modusponens.displaylog()\n",
    "modusponens.displayproof()"
   ]
  },
  {
   "cell_type": "code",
   "execution_count": 4,
   "id": "5a44bc7f-dc1f-4068-b196-c5525505873f",
   "metadata": {},
   "outputs": [
    {
     "name": "stdout",
     "output_type": "stream",
     "text": [
      "The proof details for \"modusponens\" have been deleted from proofdetails for \"trivial\".\n",
      "The proof \"modusponens\" has been deleted from proofs for \"trivial\".\n",
      "The proof \"modusponens\" for logic \"trivial\" has been added to altrea/data/trivial.db.\n",
      "The proof details for \"modusponens\" for logic \"trivial\" have been added to altrea/data/trivial.db.\n"
     ]
    }
   ],
   "source": [
    "modusponens.replaceproof()"
   ]
  },
  {
   "cell_type": "code",
   "execution_count": 5,
   "id": "d2fdcbfd-68a1-46bc-808c-2846be2305ef",
   "metadata": {},
   "outputs": [
    {
     "data": {
      "text/html": [
       "<div>\n",
       "<style scoped>\n",
       "    .dataframe tbody tr th:only-of-type {\n",
       "        vertical-align: middle;\n",
       "    }\n",
       "\n",
       "    .dataframe tbody tr th {\n",
       "        vertical-align: top;\n",
       "    }\n",
       "\n",
       "    .dataframe thead th {\n",
       "        text-align: right;\n",
       "    }\n",
       "</style>\n",
       "<table border=\"1\" class=\"dataframe\">\n",
       "  <thead>\n",
       "    <tr style=\"text-align: right;\">\n",
       "      <th></th>\n",
       "      <th>Item</th>\n",
       "      <th>Level</th>\n",
       "      <th>Proof</th>\n",
       "      <th>Rule</th>\n",
       "      <th>Lines</th>\n",
       "      <th>Proofs</th>\n",
       "      <th>Comment</th>\n",
       "    </tr>\n",
       "  </thead>\n",
       "  <tbody>\n",
       "    <tr>\n",
       "      <th>0</th>\n",
       "      <td>{0}</td>\n",
       "      <td>0</td>\n",
       "      <td>0</td>\n",
       "      <td>*P*</td>\n",
       "      <td></td>\n",
       "      <td></td>\n",
       "      <td></td>\n",
       "    </tr>\n",
       "    <tr>\n",
       "      <th>1</th>\n",
       "      <td>Implies({0}, {1})</td>\n",
       "      <td>0</td>\n",
       "      <td>0</td>\n",
       "      <td>*P*</td>\n",
       "      <td></td>\n",
       "      <td></td>\n",
       "      <td></td>\n",
       "    </tr>\n",
       "    <tr>\n",
       "      <th>2</th>\n",
       "      <td>{1}</td>\n",
       "      <td>0</td>\n",
       "      <td>0</td>\n",
       "      <td>*IE*</td>\n",
       "      <td>1, 2</td>\n",
       "      <td></td>\n",
       "      <td>COMPLETE</td>\n",
       "    </tr>\n",
       "  </tbody>\n",
       "</table>\n",
       "</div>"
      ],
      "text/plain": [
       "                Item  Level  Proof  Rule Lines Proofs   Comment\n",
       "0                {0}      0      0   *P*                       \n",
       "1  Implies({0}, {1})      0      0   *P*                       \n",
       "2                {1}      0      0  *IE*  1, 2         COMPLETE"
      ]
     },
     "execution_count": 5,
     "metadata": {},
     "output_type": "execute_result"
    }
   ],
   "source": [
    "modusponens.proofdetailsraw('modusponens')"
   ]
  },
  {
   "cell_type": "code",
   "execution_count": 2,
   "id": "166f0ae7-8729-459d-99d0-2066ccc989a4",
   "metadata": {},
   "outputs": [
    {
     "data": {
      "text/plain": [
       "[['modusponens',\n",
       "  'Modus Ponens',\n",
       "  'Modus ponens or implication elimination.',\n",
       "  'trivial',\n",
       "  'ConclusionPremises({1}, [{0}, Implies({0}, {1})])'],\n",
       " ['modusponens', '{0}', 0, 0, '*P*', '', '', ''],\n",
       " ['modusponens', 'Implies({0}, {1})', 0, 0, '*P*', '', '', ''],\n",
       " ['modusponens', '{1}', 0, 0, '*IE*', '1, 2', '', 'COMPLETE']]"
      ]
     },
     "execution_count": 2,
     "metadata": {},
     "output_type": "execute_result"
    }
   ],
   "source": [
    "modusponens.proofdatafinal"
   ]
  },
  {
   "cell_type": "code",
   "execution_count": 2,
   "id": "8fd98c89-dcfe-4244-843b-44e33e6fe3f5",
   "metadata": {},
   "outputs": [
    {
     "name": "stdout",
     "output_type": "stream",
     "text": [
      " 0 PROOF: A proof named \"Using mp saved proof\" or \"mp\" with description \"Showing how the one should use a saved proof with premises\" has been started.\n",
      " 1 PROPOSITION: The letter \"P\" for a generic well-formed formula has been defined with 1 so far for this proof.\n",
      " 2 PROPOSITION: The letter \"Q\" for a generic well-formed formula has been defined with 2 so far for this proof.\n",
      " 3 SET LOGIC: \"trivial\" has been selected as the logic described as \"Trivial Logic: Contradiction Entailing Explosion\" and stored in database \"altrea/data/trivial.db\".\n",
      " 4 GOAL: The goal \"Q\" has been added to the goals.\n",
      " 5 PREMISE: Item \"P\" has been added to the premises.\n",
      " 6 PREMISE: Item \"P > Q\" has been added to the premises.\n",
      " 7 SUBSTITUTE: The placeholder(s) in the string \"ConclusionPremises({1}, [{0}, Implies({0}, {1})])\" have been replaced with \"['P', 'Q']\" to become \"ConclusionPremises(Q, [P, Implies(P, Q)])\".\n",
      " 8 USE SAVED PROOF: Item \"Q\" has been added through the \"Modus ponens or implication elimination.\" saved proof.\n",
      " 9 The proof is complete.\n"
     ]
    },
    {
     "data": {
      "text/html": [
       "<div>\n",
       "<style scoped>\n",
       "    .dataframe tbody tr th:only-of-type {\n",
       "        vertical-align: middle;\n",
       "    }\n",
       "\n",
       "    .dataframe tbody tr th {\n",
       "        vertical-align: top;\n",
       "    }\n",
       "\n",
       "    .dataframe thead th {\n",
       "        text-align: right;\n",
       "    }\n",
       "</style>\n",
       "<table border=\"1\" class=\"dataframe\">\n",
       "  <thead>\n",
       "    <tr style=\"text-align: right;\">\n",
       "      <th></th>\n",
       "      <th>Item</th>\n",
       "      <th>Level</th>\n",
       "      <th>Proof</th>\n",
       "      <th>Rule</th>\n",
       "      <th>Type</th>\n",
       "      <th>Lines</th>\n",
       "      <th>Proofs</th>\n",
       "      <th>Comment</th>\n",
       "    </tr>\n",
       "  </thead>\n",
       "  <tbody>\n",
       "    <tr>\n",
       "      <th>mp</th>\n",
       "      <td>$\\color{blue}Q$</td>\n",
       "      <td>0</td>\n",
       "      <td>0</td>\n",
       "      <td>GOAL</td>\n",
       "      <td></td>\n",
       "      <td></td>\n",
       "      <td></td>\n",
       "      <td></td>\n",
       "    </tr>\n",
       "    <tr>\n",
       "      <th>1</th>\n",
       "      <td>$P$</td>\n",
       "      <td>0</td>\n",
       "      <td>0</td>\n",
       "      <td>Premise</td>\n",
       "      <td>PR</td>\n",
       "      <td></td>\n",
       "      <td></td>\n",
       "      <td></td>\n",
       "    </tr>\n",
       "    <tr>\n",
       "      <th>2</th>\n",
       "      <td>$P \\supset  Q$</td>\n",
       "      <td>0</td>\n",
       "      <td>0</td>\n",
       "      <td>Premise</td>\n",
       "      <td>PR</td>\n",
       "      <td></td>\n",
       "      <td></td>\n",
       "      <td></td>\n",
       "    </tr>\n",
       "    <tr>\n",
       "      <th>3</th>\n",
       "      <td>$\\color{blue}Q$</td>\n",
       "      <td>0</td>\n",
       "      <td>0</td>\n",
       "      <td>Modus Ponens</td>\n",
       "      <td>SP</td>\n",
       "      <td>1, 2</td>\n",
       "      <td></td>\n",
       "      <td>COMPLETE</td>\n",
       "    </tr>\n",
       "  </tbody>\n",
       "</table>\n",
       "</div>"
      ],
      "text/plain": [
       "               Item  Level  Proof          Rule Type Lines Proofs   Comment\n",
       "mp  $\\color{blue}Q$      0      0          GOAL                            \n",
       "1               $P$      0      0       Premise   PR                       \n",
       "2    $P \\supset  Q$      0      0       Premise   PR                       \n",
       "3   $\\color{blue}Q$      0      0  Modus Ponens   SP  1, 2         COMPLETE"
      ]
     },
     "execution_count": 2,
     "metadata": {},
     "output_type": "execute_result"
    }
   ],
   "source": [
    "from altrea.rules import Proof\n",
    "from altrea.boolean import Implies\n",
    "usemp = Proof(name='Using mp saved proof', displayname='mp', description='Showing how the one should use a saved proof with premises')\n",
    "P = usemp.proposition('P')\n",
    "Q = usemp.proposition('Q')\n",
    "usemp.setlogic('trivial')\n",
    "usemp.goal(Q)\n",
    "usemp.premise(P)\n",
    "usemp.premise(Implies(P, Q))\n",
    "usemp.useproof('modusponens', [P, Q], [1,2])\n",
    "usemp.displaylog()\n",
    "usemp.displayproof()"
   ]
  },
  {
   "cell_type": "code",
   "execution_count": 19,
   "id": "26acdee3-19fa-4774-8454-786a484134c7",
   "metadata": {},
   "outputs": [
    {
     "name": "stdout",
     "output_type": "stream",
     "text": [
      "The proof details for \"anything_is_true\" have been deleted from proofdetails for \"trivial\".\n",
      "The proof \"anything_is_true\" has been deleted from proofs for \"trivial\".\n",
      "The proof \"anything_is_true\" for logic \"trivial\" has been added to altrea/data/trivial.db.\n",
      "The proof details for \"anything_is_true\" for logic \"trivial\" have been added to altrea/data/trivial.db.\n"
     ]
    }
   ],
   "source": [
    "anything_is_true.replaceproof()"
   ]
  },
  {
   "cell_type": "code",
   "execution_count": 20,
   "id": "93856080-9c90-4ffd-9017-37215a1d7fa4",
   "metadata": {},
   "outputs": [
    {
     "data": {
      "text/plain": [
       "[['anything_is_true',\n",
       "  'Anything Is True',\n",
       "  'A proof that any statement is true',\n",
       "  'trivial',\n",
       "  'ConclusionPremises({0})'],\n",
       " ['anything_is_true',\n",
       "  'And({1}, Not({1}))',\n",
       "  0,\n",
       "  0,\n",
       "  '*Contradiction*',\n",
       "  '',\n",
       "  '',\n",
       "  ''],\n",
       " ['anything_is_true',\n",
       "  'Implies(And({1}, Not({1})), {0})',\n",
       "  0,\n",
       "  0,\n",
       "  '*Explosion*',\n",
       "  '',\n",
       "  '',\n",
       "  ''],\n",
       " ['anything_is_true', '{0}', 0, 0, '*IE*', '1, 2', '', 'COMPLETE']]"
      ]
     },
     "execution_count": 20,
     "metadata": {},
     "output_type": "execute_result"
    }
   ],
   "source": [
    "anything_is_true.proofdatafinal"
   ]
  },
  {
   "cell_type": "code",
   "execution_count": 22,
   "id": "afce2b0e-10a3-41a8-a411-adc52f90c885",
   "metadata": {},
   "outputs": [
    {
     "data": {
      "text/plain": [
       "[['anything_is_true',\n",
       "  'Anything Is True',\n",
       "  'A proof that any statement is true',\n",
       "  'trivial',\n",
       "  'ConclusionPremises({0})'],\n",
       " ['anything_is_true',\n",
       "  'And({1}, Not({1}))',\n",
       "  0,\n",
       "  0,\n",
       "  '*Contradiction*',\n",
       "  '',\n",
       "  '',\n",
       "  ''],\n",
       " ['anything_is_true',\n",
       "  'Implies(And({1}, Not({1})), {0})',\n",
       "  0,\n",
       "  0,\n",
       "  '*Explosion*',\n",
       "  '',\n",
       "  '',\n",
       "  ''],\n",
       " ['anything_is_true', '{0}', 0, 0, '*IE*', '1, 2', '', 'COMPLETE']]"
      ]
     },
     "execution_count": 22,
     "metadata": {},
     "output_type": "execute_result"
    }
   ],
   "source": [
    "anything_is_true.proofdatafinal"
   ]
  },
  {
   "cell_type": "code",
   "execution_count": 10,
   "id": "aa859088-2359-4535-b649-8912c6c8740f",
   "metadata": {},
   "outputs": [
    {
     "data": {
      "text/html": [
       "<div>\n",
       "<style scoped>\n",
       "    .dataframe tbody tr th:only-of-type {\n",
       "        vertical-align: middle;\n",
       "    }\n",
       "\n",
       "    .dataframe tbody tr th {\n",
       "        vertical-align: top;\n",
       "    }\n",
       "\n",
       "    .dataframe thead th {\n",
       "        text-align: right;\n",
       "    }\n",
       "</style>\n",
       "<table border=\"1\" class=\"dataframe\">\n",
       "  <thead>\n",
       "    <tr style=\"text-align: right;\">\n",
       "      <th></th>\n",
       "      <th>Item</th>\n",
       "      <th>Level</th>\n",
       "      <th>Proof</th>\n",
       "      <th>Rule</th>\n",
       "      <th>Lines</th>\n",
       "      <th>Proofs</th>\n",
       "      <th>Comment</th>\n",
       "    </tr>\n",
       "  </thead>\n",
       "  <tbody>\n",
       "    <tr>\n",
       "      <th>0</th>\n",
       "      <td>And({1}, Not({1}))</td>\n",
       "      <td>0</td>\n",
       "      <td>0</td>\n",
       "      <td>*Contradiction*</td>\n",
       "      <td>[]</td>\n",
       "      <td></td>\n",
       "      <td></td>\n",
       "    </tr>\n",
       "    <tr>\n",
       "      <th>1</th>\n",
       "      <td>{1}</td>\n",
       "      <td>0</td>\n",
       "      <td>0</td>\n",
       "      <td>*CE*</td>\n",
       "      <td>1</td>\n",
       "      <td></td>\n",
       "      <td></td>\n",
       "    </tr>\n",
       "    <tr>\n",
       "      <th>2</th>\n",
       "      <td>Not({1})</td>\n",
       "      <td>0</td>\n",
       "      <td>0</td>\n",
       "      <td>*CE*</td>\n",
       "      <td>1</td>\n",
       "      <td></td>\n",
       "      <td></td>\n",
       "    </tr>\n",
       "    <tr>\n",
       "      <th>3</th>\n",
       "      <td>{0}</td>\n",
       "      <td>0</td>\n",
       "      <td>0</td>\n",
       "      <td>*Explosion*</td>\n",
       "      <td>[2, 3]</td>\n",
       "      <td></td>\n",
       "      <td>COMPLETE</td>\n",
       "    </tr>\n",
       "  </tbody>\n",
       "</table>\n",
       "</div>"
      ],
      "text/plain": [
       "                 Item  Level  Proof             Rule   Lines Proofs   Comment\n",
       "0  And({1}, Not({1}))      0      0  *Contradiction*      []                 \n",
       "1                 {1}      0      0             *CE*       1                 \n",
       "2            Not({1})      0      0             *CE*       1                 \n",
       "3                 {0}      0      0      *Explosion*  [2, 3]         COMPLETE"
      ]
     },
     "execution_count": 10,
     "metadata": {},
     "output_type": "execute_result"
    }
   ],
   "source": [
    "anything_is_true.proofdetailsraw('anything_is_true')"
   ]
  },
  {
   "cell_type": "code",
   "execution_count": 24,
   "id": "564013c9-0988-4592-9182-009d3389cd3f",
   "metadata": {},
   "outputs": [
    {
     "data": {
      "application/vnd.dataresource+json": {
       "data": [
        {
         "Description": "A proof that any statement is true",
         "Display": "Anything Is True",
         "Name": "anything_is_true",
         "Pattern": "ConclusionPremises({0})",
         "index": 0
        }
       ],
       "schema": {
        "fields": [
         {
          "name": "index",
          "type": "integer"
         },
         {
          "name": "Name",
          "type": "string"
         },
         {
          "name": "Pattern",
          "type": "string"
         },
         {
          "name": "Display",
          "type": "string"
         },
         {
          "name": "Description",
          "type": "string"
         }
        ],
        "pandas_version": "1.4.0",
        "primaryKey": [
         "index"
        ]
       }
      },
      "text/html": [
       "<div>\n",
       "<style scoped>\n",
       "    .dataframe tbody tr th:only-of-type {\n",
       "        vertical-align: middle;\n",
       "    }\n",
       "\n",
       "    .dataframe tbody tr th {\n",
       "        vertical-align: top;\n",
       "    }\n",
       "\n",
       "    .dataframe thead th {\n",
       "        text-align: right;\n",
       "    }\n",
       "</style>\n",
       "<table border=\"1\" class=\"dataframe\">\n",
       "  <thead>\n",
       "    <tr style=\"text-align: right;\">\n",
       "      <th></th>\n",
       "      <th>Name</th>\n",
       "      <th>Pattern</th>\n",
       "      <th>Display</th>\n",
       "      <th>Description</th>\n",
       "    </tr>\n",
       "  </thead>\n",
       "  <tbody>\n",
       "    <tr>\n",
       "      <th>0</th>\n",
       "      <td>anything_is_true</td>\n",
       "      <td>ConclusionPremises({0})</td>\n",
       "      <td>Anything Is True</td>\n",
       "      <td>A proof that any statement is true</td>\n",
       "    </tr>\n",
       "  </tbody>\n",
       "</table>\n",
       "</div>"
      ],
      "text/plain": [
       "               Name                  Pattern           Display  \\\n",
       "0  anything_is_true  ConclusionPremises({0})  Anything Is True   \n",
       "\n",
       "                          Description  \n",
       "0  A proof that any statement is true  "
      ]
     },
     "execution_count": 24,
     "metadata": {},
     "output_type": "execute_result"
    }
   ],
   "source": [
    "anything_is_true.savedproofs()"
   ]
  },
  {
   "cell_type": "code",
   "execution_count": 3,
   "id": "aadaf960-56a7-4cce-80bd-63abc0458666",
   "metadata": {},
   "outputs": [
    {
     "name": "stdout",
     "output_type": "stream",
     "text": [
      "0 PROOF: A proof named \"\" or \"\" with description \"\" has been started.\n",
      "1 TRUTH: The letter \"A\" (latex: \"A\") for a generic truth formula has been defined making 1 so far.\n",
      "2 TRUTH: The letter \"B\" (latex: \"B\") for a generic truth formula has been defined making 2 so far.\n",
      "3 SET LOGIC: \"trivial\" has been selected as the logic described as \"Trivial Logic: Contradiction Entailing Explosion\" and stored in database \"altrea/data/trivial.db\".\n",
      "4 GOAL: The goal \"B\" has been added to the goals.\n",
      "5 SUBSTITUTE: The placeholder(s) in the string \"ConclusionPremises({0}, [])\" have been replaced with \"['B']\" to become \"ConclusionPremises(B, [])\".\n",
      "6 USE SAVED PROOF: Item \"B\" has been added through the \"A proof that any statement is true\" saved proof.\n",
      "7 The proof is complete.\n"
     ]
    },
    {
     "data": {
      "text/html": [
       "<div>\n",
       "<style scoped>\n",
       "    .dataframe tbody tr th:only-of-type {\n",
       "        vertical-align: middle;\n",
       "    }\n",
       "\n",
       "    .dataframe tbody tr th {\n",
       "        vertical-align: top;\n",
       "    }\n",
       "\n",
       "    .dataframe thead th {\n",
       "        text-align: right;\n",
       "    }\n",
       "</style>\n",
       "<table border=\"1\" class=\"dataframe\">\n",
       "  <thead>\n",
       "    <tr style=\"text-align: right;\">\n",
       "      <th></th>\n",
       "      <th>Item</th>\n",
       "      <th>Level</th>\n",
       "      <th>Proof</th>\n",
       "      <th>Rule</th>\n",
       "      <th>Type</th>\n",
       "      <th>Lines</th>\n",
       "      <th>Proofs</th>\n",
       "      <th>Comment</th>\n",
       "    </tr>\n",
       "  </thead>\n",
       "  <tbody>\n",
       "    <tr>\n",
       "      <th></th>\n",
       "      <td>$\\color{blue}B$</td>\n",
       "      <td>0</td>\n",
       "      <td>0</td>\n",
       "      <td>GOAL</td>\n",
       "      <td></td>\n",
       "      <td></td>\n",
       "      <td></td>\n",
       "      <td></td>\n",
       "    </tr>\n",
       "    <tr>\n",
       "      <th>1</th>\n",
       "      <td>$\\color{blue}B$</td>\n",
       "      <td>0</td>\n",
       "      <td>0</td>\n",
       "      <td>Anything Is True</td>\n",
       "      <td>SP</td>\n",
       "      <td></td>\n",
       "      <td></td>\n",
       "      <td>COMPLETE</td>\n",
       "    </tr>\n",
       "  </tbody>\n",
       "</table>\n",
       "</div>"
      ],
      "text/plain": [
       "              Item  Level  Proof              Rule Type Lines Proofs   Comment\n",
       "   $\\color{blue}B$      0      0              GOAL                            \n",
       "1  $\\color{blue}B$      0      0  Anything Is True   SP               COMPLETE"
      ]
     },
     "execution_count": 3,
     "metadata": {},
     "output_type": "execute_result"
    }
   ],
   "source": [
    "# Use the saved proof in a new proof.\n",
    "\n",
    "prf = Proof()\n",
    "A = prf.truth('A')\n",
    "B = prf.truth('B')\n",
    "prf.setlogic('trivial')\n",
    "prf.goal(B)\n",
    "prf.useproof('anything_is_true', [B])\n",
    "prf.displaylog()\n",
    "prf.displayproof()\n"
   ]
  },
  {
   "cell_type": "code",
   "execution_count": 26,
   "id": "9e1dbf49-f314-44be-ac4a-761b44d85497",
   "metadata": {},
   "outputs": [
    {
     "data": {
      "application/vnd.dataresource+json": {
       "data": [
        {
         " ": "$\\color{green}\\checkmark $",
         "$\\models $": " ",
         "$\\parallel $": "$\\parallel $",
         "$p$": true,
         "$q$": true,
         "index": 1
        },
        {
         " ": " ",
         "$\\models $": "Tautology",
         "$\\parallel $": " ",
         "$p$": " ",
         "$q$": " ",
         "index": " "
        }
       ],
       "schema": {
        "fields": [
         {
          "name": "index",
          "type": "string"
         },
         {
          "name": "$p$",
          "type": "string"
         },
         {
          "name": "$q$",
          "type": "string"
         },
         {
          "name": "$\\parallel $",
          "type": "string"
         },
         {
          "name": "$\\models $",
          "type": "string"
         },
         {
          "name": "$p$",
          "type": "string"
         },
         {
          "name": " ",
          "type": "string"
         }
        ],
        "pandas_version": "1.4.0",
        "primaryKey": [
         "index"
        ]
       }
      },
      "text/html": [
       "<div>\n",
       "<style scoped>\n",
       "    .dataframe tbody tr th:only-of-type {\n",
       "        vertical-align: middle;\n",
       "    }\n",
       "\n",
       "    .dataframe tbody tr th {\n",
       "        vertical-align: top;\n",
       "    }\n",
       "\n",
       "    .dataframe thead th {\n",
       "        text-align: right;\n",
       "    }\n",
       "</style>\n",
       "<table border=\"1\" class=\"dataframe\">\n",
       "  <thead>\n",
       "    <tr style=\"text-align: right;\">\n",
       "      <th></th>\n",
       "      <th>$p$</th>\n",
       "      <th>$q$</th>\n",
       "      <th>$\\parallel $</th>\n",
       "      <th>$\\models $</th>\n",
       "      <th>$p$</th>\n",
       "      <th></th>\n",
       "    </tr>\n",
       "  </thead>\n",
       "  <tbody>\n",
       "    <tr>\n",
       "      <th>1</th>\n",
       "      <td>True</td>\n",
       "      <td>True</td>\n",
       "      <td>$\\parallel $</td>\n",
       "      <td></td>\n",
       "      <td>True</td>\n",
       "      <td>$\\color{green}\\checkmark $</td>\n",
       "    </tr>\n",
       "    <tr>\n",
       "      <th></th>\n",
       "      <td></td>\n",
       "      <td></td>\n",
       "      <td></td>\n",
       "      <td>Tautology</td>\n",
       "      <td></td>\n",
       "      <td></td>\n",
       "    </tr>\n",
       "  </tbody>\n",
       "</table>\n",
       "</div>"
      ],
      "text/plain": [
       "    $p$   $q$  $\\parallel $ $\\models $   $p$                            \n",
       "1  True  True  $\\parallel $             True  $\\color{green}\\checkmark $\n",
       "                             Tautology                                  "
      ]
     },
     "execution_count": 26,
     "metadata": {},
     "output_type": "execute_result"
    }
   ],
   "source": [
    "anything_is_true.truthtable()"
   ]
  },
  {
   "cell_type": "markdown",
   "id": "a25113bb-831c-4d7e-8741-91d4ae036e38",
   "metadata": {},
   "source": [
    "<a id='unavailable'></a>\n",
    "# Show that the Unavailable IntElim Rules for Negation Cannot Be Used"
   ]
  },
  {
   "cell_type": "code",
   "execution_count": 9,
   "id": "632e9f23-a605-49cd-8ab6-6ebbb91e1dcb",
   "metadata": {},
   "outputs": [
    {
     "ename": "AttributeError",
     "evalue": "'NoneType' object has no attribute 'is_variable'",
     "output_type": "error",
     "traceback": [
      "\u001b[1;31m---------------------------------------------------------------------------\u001b[0m",
      "\u001b[1;31mAttributeError\u001b[0m                            Traceback (most recent call last)",
      "Cell \u001b[1;32mIn[9], line 17\u001b[0m\n\u001b[0;32m     15\u001b[0m B \u001b[38;5;241m=\u001b[39m prf3\u001b[38;5;241m.\u001b[39mtruth(\u001b[38;5;124m'\u001b[39m\u001b[38;5;124mB\u001b[39m\u001b[38;5;124m'\u001b[39m)\n\u001b[0;32m     16\u001b[0m prf3\u001b[38;5;241m.\u001b[39msetlogic(\u001b[38;5;124m'\u001b[39m\u001b[38;5;124mtrivial\u001b[39m\u001b[38;5;124m'\u001b[39m)\n\u001b[1;32m---> 17\u001b[0m \u001b[43mprf3\u001b[49m\u001b[38;5;241;43m.\u001b[39;49m\u001b[43mgoal\u001b[49m\u001b[43m(\u001b[49m\u001b[43mImplies\u001b[49m\u001b[43m(\u001b[49m\u001b[43mA\u001b[49m\u001b[43m,\u001b[49m\u001b[43m \u001b[49m\u001b[43mB\u001b[49m\u001b[43m)\u001b[49m\u001b[43m)\u001b[49m\n\u001b[0;32m     18\u001b[0m prf3\u001b[38;5;241m.\u001b[39mhypothesis(A)\n\u001b[0;32m     19\u001b[0m prf3\u001b[38;5;241m.\u001b[39maxiom(\u001b[38;5;124m'\u001b[39m\u001b[38;5;124mtrue\u001b[39m\u001b[38;5;124m'\u001b[39m,B)\n",
      "File \u001b[1;32mE:\\Jupyter\\AltRea\\altrea\\rules.py:2044\u001b[0m, in \u001b[0;36mProof.goal\u001b[1;34m(self, goal, comment)\u001b[0m\n\u001b[0;32m   2042\u001b[0m \u001b[38;5;66;03m# If no errors, perform task\u001b[39;00m\n\u001b[0;32m   2043\u001b[0m \u001b[38;5;28;01mif\u001b[39;00m \u001b[38;5;28mself\u001b[39m\u001b[38;5;241m.\u001b[39mcanproceed():\n\u001b[1;32m-> 2044\u001b[0m     \u001b[38;5;28mself\u001b[39m\u001b[38;5;241m.\u001b[39mgoals\u001b[38;5;241m.\u001b[39mappend(\u001b[38;5;28;43mstr\u001b[39;49m\u001b[43m(\u001b[49m\u001b[43mgoal\u001b[49m\u001b[43m)\u001b[49m)\n\u001b[0;32m   2045\u001b[0m     \u001b[38;5;28mself\u001b[39m\u001b[38;5;241m.\u001b[39mgoalswff\u001b[38;5;241m.\u001b[39mappend(goal)\n\u001b[0;32m   2046\u001b[0m     \u001b[38;5;28;01mif\u001b[39;00m \u001b[38;5;28mself\u001b[39m\u001b[38;5;241m.\u001b[39mgoals_string \u001b[38;5;241m==\u001b[39m \u001b[38;5;124m'\u001b[39m\u001b[38;5;124m'\u001b[39m:\n",
      "File \u001b[1;32mE:\\Jupyter\\AltRea\\altrea\\boolean.py:240\u001b[0m, in \u001b[0;36mImplies.__str__\u001b[1;34m(self)\u001b[0m\n\u001b[0;32m    239\u001b[0m \u001b[38;5;28;01mdef\u001b[39;00m \u001b[38;5;21m__str__\u001b[39m(\u001b[38;5;28mself\u001b[39m):\n\u001b[1;32m--> 240\u001b[0m     \u001b[38;5;28;01mif\u001b[39;00m \u001b[38;5;28;43mself\u001b[39;49m\u001b[38;5;241;43m.\u001b[39;49m\u001b[43mleft\u001b[49m\u001b[38;5;241;43m.\u001b[39;49m\u001b[43mis_variable\u001b[49m \u001b[38;5;129;01mand\u001b[39;00m \u001b[38;5;28mself\u001b[39m\u001b[38;5;241m.\u001b[39mright\u001b[38;5;241m.\u001b[39mis_variable:\n\u001b[0;32m    241\u001b[0m         \u001b[38;5;28;01mreturn\u001b[39;00m \u001b[38;5;124mf\u001b[39m\u001b[38;5;124m'\u001b[39m\u001b[38;5;132;01m{\u001b[39;00m\u001b[38;5;28mself\u001b[39m\u001b[38;5;241m.\u001b[39mleft\u001b[38;5;132;01m}\u001b[39;00m\u001b[38;5;124m \u001b[39m\u001b[38;5;132;01m{\u001b[39;00m\u001b[38;5;28mself\u001b[39m\u001b[38;5;241m.\u001b[39mimplies_connector\u001b[38;5;132;01m}\u001b[39;00m\u001b[38;5;124m \u001b[39m\u001b[38;5;132;01m{\u001b[39;00m\u001b[38;5;28mself\u001b[39m\u001b[38;5;241m.\u001b[39mright\u001b[38;5;132;01m}\u001b[39;00m\u001b[38;5;124m'\u001b[39m\n\u001b[0;32m    242\u001b[0m     \u001b[38;5;28;01melif\u001b[39;00m \u001b[38;5;28mself\u001b[39m\u001b[38;5;241m.\u001b[39mleft\u001b[38;5;241m.\u001b[39mis_variable:\n",
      "\u001b[1;31mAttributeError\u001b[0m: 'NoneType' object has no attribute 'is_variable'"
     ]
    }
   ],
   "source": [
    "# Show that an unavailable operator cannot be used.\n",
    "from IPython.display import display, Math, Markdown, Latex, display_markdown, HTML\n",
    "\n",
    "from altrea.boolean import Wff, Or, Not, And, Implies, Iff, Necessary, Possibly\n",
    "from altrea.rules import Proof\n",
    "\n",
    "import pandas as pd\n",
    "# To see available options run `pd.describe_option()` in a cell.\n",
    "pd.options.display.max_colwidth=500\n",
    "pd.options.display.max_rows = 999\n",
    "pd.options.display.html.use_mathjax = True\n",
    "\n",
    "prf3 = Proof()\n",
    "A = prf3.truth('A')\n",
    "B = prf3.truth('B')\n",
    "prf3.setlogic('trivial')\n",
    "prf3.goal(Implies(A, B))\n",
    "prf3.hypothesis(A)\n",
    "prf3.axiom('true',B)\n",
    "prf3.implication_intro()\n",
    "prf3.displaylog()\n",
    "prf3.displayproof(latex=0)"
   ]
  },
  {
   "cell_type": "code",
   "execution_count": 15,
   "id": "2cabe58c-d25c-4364-a578-7cac17910622",
   "metadata": {},
   "outputs": [
    {
     "name": "stdout",
     "output_type": "stream",
     "text": [
      "0 WFF: The letter \"q\" for a generic well-formed formula has been defined making 1 so far.\n",
      "1 SETLOGIC: \"trivial\" has been selected as the logic described as \"Trivial Logic with All Sentences True\" and stored in database \"altrea/data/trivial.db\".\n",
      "2 GOAL: The goal \"q\" has been added to the goals.\n",
      "3 AXIOM: Axiom name \"lem\" cannot be found in the axiom list.\n",
      "4 STOPPED: The named axiom is not in the axiom list.\n"
     ]
    },
    {
     "data": {
      "text/html": [
       "<div>\n",
       "<style scoped>\n",
       "    .dataframe tbody tr th:only-of-type {\n",
       "        vertical-align: middle;\n",
       "    }\n",
       "\n",
       "    .dataframe tbody tr th {\n",
       "        vertical-align: top;\n",
       "    }\n",
       "\n",
       "    .dataframe thead th {\n",
       "        text-align: right;\n",
       "    }\n",
       "</style>\n",
       "<table border=\"1\" class=\"dataframe\">\n",
       "  <thead>\n",
       "    <tr style=\"text-align: right;\">\n",
       "      <th></th>\n",
       "      <th>Item</th>\n",
       "      <th>Level</th>\n",
       "      <th>Proof</th>\n",
       "      <th>Rule</th>\n",
       "      <th>Lines</th>\n",
       "      <th>Proofs</th>\n",
       "      <th>Comment</th>\n",
       "    </tr>\n",
       "  </thead>\n",
       "  <tbody>\n",
       "    <tr>\n",
       "      <th></th>\n",
       "      <td>q</td>\n",
       "      <td>0</td>\n",
       "      <td>0</td>\n",
       "      <td>GOAL</td>\n",
       "      <td></td>\n",
       "      <td></td>\n",
       "      <td></td>\n",
       "    </tr>\n",
       "    <tr>\n",
       "      <th>1</th>\n",
       "      <td></td>\n",
       "      <td>0</td>\n",
       "      <td>0</td>\n",
       "      <td>lem</td>\n",
       "      <td></td>\n",
       "      <td></td>\n",
       "      <td>STOPPED: The named axiom is not in the axiom list.</td>\n",
       "    </tr>\n",
       "  </tbody>\n",
       "</table>\n",
       "</div>"
      ],
      "text/plain": [
       "  Item  Level  Proof  Rule Lines Proofs  \\\n",
       "     q      0      0  GOAL                \n",
       "1           0      0   lem                \n",
       "\n",
       "                                              Comment  \n",
       "                                                       \n",
       "1  STOPPED: The named axiom is not in the axiom list.  "
      ]
     },
     "execution_count": 15,
     "metadata": {},
     "output_type": "execute_result"
    }
   ],
   "source": [
    "# Show that an unavailable axiom cannot be used.\n",
    "from IPython.display import display, Math, Markdown, Latex, display_markdown, HTML\n",
    "\n",
    "from altrea.boolean import Wff, Or, Not, And, Implies, Iff, Necessary, Possibly\n",
    "from altrea.rules import Proof\n",
    "\n",
    "import pandas as pd\n",
    "# To see available options run `pd.describe_option()` in a cell.\n",
    "pd.options.display.max_colwidth=500\n",
    "pd.options.display.max_rows = 999\n",
    "pd.options.display.html.use_mathjax = True\n",
    "\n",
    "prf4 = Proof()\n",
    "q = prf4.proposition('q')\n",
    "prf4.setlogic('trivial')\n",
    "prf4.goal(q)\n",
    "prf4.axiom('lem', q)\n",
    "prf4.axiom('true',Or(q, And(q, Not(q, '~', '\\\\not'))))\n",
    "prf4.displaylog()\n",
    "prf4.displayproof(latex=0)"
   ]
  },
  {
   "cell_type": "code",
   "execution_count": 14,
   "id": "eeb47533-a07f-4e74-9439-f142b6e58302",
   "metadata": {},
   "outputs": [
    {
     "ename": "AttributeError",
     "evalue": "'NoneType' object has no attribute 'latex'",
     "output_type": "error",
     "traceback": [
      "\u001b[1;31m---------------------------------------------------------------------------\u001b[0m",
      "\u001b[1;31mAttributeError\u001b[0m                            Traceback (most recent call last)",
      "Cell \u001b[1;32mIn[14], line 16\u001b[0m\n\u001b[0;32m     14\u001b[0m q \u001b[38;5;241m=\u001b[39m prf5\u001b[38;5;241m.\u001b[39mtruth(\u001b[38;5;124m'\u001b[39m\u001b[38;5;124mq\u001b[39m\u001b[38;5;124m'\u001b[39m)\n\u001b[0;32m     15\u001b[0m prf5\u001b[38;5;241m.\u001b[39msetlogic(\u001b[38;5;124m'\u001b[39m\u001b[38;5;124mtrivial\u001b[39m\u001b[38;5;124m'\u001b[39m)\n\u001b[1;32m---> 16\u001b[0m \u001b[43mprf5\u001b[49m\u001b[38;5;241;43m.\u001b[39;49m\u001b[43mgoal\u001b[49m\u001b[43m(\u001b[49m\u001b[43mq\u001b[49m\u001b[43m)\u001b[49m\n\u001b[0;32m     17\u001b[0m \u001b[38;5;66;03m#prf5.useproof('lem', q)\u001b[39;00m\n\u001b[0;32m     18\u001b[0m prf5\u001b[38;5;241m.\u001b[39maxiom(\u001b[38;5;124m'\u001b[39m\u001b[38;5;124mtrue\u001b[39m\u001b[38;5;124m'\u001b[39m,Or(q, And(q, Not(q, \u001b[38;5;124m'\u001b[39m\u001b[38;5;124m~\u001b[39m\u001b[38;5;124m'\u001b[39m, \u001b[38;5;124m'\u001b[39m\u001b[38;5;130;01m\\\\\u001b[39;00m\u001b[38;5;124mnot\u001b[39m\u001b[38;5;124m'\u001b[39m))))\n",
      "File \u001b[1;32mE:\\Jupyter\\AltRea\\altrea\\rules.py:2051\u001b[0m, in \u001b[0;36mProof.goal\u001b[1;34m(self, goal, comment)\u001b[0m\n\u001b[0;32m   2049\u001b[0m     \u001b[38;5;28mself\u001b[39m\u001b[38;5;241m.\u001b[39mgoals_string \u001b[38;5;241m+\u001b[39m\u001b[38;5;241m=\u001b[39m \u001b[38;5;124m'\u001b[39m\u001b[38;5;124m'\u001b[39m\u001b[38;5;241m.\u001b[39mjoin([\u001b[38;5;124m'\u001b[39m\u001b[38;5;124m, \u001b[39m\u001b[38;5;124m'\u001b[39m,\u001b[38;5;28mstr\u001b[39m(goal)])\n\u001b[0;32m   2050\u001b[0m \u001b[38;5;28;01mif\u001b[39;00m \u001b[38;5;28mself\u001b[39m\u001b[38;5;241m.\u001b[39mgoals_latex \u001b[38;5;241m==\u001b[39m \u001b[38;5;124m'\u001b[39m\u001b[38;5;124m'\u001b[39m:\n\u001b[1;32m-> 2051\u001b[0m     \u001b[38;5;28mself\u001b[39m\u001b[38;5;241m.\u001b[39mgoals_latex \u001b[38;5;241m=\u001b[39m \u001b[43mgoal\u001b[49m\u001b[38;5;241;43m.\u001b[39;49m\u001b[43mlatex\u001b[49m()\n\u001b[0;32m   2052\u001b[0m \u001b[38;5;28;01melse\u001b[39;00m:\n\u001b[0;32m   2053\u001b[0m     \u001b[38;5;28mself\u001b[39m\u001b[38;5;241m.\u001b[39mgoals_latex \u001b[38;5;241m+\u001b[39m\u001b[38;5;241m=\u001b[39m \u001b[38;5;124m'\u001b[39m\u001b[38;5;124m'\u001b[39m\u001b[38;5;241m.\u001b[39mjoin([\u001b[38;5;124m'\u001b[39m\u001b[38;5;124m, \u001b[39m\u001b[38;5;124m'\u001b[39m,goal\u001b[38;5;241m.\u001b[39mlatex()]) \n",
      "\u001b[1;31mAttributeError\u001b[0m: 'NoneType' object has no attribute 'latex'"
     ]
    }
   ],
   "source": [
    "# Show that an unavailable saved proof cannot be used.\n",
    "from IPython.display import display, Math, Markdown, Latex, display_markdown, HTML\n",
    "\n",
    "from altrea.boolean import Wff, Or, Not, And, Implies, Iff, Necessary, Possibly\n",
    "from altrea.rules import Proof\n",
    "\n",
    "import pandas as pd\n",
    "# To see available options run `pd.describe_option()` in a cell.\n",
    "pd.options.display.max_colwidth=500\n",
    "pd.options.display.max_rows = 999\n",
    "pd.options.display.html.use_mathjax = True\n",
    "\n",
    "prf5 = Proof()\n",
    "q = prf5.truth('q')\n",
    "prf5.setlogic('trivial')\n",
    "prf5.goal(q)\n",
    "#prf5.useproof('lem', q)\n",
    "prf5.axiom('true',q)\n",
    "prf5.displaylog()\n",
    "prf5.displayproof(latex=0)"
   ]
  },
  {
   "cell_type": "code",
   "execution_count": 12,
   "id": "744bb446-02d1-4f9a-91dd-60e61fb2e26e",
   "metadata": {},
   "outputs": [
    {
     "data": {
      "text/html": [
       "<div>\n",
       "<style scoped>\n",
       "    .dataframe tbody tr th:only-of-type {\n",
       "        vertical-align: middle;\n",
       "    }\n",
       "\n",
       "    .dataframe tbody tr th {\n",
       "        vertical-align: top;\n",
       "    }\n",
       "\n",
       "    .dataframe thead th {\n",
       "        text-align: right;\n",
       "    }\n",
       "</style>\n",
       "<table border=\"1\" class=\"dataframe\">\n",
       "  <thead>\n",
       "    <tr style=\"text-align: right;\">\n",
       "      <th></th>\n",
       "      <th>$q$</th>\n",
       "      <th>|</th>\n",
       "      <th>$q$</th>\n",
       "      <th>Check</th>\n",
       "    </tr>\n",
       "  </thead>\n",
       "  <tbody>\n",
       "    <tr>\n",
       "      <th>0</th>\n",
       "      <td>True</td>\n",
       "      <td>|</td>\n",
       "      <td>True</td>\n",
       "      <td>OK</td>\n",
       "    </tr>\n",
       "    <tr>\n",
       "      <th>1</th>\n",
       "      <td>False</td>\n",
       "      <td>|</td>\n",
       "      <td>False</td>\n",
       "      <td>Invalid</td>\n",
       "    </tr>\n",
       "  </tbody>\n",
       "</table>\n",
       "</div>"
      ],
      "text/plain": [
       "     $q$  |    $q$    Check\n",
       "0   True  |   True       OK\n",
       "1  False  |  False  Invalid"
      ]
     },
     "execution_count": 12,
     "metadata": {},
     "output_type": "execute_result"
    }
   ],
   "source": [
    "prf5.truthtable()"
   ]
  },
  {
   "cell_type": "code",
   "execution_count": 1,
   "id": "1c946e51-0906-44aa-ae60-b81569dd4c7b",
   "metadata": {},
   "outputs": [
    {
     "name": "stdout",
     "output_type": "stream",
     "text": [
      "The proofdetails table for logic trivial does not exist.\n",
      "The proofs table for logic trivial does not exist.\n",
      "Axioms associated with trivial have been deleted.\n",
      "Operators associated with trivial have been deleted.\n",
      "The record for trivial in the logics table has been deleted.\n"
     ]
    }
   ],
   "source": [
    "import altrea.data\n",
    "altrea.data.deletelogic('trivial')"
   ]
  },
  {
   "cell_type": "markdown",
   "id": "42d81d18-04b6-418d-9d25-410d6b8a8856",
   "metadata": {},
   "source": [
    "## Revising Trivialism\n",
    "\n",
    "Trivialism cannot use the Not operator because it is defined for logics that have two values, but trivial has only one. \n",
    "So the idea of a contradiction cannot be defined in this logic.  Is it appropriate to say that by\n",
    "default it is consistent or to just say the idea of consistency is meaningless in this logic?\n",
    "\n",
    "The revised trivial will only have the And and Or operators, but no definitions nor axioms since they all depend\n",
    "on having Not.  In revised trivialism one cannot even express a Not statement symbolically."
   ]
  },
  {
   "cell_type": "code",
   "execution_count": 30,
   "id": "3d50a5d9-6f9d-4011-be26-4b697e76c80e",
   "metadata": {},
   "outputs": [
    {
     "name": "stdout",
     "output_type": "stream",
     "text": [
      "The proofdetails table for logic trivialrevised has been dropped.\n",
      "The proofs table for logic trivialrevised has been dropped.\n",
      "Any definitions associated with trivialrevised have been deleted.\n",
      "Any axioms associated with trivialrevised have been deleted.\n",
      "Any intelim rules associated with trivialrevised have been deleted.\n",
      "Any connectors associated with trivialrevised have been deleted.\n",
      "The record for trivialrevised in the logics table has been deleted.\n"
     ]
    }
   ],
   "source": [
    "import altrea.data\n",
    "altrea.data.deletelogic('trivialrevised')"
   ]
  },
  {
   "cell_type": "code",
   "execution_count": 31,
   "id": "d8f29e50-214f-48ca-8f02-10eccaabdabb",
   "metadata": {},
   "outputs": [
    {
     "name": "stdout",
     "output_type": "stream",
     "text": [
      "The logics table has been loaded for logic trivialrevised.\n",
      "The connectors table for logic trivialrevised has been loaded.\n",
      "The intelimrules table for logic trivialrevised has been loaded.\n",
      "There were no definitions to load.\n",
      "There were no axiomss to load.\n",
      "Data loaded to the altrea/data/metadata.db tables have been committed.\n",
      "The proofs table has been created in altrea/data/trivialrevised.db.\n",
      "The proofdetails table has been created in altrea/data/trivialrevised.db.\n",
      "Data loaded to the altrea/data/trivialrevised.db tables have been committed.\n"
     ]
    }
   ],
   "source": [
    "import altrea.data\n",
    "from altrea.rules import Proof\n",
    "p = Proof()\n",
    "logic = 'trivialrevised'\n",
    "connectors = [\n",
    "    (logic, 'And', 'Conjunction'), \n",
    "    (logic, 'Or', 'Disjunction'), \n",
    "   # (logic, 'Not', 'Negation'),\n",
    "   # (logic, 'Implies', 'Implication'), \n",
    "   # (logic, 'Iff', 'Coimplication'), \n",
    "    (logic, 'Necessary', 'Modal Necessarily'), \n",
    "    (logic, 'Possibly', 'Modal Possibly'),\n",
    "]\n",
    "intelimrules = [\n",
    "  #  (logic, p.coimplication_elim_tag, 'self.coimplication_elim_name'),\n",
    "  #  (logic, p.coimplication_intro_tag, 'self.coimplication_intro_name'),\n",
    "    (logic, p.conjunction_elim_tag, 'self.conjunction_elim_name'),\n",
    "    (logic, p.conjunction_intro_tag, 'self.conjunction_intro_name'),\n",
    "    (logic, p.disjunction_elim_tag, 'self.disjunction_elim_name'),\n",
    "    (logic, p.disjunction_intro_tag, 'self.disjunction_intro_name'),\n",
    "  #  (logic, p.implication_elim_tag, 'self.implication_elim_name'),\n",
    "  #  (logic, p.implication_intro_tag, 'self.implication_intro_name'),\n",
    "    (logic, p.necessary_elim_tag, 'self.necessary_elim_name'),\n",
    "    (logic, p.necessary_intro_tag, 'self.necessary_intro_name'),\n",
    "  #  (logic, p.negation_elim_tag, 'self.negation_elim_name'),\n",
    "  #  (logic, p.negation_intro_tag, 'self.negation_intro_name'),\n",
    "    (logic, p.possibly_elim_tag, 'self.possibly_elim_name'),\n",
    "    (logic, p.possibly_intro_tag, 'self.possibly_intro_name'),\n",
    "]\n",
    "definitions = [\n",
    "  # (logic, 'not_from_notnot', 'ConcluionPremises(Not({0}), [{0}])', 'Not From Not Not', 'Not Is the Same As What It Negates'),\n",
    "  # (logic, 'notnot_from_not', 'ConcluionPremises({0}, [Not({0})])', 'Not Not From Not', 'Not Is the Same As What It Negates'),\n",
    "]\n",
    "axioms = [                 \n",
    "  # (logic, 'explosion', 'ConclusionPremises({1}, [{0}, Not({0})])', 'Explosion', 'From a Contradiction Derive Anything'),\n",
    "  # (logic, 'contradiction', 'ConclusionPremises(And({0}, Not({0})), [])', 'Contradiction', 'All Contradictions Are True'),\n",
    "]\n",
    "altrea.data.addlogic(logic,logic,'Trivial Logic: Contradiction Entailing Explosion', connectors, intelimrules, definitions, axioms)"
   ]
  },
  {
   "cell_type": "code",
   "execution_count": null,
   "id": "f7fc53fe-a232-4085-b6b4-4a4388461f4a",
   "metadata": {},
   "outputs": [],
   "source": []
  }
 ],
 "metadata": {
  "kernelspec": {
   "display_name": "Python 3 (ipykernel)",
   "language": "python",
   "name": "python3"
  },
  "language_info": {
   "codemirror_mode": {
    "name": "ipython",
    "version": 3
   },
   "file_extension": ".py",
   "mimetype": "text/x-python",
   "name": "python",
   "nbconvert_exporter": "python",
   "pygments_lexer": "ipython3",
   "version": "3.12.1"
  }
 },
 "nbformat": 4,
 "nbformat_minor": 5
}
