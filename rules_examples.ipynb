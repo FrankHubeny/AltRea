{
 "cells": [
  {
   "cell_type": "markdown",
   "id": "72708f08-8615-4594-8c3b-ccb96f46293c",
   "metadata": {},
   "source": [
    "# Examples for code docs\n",
    "\n",
    "A. [Basic Functionality](#basicfunctionality)\n",
    "\n",
    "1. [Axiom](#axiom)\n",
    "\n",
    "2. [Definition](#definition)\n",
    "\n",
    "3. [Entailment](#entailment)\n",
    "\n",
    "4. [Goal](#goal)\n",
    "\n",
    "5. [Hypothesis](#hypothesis)\n",
    "\n",
    "6. [Implication Introduction](#implication_intro)\n",
    "\n",
    "7. [Item](#item)\n",
    "\n",
    "8. [Necessary Introduction](#necessaryintro)\n",
    "\n",
    "9. [Open/Close Subproof](#openclosesubproof)\n",
    "\n",
    "10. [Open/Close Strict Subproof](#openclosestrictsubproof)\n",
    "\n",
    "11. [Premise](#premise)\n",
    "\n",
    "12. [Proposition](#proposition)\n",
    "\n",
    "13. [Reiterate](#reiterate)\n",
    "\n",
    "14. [Rule](#rule)\n",
    "\n",
    "15. [Set Logic](#setlogic)\n",
    "\n",
    "B. [Axiomatic Rules](#axiomatic)\n",
    "\n",
    "1. [Modus Ponens](#modusponens)\n",
    "\n",
    "2. [Substitution](#substitution)\n",
    "\n",
    "C. [Database Processing](#database)\n",
    "\n",
    "1. [Create/Delete Logic](#logicdb)\n",
    "\n",
    "2. [Logics](#logicsdb)\n",
    "\n",
    "3. [Axioms](#axiomsdb)\n",
    "\n",
    "4. [Definitions](#definitionsdb)\n",
    "    \n",
    "5. [Lemmas](#lemmasdb)\n",
    "\n",
    "6. [Rules](#rulesdb)\n",
    "\n",
    "D. [Utilities](#utilities)\n",
    "\n",
    "1. [This Proof](#thisproof)\n",
    "\n",
    "2. [Truth Table](#truthtable)\n",
    "\n",
    "3. [Write Proof](#writeproof)\n"
   ]
  },
  {
   "cell_type": "markdown",
   "id": "54bdd854-3837-4658-8416-a7e52278b861",
   "metadata": {},
   "source": [
    "<a id=\"basicfunctionality\"></a>\n",
    "# Basic Functionality"
   ]
  },
  {
   "cell_type": "markdown",
   "id": "02ec1048-1a79-44dc-94e6-b272fcbd4045",
   "metadata": {},
   "source": [
    "<a id=\"axiom\"></a>\n",
    "## Axiom"
   ]
  },
  {
   "cell_type": "markdown",
   "id": "cf8a881a-e7e1-43b7-8e3e-83ff1a7ac76a",
   "metadata": {},
   "source": [
    "<a id=\"definition\"></a>\n",
    "## Definition"
   ]
  },
  {
   "cell_type": "markdown",
   "id": "7d11d8de-c7a9-41fe-a00d-5ca8ac451afb",
   "metadata": {},
   "source": [
    "<a id=\"entailment\"></a>\n",
    "## Entailment"
   ]
  },
  {
   "cell_type": "markdown",
   "id": "82246d99-b1a6-4470-bde4-65f01969e114",
   "metadata": {},
   "source": [
    "<a id=\"goal\"></a>\n",
    "## Goal"
   ]
  },
  {
   "cell_type": "markdown",
   "id": "9129fa64-6c34-43a7-b467-56bb124935a7",
   "metadata": {},
   "source": [
    "<a id=\"hypothesis\"></a>\n",
    "## Hypothesis"
   ]
  },
  {
   "cell_type": "markdown",
   "id": "574bcbb2-4b28-4127-9bd2-12001ec13b8b",
   "metadata": {},
   "source": [
    "<a id=\"implicationintro\"></a>\n",
    "## Implication Intro"
   ]
  },
  {
   "cell_type": "markdown",
   "id": "5365caf6-6b76-45d7-a5ca-3347edaf04fb",
   "metadata": {},
   "source": [
    "<a id=\"item\"></a>\n",
    "## Item"
   ]
  },
  {
   "cell_type": "markdown",
   "id": "d52ad69f-b149-4429-818c-e76da44ac768",
   "metadata": {},
   "source": [
    "<a id=\"necessaryintro\"></a>\n",
    "## Necessary Intro"
   ]
  },
  {
   "cell_type": "markdown",
   "id": "b991a923-0c15-4b88-8a1d-cc031d249cd9",
   "metadata": {},
   "source": [
    "<a id=\"openclosesubproof\"></a>\n",
    "## Open/Close Subproof"
   ]
  },
  {
   "cell_type": "markdown",
   "id": "4728518b-7593-4f3f-bba8-7667b9d007a5",
   "metadata": {},
   "source": [
    "<a id=\"openclosestrictsubproof\"></a>\n",
    "## Open/Close Strict Subproof"
   ]
  },
  {
   "cell_type": "markdown",
   "id": "23534332-4fa5-4e1c-9f0b-665f997b7833",
   "metadata": {},
   "source": [
    "<a id=\"premise\"></a>\n",
    "## Premise"
   ]
  },
  {
   "cell_type": "markdown",
   "id": "b72ca464-267b-49e8-821d-e292e2506d3a",
   "metadata": {},
   "source": [
    "<a id=\"proposition\"></a>\n",
    "## Proposition"
   ]
  },
  {
   "cell_type": "markdown",
   "id": "34a80516-22b7-41b3-91c3-257e047ed34e",
   "metadata": {},
   "source": [
    "<a id=\"reiterate\"></a>\n",
    "## Reiterate"
   ]
  },
  {
   "cell_type": "markdown",
   "id": "d6ac6821-2691-470a-bcbd-88f4487f3eda",
   "metadata": {},
   "source": [
    "<a id=\"rule\"></a>\n",
    "## Rule"
   ]
  },
  {
   "cell_type": "markdown",
   "id": "d99e951c-9e76-4365-b3d3-718c933404b7",
   "metadata": {},
   "source": [
    "<a id=\"setlogic\"></a>\n",
    "## Set Logic"
   ]
  },
  {
   "cell_type": "markdown",
   "id": "0414c560-89d1-4881-ad07-3c2fceb7780a",
   "metadata": {},
   "source": [
    "<a id=\"axiomatic\"></a>\n",
    "# Axiomatic Rules"
   ]
  },
  {
   "cell_type": "markdown",
   "id": "71ac6df6-48de-4ba7-bdfa-33a9f1d88863",
   "metadata": {},
   "source": [
    "<a id=\"modusponens\"></a>\n",
    "## Modus Ponens"
   ]
  },
  {
   "cell_type": "markdown",
   "id": "ed869b81-d248-4536-b312-e7d01e85f837",
   "metadata": {},
   "source": [
    "<a id=\"substitution\"></a>\n",
    "## Substitution"
   ]
  },
  {
   "cell_type": "markdown",
   "id": "65ff76d7-8cd5-4ea5-81c0-458cf3003109",
   "metadata": {},
   "source": [
    "<a id=\"database\"></a>\n",
    "# Database"
   ]
  },
  {
   "cell_type": "markdown",
   "id": "0c7ab322-10b7-42e0-a785-f2f9a19e9d4e",
   "metadata": {},
   "source": [
    "<a id=\"logicdb\"></a>\n",
    "## Create/Delete Logic"
   ]
  },
  {
   "cell_type": "markdown",
   "id": "b08bf1ac-9268-46c3-b599-61c31bea2893",
   "metadata": {},
   "source": [
    "<a id=\"logicsdb\"></a>\n",
    "## Logics"
   ]
  },
  {
   "cell_type": "markdown",
   "id": "47d4ab03-7dd9-43ee-8078-f7459193c896",
   "metadata": {},
   "source": [
    "<a id=\"axiomsdb\"></a>\n",
    "## Axioms"
   ]
  },
  {
   "cell_type": "markdown",
   "id": "da600fd4-cf59-4c88-b297-cda962391e31",
   "metadata": {},
   "source": [
    "<a id=\"definitionsdb\"></a>\n",
    "## Definitions"
   ]
  },
  {
   "cell_type": "markdown",
   "id": "951dbdc3-17d8-46e0-8353-438e133b4267",
   "metadata": {},
   "source": [
    "<a id=\"lemmasdb\"></a>\n",
    "## Lemmas"
   ]
  },
  {
   "cell_type": "markdown",
   "id": "68989c80-96e7-473d-af99-9fc487b4fbac",
   "metadata": {},
   "source": [
    "<a id=\"rulesdb\"></a>\n",
    "## Rules"
   ]
  },
  {
   "cell_type": "markdown",
   "id": "22f43fec-47ac-439a-a32f-8b51d5035b25",
   "metadata": {},
   "source": [
    "<a id=\"utilities\"></a>\n",
    "# Utilities"
   ]
  },
  {
   "cell_type": "markdown",
   "id": "ef2eb05a-c83f-4a6c-8f9d-8328fff307ae",
   "metadata": {},
   "source": [
    "<a id=\"displaylog\"></a>\n",
    "## Display Log"
   ]
  },
  {
   "cell_type": "markdown",
   "id": "783e2a70-857a-4f8c-b33f-10047edac57e",
   "metadata": {},
   "source": [
    "<a id=\"thisproof\"></a>\n",
    "## This Proof"
   ]
  },
  {
   "cell_type": "markdown",
   "id": "ff09708a-f261-40c7-85ef-641f206cba82",
   "metadata": {},
   "source": [
    "<a id=\"truthtable\"></a>\n",
    "## Truth Table"
   ]
  },
  {
   "cell_type": "markdown",
   "id": "333a23e4-a4dd-4cf6-95b7-2ab8a21eab14",
   "metadata": {},
   "source": [
    "<a id=\"writeproof\"></a>\n",
    "## Write Proof"
   ]
  },
  {
   "cell_type": "code",
   "execution_count": null,
   "id": "5de19c63-4546-4dc6-98c6-b7233dfc3f53",
   "metadata": {},
   "outputs": [],
   "source": []
  }
 ],
 "metadata": {
  "kernelspec": {
   "display_name": "Python 3 (ipykernel)",
   "language": "python",
   "name": "python3"
  },
  "language_info": {
   "codemirror_mode": {
    "name": "ipython",
    "version": 3
   },
   "file_extension": ".py",
   "mimetype": "text/x-python",
   "name": "python",
   "nbconvert_exporter": "python",
   "pygments_lexer": "ipython3",
   "version": "3.12.1"
  }
 },
 "nbformat": 4,
 "nbformat_minor": 5
}
