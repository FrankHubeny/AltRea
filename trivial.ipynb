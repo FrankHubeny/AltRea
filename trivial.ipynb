{
 "cells": [
  {
   "cell_type": "markdown",
   "id": "7c26faf8-3bf7-4752-ba39-dc28526f027e",
   "metadata": {},
   "source": [
    "# Trivial\n",
    "\n",
    "In this logic every sentence that could be assigned a truth value is assigned the value True.  Although all sentences are True, not all sentences make\n",
    "sense in this logic.  For example, the negation of any sentence is not permitted.  So, the Not logical operator has to be prohibited.  Every remaining statement\n",
    "then becomes is a tautology.\n",
    "\n",
    "This logic is not useful to tell which sentences might be false, however, it does have a useful.  As an extreme situation, provides evidence that \n",
    "both the software and the logical, philosophical theory can handle the case.  In what follows below the software will be tested.  Then if the\n",
    "philosophical theory accepts the software it can be shown to accept this extreme case.\n",
    "\n",
    "1. [Creating the trivial logic in AltRea](#trivial)\n",
    "\n",
    "2. [Testing the creation of the trivial logic](#test)\n",
    "\n",
    "3. [Testing a new proof environment](#proof)\n",
    "\n",
    "4. [Create, save and display a saved proof](#save)\n",
    "\n",
    "5. [Show that unavailable intelim rules for negation cannot be used](#unavailable)\n",
    "\n",
    "6. [Show that the Not logical connector cannot be used](#not)\n"
   ]
  },
  {
   "cell_type": "markdown",
   "id": "d8a09744-ec47-4b24-ad25-c1ad7374fea5",
   "metadata": {},
   "source": [
    "<a id='trivial'></a>\n",
    "## Creating the Trivial Logic in AltRea"
   ]
  },
  {
   "cell_type": "code",
   "execution_count": 6,
   "id": "1dd1ff4e-9b21-4d63-bf3b-e71f429dd84b",
   "metadata": {},
   "outputs": [
    {
     "name": "stdout",
     "output_type": "stream",
     "text": [
      "The proofdetails table for logic trivial has been dropped.\n",
      "The proofs table for logic trivial has been dropped.\n",
      "Axioms associated with trivial have been deleted.\n",
      "Intelim rules associated with trivial have been deleted.\n",
      "Connectors associated with trivial have been deleted.\n",
      "The record for trivial in the logics table has been deleted.\n"
     ]
    }
   ],
   "source": [
    "import altrea.data\n",
    "altrea.data.deletelogic('trivial')"
   ]
  },
  {
   "cell_type": "code",
   "execution_count": 7,
   "id": "6ddaefeb-9ae2-4c46-8636-039e13c6b371",
   "metadata": {},
   "outputs": [
    {
     "name": "stdout",
     "output_type": "stream",
     "text": [
      "The logics table has been loaded for logic trivial.\n",
      "The connectors table for logic trivial has been loaded.\n",
      "The intelimrules table for logic trivial has been loaded.\n",
      "The axioms table for logic trivial has been loaded.\n",
      "Data loaded to the altrea/data/metadata.db tables have been committed.\n",
      "The proofs table has been created in altrea/data/trivial.db.\n",
      "The proofdetails table has been created in altrea/data/trivial.db.\n",
      "Data loaded to the altrea/data/trivial.db tables have been committed.\n"
     ]
    }
   ],
   "source": [
    "import altrea.data\n",
    "from altrea.rules import Proof\n",
    "p = Proof()\n",
    "logic = 'trivial'\n",
    "connectors = [\n",
    "    (logic, 'And', 'Conjunction'), \n",
    "    (logic, 'Or', 'Disjunction'), \n",
    "    (logic, 'Not', 'Negation'),\n",
    "    (logic, 'Implies', 'Implication'), \n",
    "    (logic, 'Iff', 'Coimplication'), \n",
    "    (logic, 'Necessary', 'Modal Necessarily'), \n",
    "    (logic, 'Possibly', 'Modal Possibly'),\n",
    "]\n",
    "intelimrules = [\n",
    "    (logic, p.coimplication_elim_tag, 'self.coimplication_elim_name'),\n",
    "    (logic, p.coimplication_intro_tag, 'self.coimplication_intro_name'),\n",
    "    (logic, p.conjunction_elim_tag, 'self.conjunction_elim_name'),\n",
    "    (logic, p.conjunction_intro_tag, 'self.conjunction_intro_name'),\n",
    "    (logic, p.disjunction_elim_tag, 'self.disjunction_elim_name'),\n",
    "    (logic, p.disjunction_intro_tag, 'self.disjunction_intro_name'),\n",
    "    (logic, p.explosion_tag, 'self.explosion_name'),\n",
    "    (logic, p.implication_elim_tag, 'self.implication_elim_name'),\n",
    "    (logic, p.implication_intro_tag, 'self.implication_intro_name'),\n",
    "    (logic, p.necessary_elim_tag, 'self.necessary_elim_name'),\n",
    "    (logic, p.necessary_intro_tag, 'self.necessary_intro_name'),\n",
    "    (logic, p.negation_elim_tag, 'self.negation_elim_name'),\n",
    "    (logic, p.negation_intro_tag, 'self.negation_intro_name'),\n",
    "    (logic, p.possibly_elim_tag, 'self.possibly_elim_name'),\n",
    "    (logic, p.possibly_intro_tag, 'self.possibly_intro_name'),\n",
    "]\n",
    "axioms = [                 \n",
    "    (logic, 'explosion', 'Implies(And(*1*, Not(*1*)), *2*)', 'Explosion', 'From a contradiction derive anything'),\n",
    "    (logic, 'contradiction', 'And(*1*, Not(*1*))', 'Contradiction', 'All contradictions are true'),\n",
    "]\n",
    "altrea.data.addlogic(logic,logic,'Trivial Logic with Explosion and Contradictions', connectors, intelimrules, axioms)"
   ]
  },
  {
   "cell_type": "markdown",
   "id": "cdde4331-61e1-458d-b9d4-3eb3485e1536",
   "metadata": {},
   "source": [
    "<a id='test'></a>\n",
    "## Testing the Creation of the Trivial Logic"
   ]
  },
  {
   "cell_type": "code",
   "execution_count": 8,
   "id": "a817b025-9502-4e7d-8e81-d2f8d173e23c",
   "metadata": {},
   "outputs": [
    {
     "name": "stdout",
     "output_type": "stream",
     "text": [
      "Testing the \"trivial\" logic setup in AltRea\n",
      "      \n",
      "Has the logic been defined with metadata and a database table?\n",
      "The logic \"trivial\" with description \"Trivial Logic with Explosion and Contradictions\" will store proofs in \"altrea/data/trivial.db\".\n",
      "      \n",
      "What axioms have been defined?\n",
      "('contradiction', 'And(*1*, Not(*1*))', 'Contradiction', 'All contradictions are true')\n",
      "('explosion', 'Implies(And(*1*, Not(*1*)), *2*)', 'Explosion', 'From a contradiction derive anything')\n",
      "      \n",
      "What connectors are available?\n",
      "('And', 'Conjunction')\n",
      "('Iff', 'Coimplication')\n",
      "('Implies', 'Implication')\n",
      "('Necessary', 'Modal Necessarily')\n",
      "('Not', 'Negation')\n",
      "('Or', 'Disjunction')\n",
      "('Possibly', 'Modal Possibly')\n",
      "      \n",
      "What intelim rules are available?\n",
      "('CE', 'self.conjunction_elim_name')\n",
      "('CI', 'self.conjunction_intro_name')\n",
      "('COE', 'self.coimplication_elim_name')\n",
      "('COI', 'self.coimplication_intro_name')\n",
      "('DE', 'self.disjunction_elim_name')\n",
      "('DI', 'self.disjunction_intro_name')\n",
      "('IE', 'self.implication_elim_name')\n",
      "('II', 'self.implication_intro_name')\n",
      "('NE', 'self.negation_elim_name')\n",
      "('NEE', 'self.necessary_elim_name')\n",
      "('NEI', 'self.necessary_intro_name')\n",
      "('NI', 'self.negation_intro_name')\n",
      "('POE', 'self.possibly_elim_name')\n",
      "('POI', 'self.possibly_intro_name')\n",
      "('X', 'self.explosion_name')\n",
      "      \n",
      "What proofs have been saved?\n",
      "The logic \"trivial\" has no saved proofs.\n"
     ]
    }
   ],
   "source": [
    "import altrea.data\n",
    "\n",
    "altrea.data.testlogic('trivial')"
   ]
  },
  {
   "cell_type": "markdown",
   "id": "4c291d4e-cd81-4c85-b44b-da222b086e6c",
   "metadata": {},
   "source": [
    "<a id='proof'></a>\n",
    "## Testing a New Proof Environment"
   ]
  },
  {
   "cell_type": "code",
   "execution_count": 1,
   "id": "ce95f94f-08c9-4116-baf1-6813c439a235",
   "metadata": {},
   "outputs": [
    {
     "name": "stdout",
     "output_type": "stream",
     "text": [
      "Proof Name                test                     \n",
      "Display Name              teestagain               \n",
      "Display Name              teestagain               \n",
      "Description               ssssss                   \n",
      "Logic                     trivial                  \n",
      "Logic Description         Trivial Logic with Explosion and Contradictions\n",
      "Logic Database            altrea/data/trivial.db   \n",
      "Axioms\n",
      "            contradiction And(*1*, Not(*1*))       \n",
      "                explosion Implies(And(*1*, Not(*1*)), *2*)\n",
      "Connectors\n",
      "                      And Conjunction              \n",
      "                      Iff Coimplication            \n",
      "                  Implies Implication              \n",
      "                Necessary Modal Necessarily        \n",
      "                      Not Negation                 \n",
      "                       Or Disjunction              \n",
      "                 Possibly Modal Possibly           \n",
      "IntElim Rules\n",
      "                          Conjunction Elim         \n",
      "                          Conjunction Intro        \n",
      "                          Coimplication Elim       \n",
      "                          Coimplication Intro      \n",
      "                          Disjunction Elim         \n",
      "                          Disjunction Intro        \n",
      "                          Implication Elim         \n",
      "                          Implication Intro        \n",
      "                          Negation Elim            \n",
      "                          Necessary Elim           \n",
      "                          Necessary Intro          \n",
      "                          Negation Intro           \n",
      "                          Possibly Elim            \n",
      "                          Possibly Intro           \n",
      "                          Explosion                \n",
      "Goals                     No Goals                 \n",
      "Premises                  No Premises              \n",
      "Derived Goals             No Derived Goals         \n",
      "Proof Status              In Progress              \n",
      "Stopped Status            Not Stopped              \n",
      "Proof Level               0                        \n",
      "Current Proof ID          0                        \n",
      "Previous Proof ID         -1                       \n",
      "Previous Proof Chain      Empty                    \n"
     ]
    }
   ],
   "source": [
    "# Examine the variable assigned to a new proof.\n",
    "\n",
    "from altrea.boolean import Wff, Or, Not, And, Implies, Iff, Necessary, Possibly\n",
    "from altrea.rules import Proof\n",
    "\n",
    "new = Proof('test','teestagain','ssssss')\n",
    "A = new.truth('A')\n",
    "new.setlogic('trivial')\n",
    "#new.statusreport(A)\n",
    "new.reportstatus()"
   ]
  },
  {
   "cell_type": "markdown",
   "id": "a028c3f8-7dd6-45d9-a9d4-10710583f099",
   "metadata": {},
   "source": [
    "<a id='save'></a>\n",
    "## Create, Save and Display a Saved Proof"
   ]
  },
  {
   "cell_type": "code",
   "execution_count": 1,
   "id": "f679312e-8586-4e6d-adfa-2f9a43dffe01",
   "metadata": {},
   "outputs": [
    {
     "name": "stdout",
     "output_type": "stream",
     "text": [
      "0 TRUTH: The letter \"p\" (latex: \"p\") for a generic truth formula has been defined making 1 so far.\n",
      "1 TRUTH: The letter \"q\" (latex: \"q\") for a generic truth formula has been defined making 2 so far.\n",
      "2 SETLOGIC: \"trivial\" has been selected as the logic described as \"Trivial Logic with Explosion and Contradictions\" and stored in database \"altrea/data/trivial.db\".\n",
      "3 GOAL: The goal \"p\" has been added to the goals.\n",
      "4 AXIOM: Item \"q & ~q\" has been added through the \"All contradictions are true\" axiom.\n",
      "5 AXIOM: Item \"(q & ~q) > p\" has been added through the \"From a contradiction derive anything\" axiom.\n",
      "6 IMPLICATION_ELIM: Item \"p\" has been derived from the implication \"(q & ~q) > p\" and item \"q & ~q\".\n",
      "7 The proof is complete.\n"
     ]
    },
    {
     "data": {
      "text/html": [
       "<div>\n",
       "<style scoped>\n",
       "    .dataframe tbody tr th:only-of-type {\n",
       "        vertical-align: middle;\n",
       "    }\n",
       "\n",
       "    .dataframe tbody tr th {\n",
       "        vertical-align: top;\n",
       "    }\n",
       "\n",
       "    .dataframe thead th {\n",
       "        text-align: right;\n",
       "    }\n",
       "</style>\n",
       "<table border=\"1\" class=\"dataframe\">\n",
       "  <thead>\n",
       "    <tr style=\"text-align: right;\">\n",
       "      <th></th>\n",
       "      <th>Item</th>\n",
       "      <th>Level</th>\n",
       "      <th>Proof</th>\n",
       "      <th>Rule</th>\n",
       "      <th>Lines</th>\n",
       "      <th>Proofs</th>\n",
       "      <th>Comment</th>\n",
       "    </tr>\n",
       "  </thead>\n",
       "  <tbody>\n",
       "    <tr>\n",
       "      <th>Anything Is True</th>\n",
       "      <td>$\\color{blue}p$</td>\n",
       "      <td>0</td>\n",
       "      <td>0</td>\n",
       "      <td>GOAL</td>\n",
       "      <td></td>\n",
       "      <td></td>\n",
       "      <td></td>\n",
       "    </tr>\n",
       "    <tr>\n",
       "      <th>1</th>\n",
       "      <td>$q \\wedge \\lnot q$</td>\n",
       "      <td>0</td>\n",
       "      <td>0</td>\n",
       "      <td>Contradiction</td>\n",
       "      <td></td>\n",
       "      <td></td>\n",
       "      <td></td>\n",
       "    </tr>\n",
       "    <tr>\n",
       "      <th>2</th>\n",
       "      <td>$(q \\wedge \\lnot q) \\to p$</td>\n",
       "      <td>0</td>\n",
       "      <td>0</td>\n",
       "      <td>Explosion</td>\n",
       "      <td></td>\n",
       "      <td></td>\n",
       "      <td></td>\n",
       "    </tr>\n",
       "    <tr>\n",
       "      <th>3</th>\n",
       "      <td>$\\color{blue}p$</td>\n",
       "      <td>0</td>\n",
       "      <td>0</td>\n",
       "      <td>Implication Elim</td>\n",
       "      <td>1, 2</td>\n",
       "      <td></td>\n",
       "      <td>COMPLETE</td>\n",
       "    </tr>\n",
       "  </tbody>\n",
       "</table>\n",
       "</div>"
      ],
      "text/plain": [
       "                                        Item  Level  Proof              Rule  \\\n",
       "Anything Is True             $\\color{blue}p$      0      0              GOAL   \n",
       "1                         $q \\wedge \\lnot q$      0      0     Contradiction   \n",
       "2                 $(q \\wedge \\lnot q) \\to p$      0      0         Explosion   \n",
       "3                            $\\color{blue}p$      0      0  Implication Elim   \n",
       "\n",
       "                 Lines Proofs   Comment  \n",
       "Anything Is True                         \n",
       "1                                        \n",
       "2                                        \n",
       "3                 1, 2         COMPLETE  "
      ]
     },
     "execution_count": 1,
     "metadata": {},
     "output_type": "execute_result"
    }
   ],
   "source": [
    "# Create a completed proof.\n",
    "\n",
    "from altrea.boolean import Wff, Or, Not, And, Implies, Iff, Necessary, Possibly\n",
    "from altrea.rules import Proof\n",
    "\n",
    "anything_is_true = Proof(name='anything_is_true', displayname='Anything Is True', description='A proof that any statement is true')\n",
    "p = anything_is_true.truth('p')\n",
    "q = anything_is_true.truth('q')\n",
    "anything_is_true.setlogic('trivial')\n",
    "anything_is_true.goal(p) \n",
    "anything_is_true.axiom('contradiction', q)\n",
    "anything_is_true.axiom('explosion', q, p)\n",
    "anything_is_true.implication_elim(1, 2)\n",
    "anything_is_true.displaylog()\n",
    "anything_is_true.displayproof()"
   ]
  },
  {
   "cell_type": "code",
   "execution_count": 2,
   "id": "eeb962cf-7aff-4f53-b733-844e8576174f",
   "metadata": {},
   "outputs": [
    {
     "data": {
      "text/html": [
       "<div>\n",
       "<style scoped>\n",
       "    .dataframe tbody tr th:only-of-type {\n",
       "        vertical-align: middle;\n",
       "    }\n",
       "\n",
       "    .dataframe tbody tr th {\n",
       "        vertical-align: top;\n",
       "    }\n",
       "\n",
       "    .dataframe thead th {\n",
       "        text-align: right;\n",
       "    }\n",
       "</style>\n",
       "<table border=\"1\" class=\"dataframe\">\n",
       "  <thead>\n",
       "    <tr style=\"text-align: right;\">\n",
       "      <th></th>\n",
       "      <th>$\\models $</th>\n",
       "      <th>$p$</th>\n",
       "      <th>Check</th>\n",
       "    </tr>\n",
       "  </thead>\n",
       "  <tbody>\n",
       "    <tr>\n",
       "      <th>0</th>\n",
       "      <td></td>\n",
       "      <td>True</td>\n",
       "      <td>OK</td>\n",
       "    </tr>\n",
       "  </tbody>\n",
       "</table>\n",
       "</div>"
      ],
      "text/plain": [
       "  $\\models $   $p$ Check\n",
       "0             True    OK"
      ]
     },
     "execution_count": 2,
     "metadata": {},
     "output_type": "execute_result"
    }
   ],
   "source": [
    "anything_is_true.truthtable()"
   ]
  },
  {
   "cell_type": "code",
   "execution_count": 2,
   "id": "93856080-9c90-4ffd-9017-37215a1d7fa4",
   "metadata": {},
   "outputs": [
    {
     "data": {
      "text/plain": [
       "[['anything_is_true',\n",
       "  'Anything Is True',\n",
       "  'A proof that any statement is true',\n",
       "  'trivial',\n",
       "  '*1*'],\n",
       " ['anything_is_true',\n",
       "  'And(*2*, Not(*2*))',\n",
       "  0,\n",
       "  0,\n",
       "  '*Contradiction*',\n",
       "  '',\n",
       "  '',\n",
       "  ''],\n",
       " ['anything_is_true',\n",
       "  'Implies(And(*2*, Not(*2*)), *1*)',\n",
       "  0,\n",
       "  0,\n",
       "  '*Explosion*',\n",
       "  '',\n",
       "  '',\n",
       "  ''],\n",
       " ['anything_is_true', '*1*', 0, 0, '*IE*', '1, 2', '', 'COMPLETE']]"
      ]
     },
     "execution_count": 2,
     "metadata": {},
     "output_type": "execute_result"
    }
   ],
   "source": [
    "anything_is_true.proofdatafinal"
   ]
  },
  {
   "cell_type": "code",
   "execution_count": 3,
   "id": "afce2b0e-10a3-41a8-a411-adc52f90c885",
   "metadata": {},
   "outputs": [
    {
     "data": {
      "text/plain": [
       "[['anything_is_true',\n",
       "  'Anything Is True',\n",
       "  'A proof that any statement is true',\n",
       "  'trivial'],\n",
       " ['anything_is_true',\n",
       "  <altrea.boolean.And at 0x23bb2de6b70>,\n",
       "  0,\n",
       "  0,\n",
       "  '*Contradiction*',\n",
       "  '',\n",
       "  '',\n",
       "  ''],\n",
       " ['anything_is_true',\n",
       "  <altrea.boolean.Implies at 0x23bb2844470>,\n",
       "  0,\n",
       "  0,\n",
       "  '*Explosion*',\n",
       "  '',\n",
       "  '',\n",
       "  ''],\n",
       " ['anything_is_true',\n",
       "  <altrea.boolean.Truth at 0x23babbaed80>,\n",
       "  0,\n",
       "  0,\n",
       "  '*IE*',\n",
       "  '1, 2',\n",
       "  '',\n",
       "  'COMPLETE']]"
      ]
     },
     "execution_count": 3,
     "metadata": {},
     "output_type": "execute_result"
    }
   ],
   "source": [
    "anything_is_true.proofdata"
   ]
  },
  {
   "cell_type": "code",
   "execution_count": 5,
   "id": "aa859088-2359-4535-b649-8912c6c8740f",
   "metadata": {},
   "outputs": [
    {
     "data": {
      "text/html": [
       "<div>\n",
       "<style scoped>\n",
       "    .dataframe tbody tr th:only-of-type {\n",
       "        vertical-align: middle;\n",
       "    }\n",
       "\n",
       "    .dataframe tbody tr th {\n",
       "        vertical-align: top;\n",
       "    }\n",
       "\n",
       "    .dataframe thead th {\n",
       "        text-align: right;\n",
       "    }\n",
       "</style>\n",
       "<table border=\"1\" class=\"dataframe\">\n",
       "  <thead>\n",
       "    <tr style=\"text-align: right;\">\n",
       "      <th></th>\n",
       "      <th>Item</th>\n",
       "      <th>Level</th>\n",
       "      <th>Proof</th>\n",
       "      <th>Rule</th>\n",
       "      <th>Lines</th>\n",
       "      <th>Proofs</th>\n",
       "      <th>Comment</th>\n",
       "    </tr>\n",
       "  </thead>\n",
       "  <tbody>\n",
       "    <tr>\n",
       "      <th>0</th>\n",
       "      <td>And(*2*, Not(*2*))</td>\n",
       "      <td>0</td>\n",
       "      <td>0</td>\n",
       "      <td>*Contradiction*</td>\n",
       "      <td></td>\n",
       "      <td></td>\n",
       "      <td></td>\n",
       "    </tr>\n",
       "    <tr>\n",
       "      <th>1</th>\n",
       "      <td>Implies(And(*2*, Not(*2*)), *1*)</td>\n",
       "      <td>0</td>\n",
       "      <td>0</td>\n",
       "      <td>*Explosion*</td>\n",
       "      <td></td>\n",
       "      <td></td>\n",
       "      <td></td>\n",
       "    </tr>\n",
       "    <tr>\n",
       "      <th>2</th>\n",
       "      <td>*1*</td>\n",
       "      <td>0</td>\n",
       "      <td>0</td>\n",
       "      <td>*IE*</td>\n",
       "      <td>1, 2</td>\n",
       "      <td></td>\n",
       "      <td>COMPLETE</td>\n",
       "    </tr>\n",
       "  </tbody>\n",
       "</table>\n",
       "</div>"
      ],
      "text/plain": [
       "                               Item  Level  Proof             Rule Lines  \\\n",
       "0                And(*2*, Not(*2*))      0      0  *Contradiction*         \n",
       "1  Implies(And(*2*, Not(*2*)), *1*)      0      0      *Explosion*         \n",
       "2                               *1*      0      0             *IE*  1, 2   \n",
       "\n",
       "  Proofs   Comment  \n",
       "0                   \n",
       "1                   \n",
       "2         COMPLETE  "
      ]
     },
     "execution_count": 5,
     "metadata": {},
     "output_type": "execute_result"
    }
   ],
   "source": [
    "anything_is_true.proofdetailsraw('anything_is_true')"
   ]
  },
  {
   "cell_type": "code",
   "execution_count": 4,
   "id": "26acdee3-19fa-4774-8454-786a484134c7",
   "metadata": {},
   "outputs": [
    {
     "name": "stdout",
     "output_type": "stream",
     "text": [
      "The proof details for \"anything_is_true\" have been deleted from proofdetails for \"trivial\".\n",
      "The proof \"anything_is_true\" has been deleted from proofs for \"trivial\".\n",
      "The proof \"anything_is_true\" for logic \"trivial\" has been added to altrea/data/trivial.db.\n",
      "The proof details for \"anything_is_true\" for logic \"trivial\" have been added to altrea/data/trivial.db.\n"
     ]
    }
   ],
   "source": [
    "anything_is_true.saveproofreplace()"
   ]
  },
  {
   "cell_type": "code",
   "execution_count": 6,
   "id": "564013c9-0988-4592-9182-009d3389cd3f",
   "metadata": {},
   "outputs": [
    {
     "data": {
      "text/html": [
       "<div>\n",
       "<style scoped>\n",
       "    .dataframe tbody tr th:only-of-type {\n",
       "        vertical-align: middle;\n",
       "    }\n",
       "\n",
       "    .dataframe tbody tr th {\n",
       "        vertical-align: top;\n",
       "    }\n",
       "\n",
       "    .dataframe thead th {\n",
       "        text-align: right;\n",
       "    }\n",
       "</style>\n",
       "<table border=\"1\" class=\"dataframe\">\n",
       "  <thead>\n",
       "    <tr style=\"text-align: right;\">\n",
       "      <th></th>\n",
       "      <th>Name</th>\n",
       "      <th>Pattern</th>\n",
       "      <th>Display</th>\n",
       "      <th>Description</th>\n",
       "    </tr>\n",
       "  </thead>\n",
       "  <tbody>\n",
       "    <tr>\n",
       "      <th>0</th>\n",
       "      <td>anything_is_true</td>\n",
       "      <td>*1*</td>\n",
       "      <td>Anything Is True</td>\n",
       "      <td>A proof that any statement is true</td>\n",
       "    </tr>\n",
       "  </tbody>\n",
       "</table>\n",
       "</div>"
      ],
      "text/plain": [
       "               Name Pattern           Display  \\\n",
       "0  anything_is_true     *1*  Anything Is True   \n",
       "\n",
       "                          Description  \n",
       "0  A proof that any statement is true  "
      ]
     },
     "execution_count": 6,
     "metadata": {},
     "output_type": "execute_result"
    }
   ],
   "source": [
    "anything_is_true.savedproofs()"
   ]
  },
  {
   "cell_type": "code",
   "execution_count": 11,
   "id": "75463a01-0d60-4409-a992-185b096d35d3",
   "metadata": {},
   "outputs": [
    {
     "name": "stdout",
     "output_type": "stream",
     "text": [
      "The proof details for \"anything_is_true\" have been deleted from proofdetails for \"trivial\".\n",
      "The proof \"anything_is_true\" has been deleted from proofs for \"trivial\".\n",
      "The proof \"anything_is_true\" for logic \"trivial\" has been added to altrea/data/trivial.db.\n",
      "The proof details for \"anything_is_true\" for logic \"trivial\" have been added to altrea/data/trivial.db.\n"
     ]
    }
   ],
   "source": [
    "# Save the completed proof using the proof from the previous cell.\n",
    "\n",
    "prf.saveproofreplace()"
   ]
  },
  {
   "cell_type": "code",
   "execution_count": 7,
   "id": "872fac67-9e56-4ce3-92de-456ebc2c52a1",
   "metadata": {},
   "outputs": [
    {
     "name": "stdout",
     "output_type": "stream",
     "text": [
      "('anything_is_true', '*1*', 'Anything Is True', 'A proof that any statement is true')\n"
     ]
    }
   ],
   "source": [
    "# Display the proof currently available proofs.\n",
    "\n",
    "import altrea.data\n",
    "\n",
    "logic = 'trivial'\n",
    "proofs = altrea.data.getavailableproofs(logic)\n",
    "if len(proofs) == 0:\n",
    "    print(f'The logic \"{logic}\" has no saved proofs.')\n",
    "else:\n",
    "    for i in proofs:\n",
    "        print(i)"
   ]
  },
  {
   "cell_type": "code",
   "execution_count": 8,
   "id": "57f8338e-8623-495e-8b07-b23a651ad61e",
   "metadata": {},
   "outputs": [
    {
     "ename": "NameError",
     "evalue": "name 'prf' is not defined",
     "output_type": "error",
     "traceback": [
      "\u001b[1;31m---------------------------------------------------------------------------\u001b[0m",
      "\u001b[1;31mNameError\u001b[0m                                 Traceback (most recent call last)",
      "Cell \u001b[1;32mIn[8], line 3\u001b[0m\n\u001b[0;32m      1\u001b[0m \u001b[38;5;66;03m# Display the details of the saved proof.\u001b[39;00m\n\u001b[1;32m----> 3\u001b[0m \u001b[43mprf\u001b[49m\u001b[38;5;241m.\u001b[39mproofdetails(\u001b[38;5;124m'\u001b[39m\u001b[38;5;124manything_is_true\u001b[39m\u001b[38;5;124m'\u001b[39m, p)\n",
      "\u001b[1;31mNameError\u001b[0m: name 'prf' is not defined"
     ]
    }
   ],
   "source": [
    "# Display the details of the saved proof.\n",
    "\n",
    "prf.proofdetails('anything_is_true', p)"
   ]
  },
  {
   "cell_type": "code",
   "execution_count": 9,
   "id": "aadaf960-56a7-4cce-80bd-63abc0458666",
   "metadata": {},
   "outputs": [
    {
     "name": "stdout",
     "output_type": "stream",
     "text": [
      "0 TRUTH: The letter \"A\" (latex: \"A\") for a generic truth formula has been defined making 1 so far.\n",
      "1 TRUTH: The letter \"B\" (latex: \"B\") for a generic truth formula has been defined making 2 so far.\n",
      "2 SETLOGIC: \"trivial\" has been selected as the logic described as \"Trivial Logic with Explosion and Contradictions\" and stored in database \"altrea/data/trivial.db\".\n",
      "3 GOAL: The goal \"B\" has been added to the goals.\n",
      "4 SAVED PROOF: Item \"B\" has been added through the \"A proof that any statement is true\" saved proof.\n",
      "5 The proof is complete.\n"
     ]
    },
    {
     "data": {
      "text/html": [
       "<div>\n",
       "<style scoped>\n",
       "    .dataframe tbody tr th:only-of-type {\n",
       "        vertical-align: middle;\n",
       "    }\n",
       "\n",
       "    .dataframe tbody tr th {\n",
       "        vertical-align: top;\n",
       "    }\n",
       "\n",
       "    .dataframe thead th {\n",
       "        text-align: right;\n",
       "    }\n",
       "</style>\n",
       "<table border=\"1\" class=\"dataframe\">\n",
       "  <thead>\n",
       "    <tr style=\"text-align: right;\">\n",
       "      <th></th>\n",
       "      <th>Item</th>\n",
       "      <th>Level</th>\n",
       "      <th>Proof</th>\n",
       "      <th>Rule</th>\n",
       "      <th>Lines</th>\n",
       "      <th>Proofs</th>\n",
       "      <th>Comment</th>\n",
       "    </tr>\n",
       "  </thead>\n",
       "  <tbody>\n",
       "    <tr>\n",
       "      <th></th>\n",
       "      <td>$\\color{blue}B$</td>\n",
       "      <td>0</td>\n",
       "      <td>0</td>\n",
       "      <td>GOAL</td>\n",
       "      <td></td>\n",
       "      <td></td>\n",
       "      <td></td>\n",
       "    </tr>\n",
       "    <tr>\n",
       "      <th>1</th>\n",
       "      <td>$\\color{blue}B$</td>\n",
       "      <td>0</td>\n",
       "      <td>0</td>\n",
       "      <td>Anything Is True</td>\n",
       "      <td></td>\n",
       "      <td></td>\n",
       "      <td>COMPLETE</td>\n",
       "    </tr>\n",
       "  </tbody>\n",
       "</table>\n",
       "</div>"
      ],
      "text/plain": [
       "              Item  Level  Proof              Rule Lines Proofs   Comment\n",
       "   $\\color{blue}B$      0      0              GOAL                       \n",
       "1  $\\color{blue}B$      0      0  Anything Is True               COMPLETE"
      ]
     },
     "execution_count": 9,
     "metadata": {},
     "output_type": "execute_result"
    }
   ],
   "source": [
    "# Use the saved proof in a new proof.\n",
    "\n",
    "prf = Proof()\n",
    "A = prf.truth('A')\n",
    "B = prf.truth('B')\n",
    "prf.setlogic('trivial')\n",
    "prf.goal(B)\n",
    "prf.useproof('anything_is_true', B)\n",
    "prf.displaylog()\n",
    "prf.displayproof()\n"
   ]
  },
  {
   "cell_type": "code",
   "execution_count": 12,
   "id": "9e1dbf49-f314-44be-ac4a-761b44d85497",
   "metadata": {},
   "outputs": [
    {
     "data": {
      "text/html": [
       "<div>\n",
       "<style scoped>\n",
       "    .dataframe tbody tr th:only-of-type {\n",
       "        vertical-align: middle;\n",
       "    }\n",
       "\n",
       "    .dataframe tbody tr th {\n",
       "        vertical-align: top;\n",
       "    }\n",
       "\n",
       "    .dataframe thead th {\n",
       "        text-align: right;\n",
       "    }\n",
       "</style>\n",
       "<table border=\"1\" class=\"dataframe\">\n",
       "  <thead>\n",
       "    <tr style=\"text-align: right;\">\n",
       "      <th></th>\n",
       "      <th>|</th>\n",
       "      <th>$p$</th>\n",
       "      <th>Check</th>\n",
       "    </tr>\n",
       "  </thead>\n",
       "  <tbody>\n",
       "    <tr>\n",
       "      <th>0</th>\n",
       "      <td>|</td>\n",
       "      <td>True</td>\n",
       "      <td>OK</td>\n",
       "    </tr>\n",
       "  </tbody>\n",
       "</table>\n",
       "</div>"
      ],
      "text/plain": [
       "   |   $p$ Check\n",
       "0  |  True    OK"
      ]
     },
     "execution_count": 12,
     "metadata": {},
     "output_type": "execute_result"
    }
   ],
   "source": [
    "anything_is_true.truthtable()"
   ]
  },
  {
   "cell_type": "markdown",
   "id": "a25113bb-831c-4d7e-8741-91d4ae036e38",
   "metadata": {},
   "source": [
    "<a id='unavailable'></a>\n",
    "# Show that the Unavailable IntElim Rules for Negation Cannot Be Used"
   ]
  },
  {
   "cell_type": "code",
   "execution_count": 9,
   "id": "632e9f23-a605-49cd-8ab6-6ebbb91e1dcb",
   "metadata": {},
   "outputs": [
    {
     "ename": "AttributeError",
     "evalue": "'NoneType' object has no attribute 'is_variable'",
     "output_type": "error",
     "traceback": [
      "\u001b[1;31m---------------------------------------------------------------------------\u001b[0m",
      "\u001b[1;31mAttributeError\u001b[0m                            Traceback (most recent call last)",
      "Cell \u001b[1;32mIn[9], line 17\u001b[0m\n\u001b[0;32m     15\u001b[0m B \u001b[38;5;241m=\u001b[39m prf3\u001b[38;5;241m.\u001b[39mtruth(\u001b[38;5;124m'\u001b[39m\u001b[38;5;124mB\u001b[39m\u001b[38;5;124m'\u001b[39m)\n\u001b[0;32m     16\u001b[0m prf3\u001b[38;5;241m.\u001b[39msetlogic(\u001b[38;5;124m'\u001b[39m\u001b[38;5;124mtrivial\u001b[39m\u001b[38;5;124m'\u001b[39m)\n\u001b[1;32m---> 17\u001b[0m \u001b[43mprf3\u001b[49m\u001b[38;5;241;43m.\u001b[39;49m\u001b[43mgoal\u001b[49m\u001b[43m(\u001b[49m\u001b[43mImplies\u001b[49m\u001b[43m(\u001b[49m\u001b[43mA\u001b[49m\u001b[43m,\u001b[49m\u001b[43m \u001b[49m\u001b[43mB\u001b[49m\u001b[43m)\u001b[49m\u001b[43m)\u001b[49m\n\u001b[0;32m     18\u001b[0m prf3\u001b[38;5;241m.\u001b[39mhypothesis(A)\n\u001b[0;32m     19\u001b[0m prf3\u001b[38;5;241m.\u001b[39maxiom(\u001b[38;5;124m'\u001b[39m\u001b[38;5;124mtrue\u001b[39m\u001b[38;5;124m'\u001b[39m,B)\n",
      "File \u001b[1;32mE:\\Jupyter\\AltRea\\altrea\\rules.py:2044\u001b[0m, in \u001b[0;36mProof.goal\u001b[1;34m(self, goal, comment)\u001b[0m\n\u001b[0;32m   2042\u001b[0m \u001b[38;5;66;03m# If no errors, perform task\u001b[39;00m\n\u001b[0;32m   2043\u001b[0m \u001b[38;5;28;01mif\u001b[39;00m \u001b[38;5;28mself\u001b[39m\u001b[38;5;241m.\u001b[39mcanproceed():\n\u001b[1;32m-> 2044\u001b[0m     \u001b[38;5;28mself\u001b[39m\u001b[38;5;241m.\u001b[39mgoals\u001b[38;5;241m.\u001b[39mappend(\u001b[38;5;28;43mstr\u001b[39;49m\u001b[43m(\u001b[49m\u001b[43mgoal\u001b[49m\u001b[43m)\u001b[49m)\n\u001b[0;32m   2045\u001b[0m     \u001b[38;5;28mself\u001b[39m\u001b[38;5;241m.\u001b[39mgoalswff\u001b[38;5;241m.\u001b[39mappend(goal)\n\u001b[0;32m   2046\u001b[0m     \u001b[38;5;28;01mif\u001b[39;00m \u001b[38;5;28mself\u001b[39m\u001b[38;5;241m.\u001b[39mgoals_string \u001b[38;5;241m==\u001b[39m \u001b[38;5;124m'\u001b[39m\u001b[38;5;124m'\u001b[39m:\n",
      "File \u001b[1;32mE:\\Jupyter\\AltRea\\altrea\\boolean.py:240\u001b[0m, in \u001b[0;36mImplies.__str__\u001b[1;34m(self)\u001b[0m\n\u001b[0;32m    239\u001b[0m \u001b[38;5;28;01mdef\u001b[39;00m \u001b[38;5;21m__str__\u001b[39m(\u001b[38;5;28mself\u001b[39m):\n\u001b[1;32m--> 240\u001b[0m     \u001b[38;5;28;01mif\u001b[39;00m \u001b[38;5;28;43mself\u001b[39;49m\u001b[38;5;241;43m.\u001b[39;49m\u001b[43mleft\u001b[49m\u001b[38;5;241;43m.\u001b[39;49m\u001b[43mis_variable\u001b[49m \u001b[38;5;129;01mand\u001b[39;00m \u001b[38;5;28mself\u001b[39m\u001b[38;5;241m.\u001b[39mright\u001b[38;5;241m.\u001b[39mis_variable:\n\u001b[0;32m    241\u001b[0m         \u001b[38;5;28;01mreturn\u001b[39;00m \u001b[38;5;124mf\u001b[39m\u001b[38;5;124m'\u001b[39m\u001b[38;5;132;01m{\u001b[39;00m\u001b[38;5;28mself\u001b[39m\u001b[38;5;241m.\u001b[39mleft\u001b[38;5;132;01m}\u001b[39;00m\u001b[38;5;124m \u001b[39m\u001b[38;5;132;01m{\u001b[39;00m\u001b[38;5;28mself\u001b[39m\u001b[38;5;241m.\u001b[39mimplies_connector\u001b[38;5;132;01m}\u001b[39;00m\u001b[38;5;124m \u001b[39m\u001b[38;5;132;01m{\u001b[39;00m\u001b[38;5;28mself\u001b[39m\u001b[38;5;241m.\u001b[39mright\u001b[38;5;132;01m}\u001b[39;00m\u001b[38;5;124m'\u001b[39m\n\u001b[0;32m    242\u001b[0m     \u001b[38;5;28;01melif\u001b[39;00m \u001b[38;5;28mself\u001b[39m\u001b[38;5;241m.\u001b[39mleft\u001b[38;5;241m.\u001b[39mis_variable:\n",
      "\u001b[1;31mAttributeError\u001b[0m: 'NoneType' object has no attribute 'is_variable'"
     ]
    }
   ],
   "source": [
    "# Show that an unavailable operator cannot be used.\n",
    "from IPython.display import display, Math, Markdown, Latex, display_markdown, HTML\n",
    "\n",
    "from altrea.boolean import Wff, Or, Not, And, Implies, Iff, Necessary, Possibly\n",
    "from altrea.rules import Proof\n",
    "\n",
    "import pandas as pd\n",
    "# To see available options run `pd.describe_option()` in a cell.\n",
    "pd.options.display.max_colwidth=500\n",
    "pd.options.display.max_rows = 999\n",
    "pd.options.display.html.use_mathjax = True\n",
    "\n",
    "prf3 = Proof()\n",
    "A = prf3.truth('A')\n",
    "B = prf3.truth('B')\n",
    "prf3.setlogic('trivial')\n",
    "prf3.goal(Implies(A, B))\n",
    "prf3.hypothesis(A)\n",
    "prf3.axiom('true',B)\n",
    "prf3.implication_intro()\n",
    "prf3.displaylog()\n",
    "prf3.displayproof(latex=0)"
   ]
  },
  {
   "cell_type": "code",
   "execution_count": 15,
   "id": "2cabe58c-d25c-4364-a578-7cac17910622",
   "metadata": {},
   "outputs": [
    {
     "name": "stdout",
     "output_type": "stream",
     "text": [
      "0 WFF: The letter \"q\" for a generic well-formed formula has been defined making 1 so far.\n",
      "1 SETLOGIC: \"trivial\" has been selected as the logic described as \"Trivial Logic with All Sentences True\" and stored in database \"altrea/data/trivial.db\".\n",
      "2 GOAL: The goal \"q\" has been added to the goals.\n",
      "3 AXIOM: Axiom name \"lem\" cannot be found in the axiom list.\n",
      "4 STOPPED: The named axiom is not in the axiom list.\n"
     ]
    },
    {
     "data": {
      "text/html": [
       "<div>\n",
       "<style scoped>\n",
       "    .dataframe tbody tr th:only-of-type {\n",
       "        vertical-align: middle;\n",
       "    }\n",
       "\n",
       "    .dataframe tbody tr th {\n",
       "        vertical-align: top;\n",
       "    }\n",
       "\n",
       "    .dataframe thead th {\n",
       "        text-align: right;\n",
       "    }\n",
       "</style>\n",
       "<table border=\"1\" class=\"dataframe\">\n",
       "  <thead>\n",
       "    <tr style=\"text-align: right;\">\n",
       "      <th></th>\n",
       "      <th>Item</th>\n",
       "      <th>Level</th>\n",
       "      <th>Proof</th>\n",
       "      <th>Rule</th>\n",
       "      <th>Lines</th>\n",
       "      <th>Proofs</th>\n",
       "      <th>Comment</th>\n",
       "    </tr>\n",
       "  </thead>\n",
       "  <tbody>\n",
       "    <tr>\n",
       "      <th></th>\n",
       "      <td>q</td>\n",
       "      <td>0</td>\n",
       "      <td>0</td>\n",
       "      <td>GOAL</td>\n",
       "      <td></td>\n",
       "      <td></td>\n",
       "      <td></td>\n",
       "    </tr>\n",
       "    <tr>\n",
       "      <th>1</th>\n",
       "      <td></td>\n",
       "      <td>0</td>\n",
       "      <td>0</td>\n",
       "      <td>lem</td>\n",
       "      <td></td>\n",
       "      <td></td>\n",
       "      <td>STOPPED: The named axiom is not in the axiom list.</td>\n",
       "    </tr>\n",
       "  </tbody>\n",
       "</table>\n",
       "</div>"
      ],
      "text/plain": [
       "  Item  Level  Proof  Rule Lines Proofs  \\\n",
       "     q      0      0  GOAL                \n",
       "1           0      0   lem                \n",
       "\n",
       "                                              Comment  \n",
       "                                                       \n",
       "1  STOPPED: The named axiom is not in the axiom list.  "
      ]
     },
     "execution_count": 15,
     "metadata": {},
     "output_type": "execute_result"
    }
   ],
   "source": [
    "# Show that an unavailable axiom cannot be used.\n",
    "from IPython.display import display, Math, Markdown, Latex, display_markdown, HTML\n",
    "\n",
    "from altrea.boolean import Wff, Or, Not, And, Implies, Iff, Necessary, Possibly\n",
    "from altrea.rules import Proof\n",
    "\n",
    "import pandas as pd\n",
    "# To see available options run `pd.describe_option()` in a cell.\n",
    "pd.options.display.max_colwidth=500\n",
    "pd.options.display.max_rows = 999\n",
    "pd.options.display.html.use_mathjax = True\n",
    "\n",
    "prf4 = Proof()\n",
    "q = prf4.truefalse('q')\n",
    "prf4.setlogic('trivial')\n",
    "prf4.goal(q)\n",
    "prf4.axiom('lem', q)\n",
    "prf4.axiom('true',Or(q, And(q, Not(q, '~', '\\\\not'))))\n",
    "prf4.displaylog()\n",
    "prf4.displayproof(latex=0)"
   ]
  },
  {
   "cell_type": "code",
   "execution_count": 14,
   "id": "eeb47533-a07f-4e74-9439-f142b6e58302",
   "metadata": {},
   "outputs": [
    {
     "ename": "AttributeError",
     "evalue": "'NoneType' object has no attribute 'latex'",
     "output_type": "error",
     "traceback": [
      "\u001b[1;31m---------------------------------------------------------------------------\u001b[0m",
      "\u001b[1;31mAttributeError\u001b[0m                            Traceback (most recent call last)",
      "Cell \u001b[1;32mIn[14], line 16\u001b[0m\n\u001b[0;32m     14\u001b[0m q \u001b[38;5;241m=\u001b[39m prf5\u001b[38;5;241m.\u001b[39mtruth(\u001b[38;5;124m'\u001b[39m\u001b[38;5;124mq\u001b[39m\u001b[38;5;124m'\u001b[39m)\n\u001b[0;32m     15\u001b[0m prf5\u001b[38;5;241m.\u001b[39msetlogic(\u001b[38;5;124m'\u001b[39m\u001b[38;5;124mtrivial\u001b[39m\u001b[38;5;124m'\u001b[39m)\n\u001b[1;32m---> 16\u001b[0m \u001b[43mprf5\u001b[49m\u001b[38;5;241;43m.\u001b[39;49m\u001b[43mgoal\u001b[49m\u001b[43m(\u001b[49m\u001b[43mq\u001b[49m\u001b[43m)\u001b[49m\n\u001b[0;32m     17\u001b[0m \u001b[38;5;66;03m#prf5.useproof('lem', q)\u001b[39;00m\n\u001b[0;32m     18\u001b[0m prf5\u001b[38;5;241m.\u001b[39maxiom(\u001b[38;5;124m'\u001b[39m\u001b[38;5;124mtrue\u001b[39m\u001b[38;5;124m'\u001b[39m,Or(q, And(q, Not(q, \u001b[38;5;124m'\u001b[39m\u001b[38;5;124m~\u001b[39m\u001b[38;5;124m'\u001b[39m, \u001b[38;5;124m'\u001b[39m\u001b[38;5;130;01m\\\\\u001b[39;00m\u001b[38;5;124mnot\u001b[39m\u001b[38;5;124m'\u001b[39m))))\n",
      "File \u001b[1;32mE:\\Jupyter\\AltRea\\altrea\\rules.py:2051\u001b[0m, in \u001b[0;36mProof.goal\u001b[1;34m(self, goal, comment)\u001b[0m\n\u001b[0;32m   2049\u001b[0m     \u001b[38;5;28mself\u001b[39m\u001b[38;5;241m.\u001b[39mgoals_string \u001b[38;5;241m+\u001b[39m\u001b[38;5;241m=\u001b[39m \u001b[38;5;124m'\u001b[39m\u001b[38;5;124m'\u001b[39m\u001b[38;5;241m.\u001b[39mjoin([\u001b[38;5;124m'\u001b[39m\u001b[38;5;124m, \u001b[39m\u001b[38;5;124m'\u001b[39m,\u001b[38;5;28mstr\u001b[39m(goal)])\n\u001b[0;32m   2050\u001b[0m \u001b[38;5;28;01mif\u001b[39;00m \u001b[38;5;28mself\u001b[39m\u001b[38;5;241m.\u001b[39mgoals_latex \u001b[38;5;241m==\u001b[39m \u001b[38;5;124m'\u001b[39m\u001b[38;5;124m'\u001b[39m:\n\u001b[1;32m-> 2051\u001b[0m     \u001b[38;5;28mself\u001b[39m\u001b[38;5;241m.\u001b[39mgoals_latex \u001b[38;5;241m=\u001b[39m \u001b[43mgoal\u001b[49m\u001b[38;5;241;43m.\u001b[39;49m\u001b[43mlatex\u001b[49m()\n\u001b[0;32m   2052\u001b[0m \u001b[38;5;28;01melse\u001b[39;00m:\n\u001b[0;32m   2053\u001b[0m     \u001b[38;5;28mself\u001b[39m\u001b[38;5;241m.\u001b[39mgoals_latex \u001b[38;5;241m+\u001b[39m\u001b[38;5;241m=\u001b[39m \u001b[38;5;124m'\u001b[39m\u001b[38;5;124m'\u001b[39m\u001b[38;5;241m.\u001b[39mjoin([\u001b[38;5;124m'\u001b[39m\u001b[38;5;124m, \u001b[39m\u001b[38;5;124m'\u001b[39m,goal\u001b[38;5;241m.\u001b[39mlatex()]) \n",
      "\u001b[1;31mAttributeError\u001b[0m: 'NoneType' object has no attribute 'latex'"
     ]
    }
   ],
   "source": [
    "# Show that an unavailable saved proof cannot be used.\n",
    "from IPython.display import display, Math, Markdown, Latex, display_markdown, HTML\n",
    "\n",
    "from altrea.boolean import Wff, Or, Not, And, Implies, Iff, Necessary, Possibly\n",
    "from altrea.rules import Proof\n",
    "\n",
    "import pandas as pd\n",
    "# To see available options run `pd.describe_option()` in a cell.\n",
    "pd.options.display.max_colwidth=500\n",
    "pd.options.display.max_rows = 999\n",
    "pd.options.display.html.use_mathjax = True\n",
    "\n",
    "prf5 = Proof()\n",
    "q = prf5.truth('q')\n",
    "prf5.setlogic('trivial')\n",
    "prf5.goal(q)\n",
    "#prf5.useproof('lem', q)\n",
    "prf5.axiom('true',q)\n",
    "prf5.displaylog()\n",
    "prf5.displayproof(latex=0)"
   ]
  },
  {
   "cell_type": "code",
   "execution_count": 12,
   "id": "744bb446-02d1-4f9a-91dd-60e61fb2e26e",
   "metadata": {},
   "outputs": [
    {
     "data": {
      "text/html": [
       "<div>\n",
       "<style scoped>\n",
       "    .dataframe tbody tr th:only-of-type {\n",
       "        vertical-align: middle;\n",
       "    }\n",
       "\n",
       "    .dataframe tbody tr th {\n",
       "        vertical-align: top;\n",
       "    }\n",
       "\n",
       "    .dataframe thead th {\n",
       "        text-align: right;\n",
       "    }\n",
       "</style>\n",
       "<table border=\"1\" class=\"dataframe\">\n",
       "  <thead>\n",
       "    <tr style=\"text-align: right;\">\n",
       "      <th></th>\n",
       "      <th>$q$</th>\n",
       "      <th>|</th>\n",
       "      <th>$q$</th>\n",
       "      <th>Check</th>\n",
       "    </tr>\n",
       "  </thead>\n",
       "  <tbody>\n",
       "    <tr>\n",
       "      <th>0</th>\n",
       "      <td>True</td>\n",
       "      <td>|</td>\n",
       "      <td>True</td>\n",
       "      <td>OK</td>\n",
       "    </tr>\n",
       "    <tr>\n",
       "      <th>1</th>\n",
       "      <td>False</td>\n",
       "      <td>|</td>\n",
       "      <td>False</td>\n",
       "      <td>Invalid</td>\n",
       "    </tr>\n",
       "  </tbody>\n",
       "</table>\n",
       "</div>"
      ],
      "text/plain": [
       "     $q$  |    $q$    Check\n",
       "0   True  |   True       OK\n",
       "1  False  |  False  Invalid"
      ]
     },
     "execution_count": 12,
     "metadata": {},
     "output_type": "execute_result"
    }
   ],
   "source": [
    "prf5.truthtable()"
   ]
  },
  {
   "cell_type": "code",
   "execution_count": 1,
   "id": "1c946e51-0906-44aa-ae60-b81569dd4c7b",
   "metadata": {},
   "outputs": [
    {
     "name": "stdout",
     "output_type": "stream",
     "text": [
      "The proofdetails table for logic trivial does not exist.\n",
      "The proofs table for logic trivial does not exist.\n",
      "Axioms associated with trivial have been deleted.\n",
      "Operators associated with trivial have been deleted.\n",
      "The record for trivial in the logics table has been deleted.\n"
     ]
    }
   ],
   "source": [
    "import altrea.data\n",
    "altrea.data.deletelogic('trivial')"
   ]
  },
  {
   "cell_type": "code",
   "execution_count": null,
   "id": "3d50a5d9-6f9d-4011-be26-4b697e76c80e",
   "metadata": {},
   "outputs": [],
   "source": [
    "import altrea.data\n"
   ]
  }
 ],
 "metadata": {
  "kernelspec": {
   "display_name": "Python 3 (ipykernel)",
   "language": "python",
   "name": "python3"
  },
  "language_info": {
   "codemirror_mode": {
    "name": "ipython",
    "version": 3
   },
   "file_extension": ".py",
   "mimetype": "text/x-python",
   "name": "python",
   "nbconvert_exporter": "python",
   "pygments_lexer": "ipython3",
   "version": "3.12.1"
  }
 },
 "nbformat": 4,
 "nbformat_minor": 5
}
