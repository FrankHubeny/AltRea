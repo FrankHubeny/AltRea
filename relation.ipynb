{
 "cells": [
  {
   "cell_type": "code",
   "execution_count": null,
   "id": "a803e0aa-58a2-4641-bd27-7490d70f20dd",
   "metadata": {},
   "outputs": [],
   "source": [
    "# Relation\n",
    "\n",
    "Based on Frederic Fitch's Symbolic Logic\n",
    "\n",
    "A. [Logic Database Creation](#creation)"
   ]
  },
  {
   "cell_type": "code",
   "execution_count": null,
   "id": "6f55ae71-42f1-4c9e-be94-b4bc5ff3ed68",
   "metadata": {},
   "outputs": [],
   "source": [
    "import altrea.data\n",
    "#altrea.data.deletelogic(\"relation\")"
   ]
  },
  {
   "cell_type": "markdown",
   "id": "de18d334-33d8-43be-b21c-871f897fc3a4",
   "metadata": {},
   "source": [
    "<a id=\"creation\"></a>\n",
    "## Logic Database Creation"
   ]
  },
  {
   "cell_type": "code",
   "execution_count": null,
   "id": "9485b54a-b300-48f0-87ad-a11eee952a34",
   "metadata": {},
   "outputs": [],
   "source": [
    "import altrea.data\n",
    "\n",
    "logic = 'relation'\n",
    "connectors = [\n",
    "    (logic, 'And', 'Conjunction'), \n",
    "    (logic, 'ConsistentWith', 'Conjunction'), \n",
    "    (logic, 'Or', 'Disjunction'), \n",
    "    (logic, 'Not', 'Negation'),\n",
    "    (logic, 'Implies', 'Implication'), \n",
    "    (logic, 'StrictImplies', 'Implication'),\n",
    "    (logic, 'Iff', 'Coimplication'), \n",
    "    (logic, 'StrictIff', 'Coimplication'), \n",
    "    (logic, 'Necessary', 'Modal Necessarily'), \n",
    "    (logic, 'Possibly', 'Modal Possibly'),\n",
    "]\n",
    "rules = [\n",
    "    (logic, 's coimp intro', 'ConclusionPremises(StrictIff({0}, {1}), [Necessary(Iff({0}, {1}))])', '$\\\\backsimeq~$I', 'Strict Coimplication Introduction'),\n",
    "    (logic, 's coimp elim', 'ConclusionPremises(Necessary(Iff({0}, {1})), [StrictIff({0}, {1})])', '$\\\\backsimeq~$E', 'Strict Coimplication Elimination'),\n",
    "    (logic, 'coimp intro', 'ConclusionPremises(Iff({0}, {1}), [And(Implies({0}, {1}), Implies({1}, {0}))])', '$\\\\equiv~$I', 'Coimplication Introduction'),\n",
    "    (logic, 'coimp elim', 'ConclusionPremises(And(Implies({0}, {1}), Implies({1}, {0})), [Iff({0}, {1})])', '$\\\\equiv~$E', 'Coimplication Elimination'),\n",
    "    (logic, 's imp intro', 'ConclusionPremises(StrictImplies({0}, {1}), [Necessary(Implies({0}, {1}))])', '$\\\\prec~$I', 'Strict Implication Introduction'),\n",
    "    (logic, 's imp elim', 'ConclusionPremises(Necessary(Implies({0}, {1})), [StrictImplies({0}, {1})])', '$\\\\prec~$E', 'Strict Implication Elimination'),\n",
    "    (logic, 'consistent intro', 'ConclusionPremises(ConsistentWith({0}, {1}), [Possibly(And({0}, {1}))])', '$\\\\circ~$I', 'Consistent With Introduction'),\n",
    "    (logic, 'consistent elim', 'ConclusionPremises(Possibly(And({0}, {1})), [ConsistentWith({0}, {1})])', '$\\\\circ~$E', 'Consistent With Elimination'),\n",
    "    (logic, 'imp elim', 'ConclusionPremises({1}, [{0}, Implies({0}, {1})])', '$\\\\supset~$E', 'Implication Elimination'),\n",
    "    (logic, 'nec elim', 'ConclusionPremises({0}, [Necessary({0})])', '$\\\\Box~$E', 'Necessary Elimination'),\n",
    "    (logic, 'conj elim l', 'ConclusionPremises({0}, [And({0}, {1})])', '$\\\\wedge~$E-L', 'Conjunction Elimination Left Side'),\n",
    "    (logic, 'conj elim r', 'ConclusionPremises({1}, [And({0}, {1})])', '$\\\\wedge~$E-R', 'Conjunction Elimination Right Side'),\n",
    "    (logic, 'conj intro', 'ConclusionPremises(And({0}, {1}), [{0}, {1}])', '$\\\\wedge~$I', 'Conjunction Introduction'),\n",
    "    (logic, 'disj elim', 'ConclusionPremises({2}, [Or({0}, {1}), Implies({0}, {2}), Implies({1}, {2})])', '$\\\\lor~$E', 'Disjunction Elimination'),\n",
    "    (logic, 'disj elim l', 'ConclusionPremises({2}, [Or({0}, {1}), Implies({0}, {2}), Implies({1}, Falsehood())])', '$\\\\lor~$E-L', 'Disjunction Elimination Left'),\n",
    "    (logic, 'disj elim r', 'ConclusionPremises({2}, [Or({0}, {1}), Implies({0}, Falsehood()), Implies({1}, {2})])', '$\\\\lor~$E-R', 'Disjunction Elimination Right'),\n",
    "    (logic, \"disj intro r\", \"ConclusionPremises(Or({0}, {1}), [{0}])\", \"$\\\\lor~$I-R\", \"Disjunction Introduction Right Side\"),\n",
    "    (logic, 'neg elim', 'ConclusionPremises(Falsehood(And({0}, Not({0}))), [{0}, Not({0})])', '$\\\\lnot~$E', 'Negation Elimination'),\n",
    "    (logic, \"neg intro\", \"ConclusionPremises(Not({0}), [Implies({0}, Falsehood())])\", \"$\\\\lnot~$I\", \"Negation Introduction\"),\n",
    "    (logic, 'pos intro', 'ConclusionPremises(Possibly({0}), [{0}])', '$\\\\Diamond~$I', 'Possibly Introduction'),\n",
    "]\n",
    "definitions = [\n",
    "]\n",
    "axioms = [                 \n",
    "]\n",
    "altrea.data.addlogic(logic, logic, 'Relations from Symbolic Logic by Fitch', connectors, rules, definitions, axioms)"
   ]
  }
 ],
 "metadata": {
  "kernelspec": {
   "display_name": "Python 3 (ipykernel)",
   "language": "python",
   "name": "python3"
  },
  "language_info": {
   "codemirror_mode": {
    "name": "ipython",
    "version": 3
   },
   "file_extension": ".py",
   "mimetype": "text/x-python",
   "name": "python",
   "nbconvert_exporter": "python",
   "pygments_lexer": "ipython3",
   "version": "3.12.1"
  }
 },
 "nbformat": 4,
 "nbformat_minor": 5
}
