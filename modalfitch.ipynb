{
 "cells": [
  {
   "cell_type": "markdown",
   "id": "17865cb5-500a-4e94-b3c3-dbf17f7b4e60",
   "metadata": {},
   "source": [
    "# Modal Logic from Frederic Fitch's Symbolic Logic: An Introduction\n",
    "\n",
    "AltRea uses a natural deduction base version for modal logic.  Frederic Fitch provides one in chapters 11, 12 and 13 of his Symbolic Logic: An Introduction: https://archive.org/details/symboliclogicint0000fitc/page/70/mode/2up\n",
    "\n",
    "This database was created to test AltRea based on the problems provided in Fitch's text.\n",
    "\n",
    "1. [Logic Database Creation](#createion)\n",
    "\n",
    "2. [Necessity](#necessary)\n",
    "\n",
    "3. [Possibility](#possibly)\n",
    "\n",
    "4. [Strict Coimplication](#strictcoimplication)"
   ]
  },
  {
   "cell_type": "markdown",
   "id": "66a43589-f866-4291-bbbb-e6d9b2b978ae",
   "metadata": {},
   "source": [
    "<a id='creation'></a>\n",
    "## Logic Database Creation"
   ]
  },
  {
   "cell_type": "markdown",
   "id": "89b6ec36-4de1-475b-beff-394a2421b042",
   "metadata": {},
   "source": [
    "<a id='necessary'></a>\n",
    "## Necessity"
   ]
  },
  {
   "cell_type": "markdown",
   "id": "53bec987-822f-4d3d-892c-237aad35e7d1",
   "metadata": {},
   "source": [
    "<a id='possibly'></a>\n",
    "## Possibly"
   ]
  },
  {
   "cell_type": "markdown",
   "id": "4254ef92-7941-408c-975c-2f71d6089419",
   "metadata": {},
   "source": [
    "<a id='strictcoimplication'></a>\n",
    "## Strict Coimplication"
   ]
  },
  {
   "cell_type": "code",
   "execution_count": null,
   "id": "aae5b7b3-f663-4749-9055-9fea9b875050",
   "metadata": {},
   "outputs": [],
   "source": []
  }
 ],
 "metadata": {
  "kernelspec": {
   "display_name": "Python 3 (ipykernel)",
   "language": "python",
   "name": "python3"
  },
  "language_info": {
   "codemirror_mode": {
    "name": "ipython",
    "version": 3
   },
   "file_extension": ".py",
   "mimetype": "text/x-python",
   "name": "python",
   "nbconvert_exporter": "python",
   "pygments_lexer": "ipython3",
   "version": "3.12.1"
  }
 },
 "nbformat": 4,
 "nbformat_minor": 5
}
